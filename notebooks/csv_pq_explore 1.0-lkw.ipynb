{
 "cells": [
  {
   "cell_type": "code",
   "execution_count": 2,
   "metadata": {},
   "outputs": [],
   "source": [
    "import pandas as pd\n",
    "import matplotlib.pyplot as plt\n",
    "import plotly.express as px"
   ]
  },
  {
   "cell_type": "code",
   "execution_count": 14,
   "metadata": {},
   "outputs": [],
   "source": [
    "# read csv file 104_113.csv in 02_intermediate folder as dataframe and convert to pq format\n",
    "df_csv = pd.read_csv('../data/02_intermediate/104_113.csv')\n",
    "df_csv.to_parquet('../data/02_intermediate/104_113.pq')"
   ]
  },
  {
   "cell_type": "code",
   "execution_count": 7,
   "metadata": {},
   "outputs": [
    {
     "data": {
      "text/html": [
       "<div>\n",
       "<style scoped>\n",
       "    .dataframe tbody tr th:only-of-type {\n",
       "        vertical-align: middle;\n",
       "    }\n",
       "\n",
       "    .dataframe tbody tr th {\n",
       "        vertical-align: top;\n",
       "    }\n",
       "\n",
       "    .dataframe thead th {\n",
       "        text-align: right;\n",
       "    }\n",
       "</style>\n",
       "<table border=\"1\" class=\"dataframe\">\n",
       "  <thead>\n",
       "    <tr style=\"text-align: right;\">\n",
       "      <th></th>\n",
       "      <th>timestamp</th>\n",
       "      <th>SHT40_temp</th>\n",
       "      <th>SHT40_Humidity</th>\n",
       "      <th>A1_Sensor</th>\n",
       "      <th>A1_Resistance</th>\n",
       "    </tr>\n",
       "  </thead>\n",
       "  <tbody>\n",
       "    <tr>\n",
       "      <th>13223679</th>\n",
       "      <td>1682321617130</td>\n",
       "      <td>26.06</td>\n",
       "      <td>44.66</td>\n",
       "      <td>274.0</td>\n",
       "      <td>14206203.0</td>\n",
       "    </tr>\n",
       "    <tr>\n",
       "      <th>13223680</th>\n",
       "      <td>1682321617180</td>\n",
       "      <td>26.03</td>\n",
       "      <td>44.67</td>\n",
       "      <td>273.0</td>\n",
       "      <td>14258791.0</td>\n",
       "    </tr>\n",
       "    <tr>\n",
       "      <th>13223681</th>\n",
       "      <td>1682321617230</td>\n",
       "      <td>26.05</td>\n",
       "      <td>44.71</td>\n",
       "      <td>273.0</td>\n",
       "      <td>14258791.0</td>\n",
       "    </tr>\n",
       "    <tr>\n",
       "      <th>13223682</th>\n",
       "      <td>1682321617279</td>\n",
       "      <td>26.05</td>\n",
       "      <td>44.68</td>\n",
       "      <td>273.0</td>\n",
       "      <td>14258791.0</td>\n",
       "    </tr>\n",
       "    <tr>\n",
       "      <th>13223683</th>\n",
       "      <td>1682321617330</td>\n",
       "      <td>26.05</td>\n",
       "      <td>44.67</td>\n",
       "      <td>273.0</td>\n",
       "      <td>14258791.0</td>\n",
       "    </tr>\n",
       "  </tbody>\n",
       "</table>\n",
       "</div>"
      ],
      "text/plain": [
       "              timestamp  SHT40_temp  SHT40_Humidity  A1_Sensor  A1_Resistance\n",
       "13223679  1682321617130       26.06           44.66      274.0     14206203.0\n",
       "13223680  1682321617180       26.03           44.67      273.0     14258791.0\n",
       "13223681  1682321617230       26.05           44.71      273.0     14258791.0\n",
       "13223682  1682321617279       26.05           44.68      273.0     14258791.0\n",
       "13223683  1682321617330       26.05           44.67      273.0     14258791.0"
      ]
     },
     "execution_count": 7,
     "metadata": {},
     "output_type": "execute_result"
    }
   ],
   "source": [
    "# examine the dataframe when it is in csv format\n",
    "df_csv.tail()"
   ]
  },
  {
   "cell_type": "code",
   "execution_count": 15,
   "metadata": {},
   "outputs": [],
   "source": [
    "# create dataframe from pq file\n",
    "df_pq = pd.read_parquet('../data/02_intermediate/104_113.pq')"
   ]
  },
  {
   "cell_type": "code",
   "execution_count": 16,
   "metadata": {},
   "outputs": [
    {
     "data": {
      "text/html": [
       "<div>\n",
       "<style scoped>\n",
       "    .dataframe tbody tr th:only-of-type {\n",
       "        vertical-align: middle;\n",
       "    }\n",
       "\n",
       "    .dataframe tbody tr th {\n",
       "        vertical-align: top;\n",
       "    }\n",
       "\n",
       "    .dataframe thead th {\n",
       "        text-align: right;\n",
       "    }\n",
       "</style>\n",
       "<table border=\"1\" class=\"dataframe\">\n",
       "  <thead>\n",
       "    <tr style=\"text-align: right;\">\n",
       "      <th></th>\n",
       "      <th>timestamp</th>\n",
       "      <th>SHT40_temp</th>\n",
       "      <th>SHT40_Humidity</th>\n",
       "      <th>A1_Sensor</th>\n",
       "      <th>A1_Resistance</th>\n",
       "    </tr>\n",
       "  </thead>\n",
       "  <tbody>\n",
       "    <tr>\n",
       "      <th>13223679</th>\n",
       "      <td>1682321617130</td>\n",
       "      <td>26.06</td>\n",
       "      <td>44.66</td>\n",
       "      <td>274.0</td>\n",
       "      <td>14206203.0</td>\n",
       "    </tr>\n",
       "    <tr>\n",
       "      <th>13223680</th>\n",
       "      <td>1682321617180</td>\n",
       "      <td>26.03</td>\n",
       "      <td>44.67</td>\n",
       "      <td>273.0</td>\n",
       "      <td>14258791.0</td>\n",
       "    </tr>\n",
       "    <tr>\n",
       "      <th>13223681</th>\n",
       "      <td>1682321617230</td>\n",
       "      <td>26.05</td>\n",
       "      <td>44.71</td>\n",
       "      <td>273.0</td>\n",
       "      <td>14258791.0</td>\n",
       "    </tr>\n",
       "    <tr>\n",
       "      <th>13223682</th>\n",
       "      <td>1682321617279</td>\n",
       "      <td>26.05</td>\n",
       "      <td>44.68</td>\n",
       "      <td>273.0</td>\n",
       "      <td>14258791.0</td>\n",
       "    </tr>\n",
       "    <tr>\n",
       "      <th>13223683</th>\n",
       "      <td>1682321617330</td>\n",
       "      <td>26.05</td>\n",
       "      <td>44.67</td>\n",
       "      <td>273.0</td>\n",
       "      <td>14258791.0</td>\n",
       "    </tr>\n",
       "  </tbody>\n",
       "</table>\n",
       "</div>"
      ],
      "text/plain": [
       "              timestamp  SHT40_temp  SHT40_Humidity  A1_Sensor  A1_Resistance\n",
       "13223679  1682321617130       26.06           44.66      274.0     14206203.0\n",
       "13223680  1682321617180       26.03           44.67      273.0     14258791.0\n",
       "13223681  1682321617230       26.05           44.71      273.0     14258791.0\n",
       "13223682  1682321617279       26.05           44.68      273.0     14258791.0\n",
       "13223683  1682321617330       26.05           44.67      273.0     14258791.0"
      ]
     },
     "execution_count": 16,
     "metadata": {},
     "output_type": "execute_result"
    }
   ],
   "source": [
    "df_pq.tail()"
   ]
  },
  {
   "cell_type": "code",
   "execution_count": 17,
   "metadata": {},
   "outputs": [
    {
     "data": {
      "image/png": "[encoded data removed]",
      "text/plain": [
       "<Figure size 640x480 with 1 Axes>"
      ]
     },
     "metadata": {},
     "output_type": "display_data"
    }
   ],
   "source": [
    "# plot the first 5000 data point of A1_Sensor from df_pq\n",
    "plt.plot(df_pq['A1_Sensor'])\n",
    "plt.show()"
   ]
  },
  {
   "cell_type": "markdown",
   "metadata": {},
   "source": [
    "---\n",
    "103 Data exploration and trimming"
   ]
  },
  {
   "cell_type": "markdown",
   "metadata": {},
   "source": []
  },
  {
   "cell_type": "code",
   "execution_count": 41,
   "metadata": {},
   "outputs": [],
   "source": [
    "# 103 df to pq from 01raw\n",
    "df_103_csv = pd.read_csv('../data/01_raw/103_SHT_SMD.txt',delimiter='\\t')\n",
    "df_103_csv.to_parquet('../data/01_raw/103.pq')"
   ]
  },
  {
   "cell_type": "code",
   "execution_count": 42,
   "metadata": {},
   "outputs": [
    {
     "data": {
      "text/html": [
       "<div>\n",
       "<style scoped>\n",
       "    .dataframe tbody tr th:only-of-type {\n",
       "        vertical-align: middle;\n",
       "    }\n",
       "\n",
       "    .dataframe tbody tr th {\n",
       "        vertical-align: top;\n",
       "    }\n",
       "\n",
       "    .dataframe thead th {\n",
       "        text-align: right;\n",
       "    }\n",
       "</style>\n",
       "<table border=\"1\" class=\"dataframe\">\n",
       "  <thead>\n",
       "    <tr style=\"text-align: right;\">\n",
       "      <th></th>\n",
       "      <th>timestamp</th>\n",
       "      <th>SHT40_temp</th>\n",
       "      <th>SHT40_Humidity</th>\n",
       "      <th>A0_3V_OFF</th>\n",
       "      <th>A1_Sensor</th>\n",
       "      <th>A1_Resistance</th>\n",
       "    </tr>\n",
       "  </thead>\n",
       "  <tbody>\n",
       "    <tr>\n",
       "      <th>0</th>\n",
       "      <td>1.681630e+12</td>\n",
       "      <td>29.24</td>\n",
       "      <td>43.71</td>\n",
       "      <td>8484</td>\n",
       "      <td>2963</td>\n",
       "      <td>1177573.50</td>\n",
       "    </tr>\n",
       "    <tr>\n",
       "      <th>1</th>\n",
       "      <td>1.681630e+12</td>\n",
       "      <td>29.23</td>\n",
       "      <td>43.74</td>\n",
       "      <td>8484</td>\n",
       "      <td>2962</td>\n",
       "      <td>1178021.62</td>\n",
       "    </tr>\n",
       "    <tr>\n",
       "      <th>2</th>\n",
       "      <td>1.681630e+12</td>\n",
       "      <td>29.22</td>\n",
       "      <td>43.72</td>\n",
       "      <td>8484</td>\n",
       "      <td>2962</td>\n",
       "      <td>1178021.62</td>\n",
       "    </tr>\n",
       "    <tr>\n",
       "      <th>3</th>\n",
       "      <td>1.681630e+12</td>\n",
       "      <td>29.24</td>\n",
       "      <td>43.67</td>\n",
       "      <td>8483</td>\n",
       "      <td>2961</td>\n",
       "      <td>1178470.00</td>\n",
       "    </tr>\n",
       "    <tr>\n",
       "      <th>4</th>\n",
       "      <td>1.681630e+12</td>\n",
       "      <td>29.22</td>\n",
       "      <td>43.70</td>\n",
       "      <td>8483</td>\n",
       "      <td>2962</td>\n",
       "      <td>1178021.62</td>\n",
       "    </tr>\n",
       "  </tbody>\n",
       "</table>\n",
       "</div>"
      ],
      "text/plain": [
       "      timestamp  SHT40_temp  SHT40_Humidity  A0_3V_OFF  A1_Sensor  \\\n",
       "0  1.681630e+12       29.24           43.71       8484       2963   \n",
       "1  1.681630e+12       29.23           43.74       8484       2962   \n",
       "2  1.681630e+12       29.22           43.72       8484       2962   \n",
       "3  1.681630e+12       29.24           43.67       8483       2961   \n",
       "4  1.681630e+12       29.22           43.70       8483       2962   \n",
       "\n",
       "   A1_Resistance  \n",
       "0     1177573.50  \n",
       "1     1178021.62  \n",
       "2     1178021.62  \n",
       "3     1178470.00  \n",
       "4     1178021.62  "
      ]
     },
     "execution_count": 42,
     "metadata": {},
     "output_type": "execute_result"
    }
   ],
   "source": [
    "# examine 103pq df delimited by tab\n",
    "df_103_pq = pd.read_parquet('../data/01_raw/103.pq')\n",
    "df_103_pq.head()"
   ]
  },
  {
   "cell_type": "code",
   "execution_count": 44,
   "metadata": {},
   "outputs": [
    {
     "name": "stdout",
     "output_type": "stream",
     "text": [
      "3215\n"
     ]
    },
    {
     "data": {
      "text/plain": [
       "545347"
      ]
     },
     "execution_count": 44,
     "metadata": {},
     "output_type": "execute_result"
    }
   ],
   "source": [
    "# find the maximum value index of A1_Sensor in 103.pq and delete data before maximum value index\n",
    "max_idx = df_103_pq['A1_Sensor'].idxmax()\n",
    "print(max_idx)\n",
    "len(df_103_pq)"
   ]
  },
  {
   "cell_type": "code",
   "execution_count": 45,
   "metadata": {},
   "outputs": [
    {
     "data": {
      "text/html": [
       "<div>\n",
       "<style scoped>\n",
       "    .dataframe tbody tr th:only-of-type {\n",
       "        vertical-align: middle;\n",
       "    }\n",
       "\n",
       "    .dataframe tbody tr th {\n",
       "        vertical-align: top;\n",
       "    }\n",
       "\n",
       "    .dataframe thead th {\n",
       "        text-align: right;\n",
       "    }\n",
       "</style>\n",
       "<table border=\"1\" class=\"dataframe\">\n",
       "  <thead>\n",
       "    <tr style=\"text-align: right;\">\n",
       "      <th></th>\n",
       "      <th>timestamp</th>\n",
       "      <th>SHT40_temp</th>\n",
       "      <th>SHT40_Humidity</th>\n",
       "      <th>A0_3V_OFF</th>\n",
       "      <th>A1_Sensor</th>\n",
       "      <th>A1_Resistance</th>\n",
       "    </tr>\n",
       "  </thead>\n",
       "  <tbody>\n",
       "    <tr>\n",
       "      <th>3215</th>\n",
       "      <td>1.681630e+12</td>\n",
       "      <td>30.35</td>\n",
       "      <td>43.85</td>\n",
       "      <td>8487</td>\n",
       "      <td>26248</td>\n",
       "      <td>-137.15</td>\n",
       "    </tr>\n",
       "    <tr>\n",
       "      <th>3216</th>\n",
       "      <td>1.681630e+12</td>\n",
       "      <td>30.34</td>\n",
       "      <td>43.86</td>\n",
       "      <td>8487</td>\n",
       "      <td>26176</td>\n",
       "      <td>275.06</td>\n",
       "    </tr>\n",
       "    <tr>\n",
       "      <th>3217</th>\n",
       "      <td>1.681630e+12</td>\n",
       "      <td>30.35</td>\n",
       "      <td>43.90</td>\n",
       "      <td>8486</td>\n",
       "      <td>26101</td>\n",
       "      <td>706.86</td>\n",
       "    </tr>\n",
       "    <tr>\n",
       "      <th>3218</th>\n",
       "      <td>1.681630e+12</td>\n",
       "      <td>30.36</td>\n",
       "      <td>43.92</td>\n",
       "      <td>8486</td>\n",
       "      <td>26036</td>\n",
       "      <td>1083.11</td>\n",
       "    </tr>\n",
       "    <tr>\n",
       "      <th>3219</th>\n",
       "      <td>1.681630e+12</td>\n",
       "      <td>30.36</td>\n",
       "      <td>43.98</td>\n",
       "      <td>8486</td>\n",
       "      <td>25973</td>\n",
       "      <td>1449.58</td>\n",
       "    </tr>\n",
       "  </tbody>\n",
       "</table>\n",
       "</div>"
      ],
      "text/plain": [
       "         timestamp  SHT40_temp  SHT40_Humidity  A0_3V_OFF  A1_Sensor  \\\n",
       "3215  1.681630e+12       30.35           43.85       8487      26248   \n",
       "3216  1.681630e+12       30.34           43.86       8487      26176   \n",
       "3217  1.681630e+12       30.35           43.90       8486      26101   \n",
       "3218  1.681630e+12       30.36           43.92       8486      26036   \n",
       "3219  1.681630e+12       30.36           43.98       8486      25973   \n",
       "\n",
       "      A1_Resistance  \n",
       "3215        -137.15  \n",
       "3216         275.06  \n",
       "3217         706.86  \n",
       "3218        1083.11  \n",
       "3219        1449.58  "
      ]
     },
     "execution_count": 45,
     "metadata": {},
     "output_type": "execute_result"
    }
   ],
   "source": [
    "trim_df = df_103_pq[max_idx:]\n",
    "len(trim_df)\n",
    "\n",
    "# write a function verify that df_103_pq - trim_df = max_idx if true return ok\n",
    "len(df_103_pq) - len(trim_df) == max_idx\n",
    "\n",
    "def len_verify(df1,df2):\n",
    "    if len(df1) - len(df2) == max_idx:\n",
    "        return True\n",
    "    else:\n",
    "        return False\n",
    "\n",
    "len_verify(df_103_pq,trim_df)\n",
    "trim_df.head()"
   ]
  },
  {
   "cell_type": "code",
   "execution_count": null,
   "metadata": {},
   "outputs": [],
   "source": [
    "# plot trim_df with plotly\n",
    "fig = px.line(trim_df, y='A1_Sensor')\n",
    "fig.show()"
   ]
  },
  {
   "cell_type": "code",
   "execution_count": 38,
   "metadata": {},
   "outputs": [
    {
     "data": {
      "text/plain": [
       "0      3215\n",
       "1    153821\n",
       "2    353821\n",
       "dtype: int64"
      ]
     },
     "execution_count": 38,
     "metadata": {},
     "output_type": "execute_result"
    }
   ],
   "source": [
    "# drop repeated timestamp value in trim_df\n",
    "trim_copy = trim_df.copy()\n",
    "trim_copy.drop_duplicates(subset='timestamp',keep='first',inplace=True)\n",
    "dup_idx = pd.Series(trim_copy.index)\n",
    "dup_idx\n"
   ]
  },
  {
   "cell_type": "code",
   "execution_count": null,
   "metadata": {},
   "outputs": [],
   "source": []
  },
  {
   "cell_type": "code",
   "execution_count": null,
   "metadata": {},
   "outputs": [],
   "source": []
  }
 ],
 "metadata": {
  "kernelspec": {
   "display_name": "kedro-env",
   "language": "python",
   "name": "python3"
  },
  "language_info": {
   "codemirror_mode": {
    "name": "ipython",
    "version": 3
   },
   "file_extension": ".py",
   "mimetype": "text/x-python",
   "name": "python",
   "nbconvert_exporter": "python",
   "pygments_lexer": "ipython3",
   "version": "3.10.13"
  }
 },
 "nbformat": 4,
 "nbformat_minor": 2
}
