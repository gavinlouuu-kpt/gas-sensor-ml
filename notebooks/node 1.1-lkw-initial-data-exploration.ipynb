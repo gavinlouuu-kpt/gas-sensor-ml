{
 "cells": [
  {
   "cell_type": "code",
   "execution_count": 1,
   "metadata": {},
   "outputs": [],
   "source": [
    "import os\n",
    "import numpy as np\n",
    "import pandas as pd\n",
    "import matplotlib.pyplot as plt\n",
    "from scipy.signal import find_peaks"
   ]
  },
  {
   "cell_type": "markdown",
   "metadata": {},
   "source": [
    "### Write function as I explore in notebook"
   ]
  },
  {
   "cell_type": "code",
   "execution_count": 2,
   "metadata": {},
   "outputs": [],
   "source": [
    "# Read data \n",
    "# specify file name\n",
    "\n",
    "exp_no = 104\n",
    "file_name = f\"{exp_no}_SHT_SMD.txt\"\n",
    "file_path = f\"../data/01_raw/{file_name}\"\n",
    "df = pd.read_csv(file_path, sep=',', usecols=['timestamp', 'SHT40_temp', 'SHT40_Humidity', 'A1_Sensor', 'A1_Resistance'])\n",
    "\n",
    "\n"
   ]
  },
  {
   "cell_type": "code",
   "execution_count": 3,
   "metadata": {},
   "outputs": [],
   "source": [
    "# identify all peaks including high and low peaks, and then find the index of smaller peak by compariing\n",
    "# the height of two adjacent peaks\n",
    "# put the index of the smaller and larger peaks into two lists\n",
    "\n",
    "def _hi_lo_peak(x: pd.DataFrame) -> pd.DataFrame:\n",
    "    peaks, properties = find_peaks(x['A1_Sensor'], width=50, height=1)\n",
    "    peak_heights = properties['peak_heights']\n",
    "# Determine smaller and larger peaks\n",
    "    smaller_peaks, larger_peaks = [], []\n",
    "    for i in range(len(peaks) - 1):\n",
    "        if peak_heights[i] > peak_heights[i + 1]:\n",
    "            larger_peaks.append(peaks[i])\n",
    "            smaller_peaks.append(peaks[i + 1])\n",
    "    # smaller_peaks_df = x.iloc[smaller_peaks]\n",
    "    return smaller_peaks"
   ]
  },
  {
   "cell_type": "code",
   "execution_count": 5,
   "metadata": {},
   "outputs": [],
   "source": [
    "def preprocess_data_stack(sp: pd.DataFrame, df: pd.DataFrame) -> pd.DataFrame:\n",
    "    df_stacked_list = []\n",
    "    for i in range(len(sp) - 1):\n",
    "        df_subset = df.iloc[sp[i]:sp[i + 1]].copy()\n",
    "        df_subset['exp_no'] = i\n",
    "        df_subset['timestamp'] -= df_subset['timestamp'].iloc[0]\n",
    "        df_stacked_list.append(df_subset)\n",
    "        df_stacked = pd.concat(df_stacked_list, ignore_index=True)\n",
    "    return df_stacked"
   ]
  },
  {
   "cell_type": "code",
   "execution_count": 24,
   "metadata": {},
   "outputs": [],
   "source": [
    "df_stacked = preprocess_data_stack(_hi_lo_peak(df), df)"
   ]
  },
  {
   "cell_type": "code",
   "execution_count": 26,
   "metadata": {},
   "outputs": [
    {
     "data": {
      "text/html": [
       "<div>\n",
       "<style scoped>\n",
       "    .dataframe tbody tr th:only-of-type {\n",
       "        vertical-align: middle;\n",
       "    }\n",
       "\n",
       "    .dataframe tbody tr th {\n",
       "        vertical-align: top;\n",
       "    }\n",
       "\n",
       "    .dataframe thead th {\n",
       "        text-align: right;\n",
       "    }\n",
       "</style>\n",
       "<table border=\"1\" class=\"dataframe\">\n",
       "  <thead>\n",
       "    <tr style=\"text-align: right;\">\n",
       "      <th></th>\n",
       "      <th>timestamp</th>\n",
       "      <th>SHT40_temp</th>\n",
       "      <th>SHT40_Humidity</th>\n",
       "      <th>A1_Sensor</th>\n",
       "      <th>A1_Resistance</th>\n",
       "      <th>exp_no</th>\n",
       "    </tr>\n",
       "  </thead>\n",
       "  <tbody>\n",
       "    <tr>\n",
       "      <th>844593</th>\n",
       "      <td>181900</td>\n",
       "      <td>26.56</td>\n",
       "      <td>40.67</td>\n",
       "      <td>1598.0</td>\n",
       "      <td>2311577.00</td>\n",
       "      <td>231</td>\n",
       "    </tr>\n",
       "    <tr>\n",
       "      <th>844594</th>\n",
       "      <td>181949</td>\n",
       "      <td>26.56</td>\n",
       "      <td>40.72</td>\n",
       "      <td>1596.0</td>\n",
       "      <td>2314661.50</td>\n",
       "      <td>231</td>\n",
       "    </tr>\n",
       "    <tr>\n",
       "      <th>844595</th>\n",
       "      <td>182000</td>\n",
       "      <td>26.58</td>\n",
       "      <td>40.80</td>\n",
       "      <td>1597.0</td>\n",
       "      <td>2313118.25</td>\n",
       "      <td>231</td>\n",
       "    </tr>\n",
       "    <tr>\n",
       "      <th>844596</th>\n",
       "      <td>182050</td>\n",
       "      <td>26.57</td>\n",
       "      <td>40.84</td>\n",
       "      <td>1601.0</td>\n",
       "      <td>2306964.50</td>\n",
       "      <td>231</td>\n",
       "    </tr>\n",
       "    <tr>\n",
       "      <th>844597</th>\n",
       "      <td>182100</td>\n",
       "      <td>26.58</td>\n",
       "      <td>40.89</td>\n",
       "      <td>1601.0</td>\n",
       "      <td>2306964.50</td>\n",
       "      <td>231</td>\n",
       "    </tr>\n",
       "  </tbody>\n",
       "</table>\n",
       "</div>"
      ],
      "text/plain": [
       "        timestamp  SHT40_temp  SHT40_Humidity  A1_Sensor  A1_Resistance  \\\n",
       "844593     181900       26.56           40.67     1598.0     2311577.00   \n",
       "844594     181949       26.56           40.72     1596.0     2314661.50   \n",
       "844595     182000       26.58           40.80     1597.0     2313118.25   \n",
       "844596     182050       26.57           40.84     1601.0     2306964.50   \n",
       "844597     182100       26.58           40.89     1601.0     2306964.50   \n",
       "\n",
       "        exp_no  \n",
       "844593     231  \n",
       "844594     231  \n",
       "844595     231  \n",
       "844596     231  \n",
       "844597     231  "
      ]
     },
     "execution_count": 26,
     "metadata": {},
     "output_type": "execute_result"
    }
   ],
   "source": [
    "df_stacked.tail()"
   ]
  },
  {
   "cell_type": "markdown",
   "metadata": {},
   "source": [
    "# Bucketing\n",
    "Bucketing all time variable under uniformed buckets to align features\n",
    "- Define minimum t and maximum t\n",
    "- Form a bucket per 200ms\n",
    "- Average n number of values in the bucket\n",
    "\n",
    "examine all exp_no\n",
    "determine min and max that will be applied uniformly\n"
   ]
  },
  {
   "cell_type": "code",
   "execution_count": 27,
   "metadata": {},
   "outputs": [],
   "source": [
    "# group experiments by using groupby function\n",
    "# create a new column called bin\n",
    "# the number of bin is predefined by user i.e., 1500\n",
    "# group the data entries into 1500 bins\n",
    "# average the values within each bin\n",
    "\n",
    "def _group_by_bin(df_stacked: pd.DataFrame, num_bins: int) -> pd.DataFrame:\n",
    "    df_list = []\n",
    "    grouped = df_stacked.groupby('exp_no')\n",
    "    for name, group in grouped:\n",
    "        group['bin'] = pd.cut(group['timestamp'], bins=num_bins, labels=False)\n",
    "        df_list.append(group)\n",
    "    return pd.concat(df_list)\n",
    "\n",
    "bin_df = _group_by_bin(df_stacked, 1500)\n",
    "# bucketed.tail()"
   ]
  },
  {
   "cell_type": "code",
   "execution_count": 35,
   "metadata": {},
   "outputs": [
    {
     "data": {
      "text/plain": [
       "True"
      ]
     },
     "execution_count": 35,
     "metadata": {},
     "output_type": "execute_result"
    }
   ],
   "source": [
    "# check all exp_no have the same number of bins\n",
    "# if they are all the same print 1 if not print 0\n",
    "\n",
    "def _check_bins(df: pd.DataFrame) -> bool:\n",
    "    grouped = df.groupby('exp_no')\n",
    "    unique_bins = None\n",
    "    for name, group in grouped:\n",
    "        if unique_bins is None:\n",
    "            unique_bins = len(group['bin'].unique())\n",
    "        elif len(group['bin'].unique()) != unique_bins:\n",
    "            return False\n",
    "    return True\n",
    "\n",
    "_check_bins(bin_df)\n"
   ]
  },
  {
   "cell_type": "code",
   "execution_count": 36,
   "metadata": {},
   "outputs": [],
   "source": [
    "# average data within each bucket to give only one value per bucket\n",
    "# group by experiment number and timestamp_bucket\n",
    "# drop timestamp column\n",
    "# calculate mean of all columns\n",
    "\n",
    "\n",
    "def _average_bin(bin_df: pd.DataFrame) -> pd.DataFrame:\n",
    "    bin_df = bin_df.drop(columns=['timestamp'])\n",
    "    grouped = bin_df.groupby(['exp_no', 'bin'])\n",
    "    return grouped.mean()"
   ]
  },
  {
   "cell_type": "code",
   "execution_count": 37,
   "metadata": {},
   "outputs": [],
   "source": [
    "# save averaged data to csv in intermediate folder\n",
    "averaged = _average_bin(bin_df)\n",
    "averaged.to_csv(f\"../data/02_intermediate/norm_averaged_bin.csv\")"
   ]
  },
  {
   "cell_type": "code",
   "execution_count": 41,
   "metadata": {},
   "outputs": [
    {
     "data": {
      "image/png": "[encoded data removed]",
      "text/plain": [
       "<Figure size 640x480 with 1 Axes>"
      ]
     },
     "metadata": {},
     "output_type": "display_data"
    }
   ],
   "source": [
    "# plot the graph of a specified exp_no in terms of A1_sensor against bin\n",
    "# specify exp_no\n",
    "# plot the graph of A1_sensor against bin\n",
    "\n",
    "def _plot_graph(averaged: pd.DataFrame, exp_no: int) -> None:\n",
    "    plt.plot(averaged.loc[exp_no]['A1_Sensor'])\n",
    "    plt.show()\n",
    "\n",
    "_plot_graph(averaged, 120)\n"
   ]
  }
 ],
 "metadata": {
  "kernelspec": {
   "display_name": "kedro-env",
   "language": "python",
   "name": "python3"
  },
  "language_info": {
   "codemirror_mode": {
    "name": "ipython",
    "version": 3
   },
   "file_extension": ".py",
   "mimetype": "text/x-python",
   "name": "python",
   "nbconvert_exporter": "python",
   "pygments_lexer": "ipython3",
   "version": "3.10.13"
  }
 },
 "nbformat": 4,
 "nbformat_minor": 2
}
