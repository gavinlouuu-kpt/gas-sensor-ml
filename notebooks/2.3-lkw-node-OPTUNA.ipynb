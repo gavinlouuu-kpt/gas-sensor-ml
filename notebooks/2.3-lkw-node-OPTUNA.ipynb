{
 "cells": [
  {
   "cell_type": "code",
   "execution_count": 1,
   "metadata": {},
   "outputs": [
    {
     "name": "stderr",
     "output_type": "stream",
     "text": [
      "/Users/gavinlou/.pyenv/versions/3.10.13/envs/kedro/lib/python3.10/site-packages/tqdm/auto.py:21: TqdmWarning: IProgress not found. Please update jupyter and ipywidgets. See https://ipywidgets.readthedocs.io/en/stable/user_install.html\n",
      "  from .autonotebook import tqdm as notebook_tqdm\n"
     ]
    },
    {
     "data": {
      "text/html": [
       "<pre style=\"white-space:pre;overflow-x:auto;line-height:normal;font-family:Menlo,'DejaVu Sans Mono',consolas,'Courier New',monospace\"><span style=\"color: #7fbfbf; text-decoration-color: #7fbfbf\">[02/25/24 19:38:59] </span><span style=\"color: #000080; text-decoration-color: #000080\">INFO    </span> Resolved project path as:                                              <a href=\"file:///Users/gavinlou/.pyenv/versions/3.10.13/envs/kedro/lib/python3.10/site-packages/kedro/ipython/__init__.py\" target=\"_blank\"><span style=\"color: #7f7f7f; text-decoration-color: #7f7f7f\">__init__.py</span></a><span style=\"color: #7f7f7f; text-decoration-color: #7f7f7f\">:</span><a href=\"file:///Users/gavinlou/.pyenv/versions/3.10.13/envs/kedro/lib/python3.10/site-packages/kedro/ipython/__init__.py#139\" target=\"_blank\"><span style=\"color: #7f7f7f; text-decoration-color: #7f7f7f\">139</span></a>\n",
       "<span style=\"color: #7fbfbf; text-decoration-color: #7fbfbf\">                    </span>         <span style=\"color: #800080; text-decoration-color: #800080\">/Users/gavinlou/Developer/kedro/ML-GS/</span><span style=\"color: #ff00ff; text-decoration-color: #ff00ff\">gas-sensor-ml.</span>                   <span style=\"color: #7f7f7f; text-decoration-color: #7f7f7f\">               </span>\n",
       "<span style=\"color: #7fbfbf; text-decoration-color: #7fbfbf\">                    </span>         To set a different path, run <span style=\"color: #008000; text-decoration-color: #008000\">'%reload_kedro &lt;project_root&gt;'</span>            <span style=\"color: #7f7f7f; text-decoration-color: #7f7f7f\">               </span>\n",
       "</pre>\n"
      ],
      "text/plain": [
       "\u001b[2;36m[02/25/24 19:38:59]\u001b[0m\u001b[2;36m \u001b[0m\u001b[34mINFO    \u001b[0m Resolved project path as:                                              \u001b]8;id=961380;file:///Users/gavinlou/.pyenv/versions/3.10.13/envs/kedro/lib/python3.10/site-packages/kedro/ipython/__init__.py\u001b\\\u001b[2m__init__.py\u001b[0m\u001b]8;;\u001b\\\u001b[2m:\u001b[0m\u001b]8;id=111863;file:///Users/gavinlou/.pyenv/versions/3.10.13/envs/kedro/lib/python3.10/site-packages/kedro/ipython/__init__.py#139\u001b\\\u001b[2m139\u001b[0m\u001b]8;;\u001b\\\n",
       "\u001b[2;36m                    \u001b[0m         \u001b[35m/Users/gavinlou/Developer/kedro/ML-GS/\u001b[0m\u001b[95mgas-sensor-ml.\u001b[0m                   \u001b[2m               \u001b[0m\n",
       "\u001b[2;36m                    \u001b[0m         To set a different path, run \u001b[32m'%reload_kedro \u001b[0m\u001b[32m<\u001b[0m\u001b[32mproject_root\u001b[0m\u001b[32m>\u001b[0m\u001b[32m'\u001b[0m            \u001b[2m               \u001b[0m\n"
      ]
     },
     "metadata": {},
     "output_type": "display_data"
    },
    {
     "data": {
      "text/html": [
       "<pre style=\"white-space:pre;overflow-x:auto;line-height:normal;font-family:Menlo,'DejaVu Sans Mono',consolas,'Courier New',monospace\"><span style=\"color: #7fbfbf; text-decoration-color: #7fbfbf\">[02/25/24 19:38:59] </span><span style=\"color: #000080; text-decoration-color: #000080\">INFO    </span> Kedro project gas-sensor-ml                                            <a href=\"file:///Users/gavinlou/.pyenv/versions/3.10.13/envs/kedro/lib/python3.10/site-packages/kedro/ipython/__init__.py\" target=\"_blank\"><span style=\"color: #7f7f7f; text-decoration-color: #7f7f7f\">__init__.py</span></a><span style=\"color: #7f7f7f; text-decoration-color: #7f7f7f\">:</span><a href=\"file:///Users/gavinlou/.pyenv/versions/3.10.13/envs/kedro/lib/python3.10/site-packages/kedro/ipython/__init__.py#108\" target=\"_blank\"><span style=\"color: #7f7f7f; text-decoration-color: #7f7f7f\">108</span></a>\n",
       "</pre>\n"
      ],
      "text/plain": [
       "\u001b[2;36m[02/25/24 19:38:59]\u001b[0m\u001b[2;36m \u001b[0m\u001b[34mINFO    \u001b[0m Kedro project gas-sensor-ml                                            \u001b]8;id=745680;file:///Users/gavinlou/.pyenv/versions/3.10.13/envs/kedro/lib/python3.10/site-packages/kedro/ipython/__init__.py\u001b\\\u001b[2m__init__.py\u001b[0m\u001b]8;;\u001b\\\u001b[2m:\u001b[0m\u001b]8;id=664474;file:///Users/gavinlou/.pyenv/versions/3.10.13/envs/kedro/lib/python3.10/site-packages/kedro/ipython/__init__.py#108\u001b\\\u001b[2m108\u001b[0m\u001b]8;;\u001b\\\n"
      ]
     },
     "metadata": {},
     "output_type": "display_data"
    },
    {
     "data": {
      "text/html": [
       "<pre style=\"white-space:pre;overflow-x:auto;line-height:normal;font-family:Menlo,'DejaVu Sans Mono',consolas,'Courier New',monospace\"><span style=\"color: #7fbfbf; text-decoration-color: #7fbfbf\">                    </span><span style=\"color: #000080; text-decoration-color: #000080\">INFO    </span> Defined global variable <span style=\"color: #008000; text-decoration-color: #008000\">'context'</span>, <span style=\"color: #008000; text-decoration-color: #008000\">'session'</span>, <span style=\"color: #008000; text-decoration-color: #008000\">'catalog'</span> and            <a href=\"file:///Users/gavinlou/.pyenv/versions/3.10.13/envs/kedro/lib/python3.10/site-packages/kedro/ipython/__init__.py\" target=\"_blank\"><span style=\"color: #7f7f7f; text-decoration-color: #7f7f7f\">__init__.py</span></a><span style=\"color: #7f7f7f; text-decoration-color: #7f7f7f\">:</span><a href=\"file:///Users/gavinlou/.pyenv/versions/3.10.13/envs/kedro/lib/python3.10/site-packages/kedro/ipython/__init__.py#109\" target=\"_blank\"><span style=\"color: #7f7f7f; text-decoration-color: #7f7f7f\">109</span></a>\n",
       "<span style=\"color: #7fbfbf; text-decoration-color: #7fbfbf\">                    </span>         <span style=\"color: #008000; text-decoration-color: #008000\">'pipelines'</span>                                                            <span style=\"color: #7f7f7f; text-decoration-color: #7f7f7f\">               </span>\n",
       "</pre>\n"
      ],
      "text/plain": [
       "\u001b[2;36m                   \u001b[0m\u001b[2;36m \u001b[0m\u001b[34mINFO    \u001b[0m Defined global variable \u001b[32m'context'\u001b[0m, \u001b[32m'session'\u001b[0m, \u001b[32m'catalog'\u001b[0m and            \u001b]8;id=381864;file:///Users/gavinlou/.pyenv/versions/3.10.13/envs/kedro/lib/python3.10/site-packages/kedro/ipython/__init__.py\u001b\\\u001b[2m__init__.py\u001b[0m\u001b]8;;\u001b\\\u001b[2m:\u001b[0m\u001b]8;id=425525;file:///Users/gavinlou/.pyenv/versions/3.10.13/envs/kedro/lib/python3.10/site-packages/kedro/ipython/__init__.py#109\u001b\\\u001b[2m109\u001b[0m\u001b]8;;\u001b\\\n",
       "\u001b[2;36m                    \u001b[0m         \u001b[32m'pipelines'\u001b[0m                                                            \u001b[2m               \u001b[0m\n"
      ]
     },
     "metadata": {},
     "output_type": "display_data"
    },
    {
     "data": {
      "text/html": [
       "<pre style=\"white-space:pre;overflow-x:auto;line-height:normal;font-family:Menlo,'DejaVu Sans Mono',consolas,'Courier New',monospace\"><span style=\"color: #7fbfbf; text-decoration-color: #7fbfbf\">[02/25/24 19:39:00] </span><span style=\"color: #000080; text-decoration-color: #000080\">INFO    </span> Registered line magic <span style=\"color: #008000; text-decoration-color: #008000\">'run_viz'</span>                                        <a href=\"file:///Users/gavinlou/.pyenv/versions/3.10.13/envs/kedro/lib/python3.10/site-packages/kedro/ipython/__init__.py\" target=\"_blank\"><span style=\"color: #7f7f7f; text-decoration-color: #7f7f7f\">__init__.py</span></a><span style=\"color: #7f7f7f; text-decoration-color: #7f7f7f\">:</span><a href=\"file:///Users/gavinlou/.pyenv/versions/3.10.13/envs/kedro/lib/python3.10/site-packages/kedro/ipython/__init__.py#115\" target=\"_blank\"><span style=\"color: #7f7f7f; text-decoration-color: #7f7f7f\">115</span></a>\n",
       "</pre>\n"
      ],
      "text/plain": [
       "\u001b[2;36m[02/25/24 19:39:00]\u001b[0m\u001b[2;36m \u001b[0m\u001b[34mINFO    \u001b[0m Registered line magic \u001b[32m'run_viz'\u001b[0m                                        \u001b]8;id=702231;file:///Users/gavinlou/.pyenv/versions/3.10.13/envs/kedro/lib/python3.10/site-packages/kedro/ipython/__init__.py\u001b\\\u001b[2m__init__.py\u001b[0m\u001b]8;;\u001b\\\u001b[2m:\u001b[0m\u001b]8;id=279911;file:///Users/gavinlou/.pyenv/versions/3.10.13/envs/kedro/lib/python3.10/site-packages/kedro/ipython/__init__.py#115\u001b\\\u001b[2m115\u001b[0m\u001b]8;;\u001b\\\n"
      ]
     },
     "metadata": {},
     "output_type": "display_data"
    }
   ],
   "source": [
    "import os\n",
    "import numpy as np\n",
    "import pandas as pd\n",
    "import matplotlib.pyplot as plt\n",
    "from scipy.signal import find_peaks\n",
    "\n",
    "import torch\n",
    "import torch.nn as nn\n",
    "import torchvision\n",
    "import torchvision.transforms as transforms\n",
    "import yaml\n",
    "\n",
    "from typing import Dict\n",
    "from sklearn.model_selection import train_test_split\n",
    "from sklearn.preprocessing import StandardScaler\n",
    "from torch.utils.data import TensorDataset, DataLoader\n",
    "\n",
    "import optuna\n",
    "from optuna.trial import TrialState\n",
    "\n",
    "%load_ext kedro.ipython\n",
    "device = torch.device('mps')"
   ]
  },
  {
   "cell_type": "code",
   "execution_count": 139,
   "metadata": {},
   "outputs": [
    {
     "data": {
      "text/html": [
       "<pre style=\"white-space:pre;overflow-x:auto;line-height:normal;font-family:Menlo,'DejaVu Sans Mono',consolas,'Courier New',monospace\"><span style=\"color: #7fbfbf; text-decoration-color: #7fbfbf\">[01/24/24 17:30:06] </span><span style=\"color: #000080; text-decoration-color: #000080\">INFO    </span> Resolved project path as:                                              <a href=\"file:///Users/gavinlou/.pyenv/versions/3.10.13/envs/kedro/lib/python3.10/site-packages/kedro/ipython/__init__.py\" target=\"_blank\"><span style=\"color: #7f7f7f; text-decoration-color: #7f7f7f\">__init__.py</span></a><span style=\"color: #7f7f7f; text-decoration-color: #7f7f7f\">:</span><a href=\"file:///Users/gavinlou/.pyenv/versions/3.10.13/envs/kedro/lib/python3.10/site-packages/kedro/ipython/__init__.py#139\" target=\"_blank\"><span style=\"color: #7f7f7f; text-decoration-color: #7f7f7f\">139</span></a>\n",
       "<span style=\"color: #7fbfbf; text-decoration-color: #7fbfbf\">                    </span>         <span style=\"color: #800080; text-decoration-color: #800080\">/Users/gavinlou/Developer/kedro/ML-GS/</span><span style=\"color: #ff00ff; text-decoration-color: #ff00ff\">gas-sensor-ml.</span>                   <span style=\"color: #7f7f7f; text-decoration-color: #7f7f7f\">               </span>\n",
       "<span style=\"color: #7fbfbf; text-decoration-color: #7fbfbf\">                    </span>         To set a different path, run <span style=\"color: #008000; text-decoration-color: #008000\">'%reload_kedro &lt;project_root&gt;'</span>            <span style=\"color: #7f7f7f; text-decoration-color: #7f7f7f\">               </span>\n",
       "</pre>\n"
      ],
      "text/plain": [
       "\u001b[2;36m[01/24/24 17:30:06]\u001b[0m\u001b[2;36m \u001b[0m\u001b[34mINFO    \u001b[0m Resolved project path as:                                              \u001b]8;id=431689;file:///Users/gavinlou/.pyenv/versions/3.10.13/envs/kedro/lib/python3.10/site-packages/kedro/ipython/__init__.py\u001b\\\u001b[2m__init__.py\u001b[0m\u001b]8;;\u001b\\\u001b[2m:\u001b[0m\u001b]8;id=109207;file:///Users/gavinlou/.pyenv/versions/3.10.13/envs/kedro/lib/python3.10/site-packages/kedro/ipython/__init__.py#139\u001b\\\u001b[2m139\u001b[0m\u001b]8;;\u001b\\\n",
       "\u001b[2;36m                    \u001b[0m         \u001b[35m/Users/gavinlou/Developer/kedro/ML-GS/\u001b[0m\u001b[95mgas-sensor-ml.\u001b[0m                   \u001b[2m               \u001b[0m\n",
       "\u001b[2;36m                    \u001b[0m         To set a different path, run \u001b[32m'%reload_kedro \u001b[0m\u001b[32m<\u001b[0m\u001b[32mproject_root\u001b[0m\u001b[32m>\u001b[0m\u001b[32m'\u001b[0m            \u001b[2m               \u001b[0m\n"
      ]
     },
     "metadata": {},
     "output_type": "display_data"
    },
    {
     "data": {
      "text/html": [
       "<pre style=\"white-space:pre;overflow-x:auto;line-height:normal;font-family:Menlo,'DejaVu Sans Mono',consolas,'Courier New',monospace\"><span style=\"color: #7fbfbf; text-decoration-color: #7fbfbf\">[01/24/24 17:30:06] </span><span style=\"color: #000080; text-decoration-color: #000080\">INFO    </span> Kedro project gas-sensor-ml                                            <a href=\"file:///Users/gavinlou/.pyenv/versions/3.10.13/envs/kedro/lib/python3.10/site-packages/kedro/ipython/__init__.py\" target=\"_blank\"><span style=\"color: #7f7f7f; text-decoration-color: #7f7f7f\">__init__.py</span></a><span style=\"color: #7f7f7f; text-decoration-color: #7f7f7f\">:</span><a href=\"file:///Users/gavinlou/.pyenv/versions/3.10.13/envs/kedro/lib/python3.10/site-packages/kedro/ipython/__init__.py#108\" target=\"_blank\"><span style=\"color: #7f7f7f; text-decoration-color: #7f7f7f\">108</span></a>\n",
       "</pre>\n"
      ],
      "text/plain": [
       "\u001b[2;36m[01/24/24 17:30:06]\u001b[0m\u001b[2;36m \u001b[0m\u001b[34mINFO    \u001b[0m Kedro project gas-sensor-ml                                            \u001b]8;id=897890;file:///Users/gavinlou/.pyenv/versions/3.10.13/envs/kedro/lib/python3.10/site-packages/kedro/ipython/__init__.py\u001b\\\u001b[2m__init__.py\u001b[0m\u001b]8;;\u001b\\\u001b[2m:\u001b[0m\u001b]8;id=199637;file:///Users/gavinlou/.pyenv/versions/3.10.13/envs/kedro/lib/python3.10/site-packages/kedro/ipython/__init__.py#108\u001b\\\u001b[2m108\u001b[0m\u001b]8;;\u001b\\\n"
      ]
     },
     "metadata": {},
     "output_type": "display_data"
    },
    {
     "data": {
      "text/html": [
       "<pre style=\"white-space:pre;overflow-x:auto;line-height:normal;font-family:Menlo,'DejaVu Sans Mono',consolas,'Courier New',monospace\"><span style=\"color: #7fbfbf; text-decoration-color: #7fbfbf\">                    </span><span style=\"color: #000080; text-decoration-color: #000080\">INFO    </span> Defined global variable <span style=\"color: #008000; text-decoration-color: #008000\">'context'</span>, <span style=\"color: #008000; text-decoration-color: #008000\">'session'</span>, <span style=\"color: #008000; text-decoration-color: #008000\">'catalog'</span> and            <a href=\"file:///Users/gavinlou/.pyenv/versions/3.10.13/envs/kedro/lib/python3.10/site-packages/kedro/ipython/__init__.py\" target=\"_blank\"><span style=\"color: #7f7f7f; text-decoration-color: #7f7f7f\">__init__.py</span></a><span style=\"color: #7f7f7f; text-decoration-color: #7f7f7f\">:</span><a href=\"file:///Users/gavinlou/.pyenv/versions/3.10.13/envs/kedro/lib/python3.10/site-packages/kedro/ipython/__init__.py#109\" target=\"_blank\"><span style=\"color: #7f7f7f; text-decoration-color: #7f7f7f\">109</span></a>\n",
       "<span style=\"color: #7fbfbf; text-decoration-color: #7fbfbf\">                    </span>         <span style=\"color: #008000; text-decoration-color: #008000\">'pipelines'</span>                                                            <span style=\"color: #7f7f7f; text-decoration-color: #7f7f7f\">               </span>\n",
       "</pre>\n"
      ],
      "text/plain": [
       "\u001b[2;36m                   \u001b[0m\u001b[2;36m \u001b[0m\u001b[34mINFO    \u001b[0m Defined global variable \u001b[32m'context'\u001b[0m, \u001b[32m'session'\u001b[0m, \u001b[32m'catalog'\u001b[0m and            \u001b]8;id=844221;file:///Users/gavinlou/.pyenv/versions/3.10.13/envs/kedro/lib/python3.10/site-packages/kedro/ipython/__init__.py\u001b\\\u001b[2m__init__.py\u001b[0m\u001b]8;;\u001b\\\u001b[2m:\u001b[0m\u001b]8;id=861336;file:///Users/gavinlou/.pyenv/versions/3.10.13/envs/kedro/lib/python3.10/site-packages/kedro/ipython/__init__.py#109\u001b\\\u001b[2m109\u001b[0m\u001b]8;;\u001b\\\n",
       "\u001b[2;36m                    \u001b[0m         \u001b[32m'pipelines'\u001b[0m                                                            \u001b[2m               \u001b[0m\n"
      ]
     },
     "metadata": {},
     "output_type": "display_data"
    },
    {
     "data": {
      "text/html": [
       "<pre style=\"white-space:pre;overflow-x:auto;line-height:normal;font-family:Menlo,'DejaVu Sans Mono',consolas,'Courier New',monospace\"><span style=\"color: #7fbfbf; text-decoration-color: #7fbfbf\">                    </span><span style=\"color: #000080; text-decoration-color: #000080\">INFO    </span> Registered line magic <span style=\"color: #008000; text-decoration-color: #008000\">'run_viz'</span>                                        <a href=\"file:///Users/gavinlou/.pyenv/versions/3.10.13/envs/kedro/lib/python3.10/site-packages/kedro/ipython/__init__.py\" target=\"_blank\"><span style=\"color: #7f7f7f; text-decoration-color: #7f7f7f\">__init__.py</span></a><span style=\"color: #7f7f7f; text-decoration-color: #7f7f7f\">:</span><a href=\"file:///Users/gavinlou/.pyenv/versions/3.10.13/envs/kedro/lib/python3.10/site-packages/kedro/ipython/__init__.py#115\" target=\"_blank\"><span style=\"color: #7f7f7f; text-decoration-color: #7f7f7f\">115</span></a>\n",
       "</pre>\n"
      ],
      "text/plain": [
       "\u001b[2;36m                   \u001b[0m\u001b[2;36m \u001b[0m\u001b[34mINFO    \u001b[0m Registered line magic \u001b[32m'run_viz'\u001b[0m                                        \u001b]8;id=956487;file:///Users/gavinlou/.pyenv/versions/3.10.13/envs/kedro/lib/python3.10/site-packages/kedro/ipython/__init__.py\u001b\\\u001b[2m__init__.py\u001b[0m\u001b]8;;\u001b\\\u001b[2m:\u001b[0m\u001b]8;id=308203;file:///Users/gavinlou/.pyenv/versions/3.10.13/envs/kedro/lib/python3.10/site-packages/kedro/ipython/__init__.py#115\u001b\\\u001b[2m115\u001b[0m\u001b]8;;\u001b\\\n"
      ]
     },
     "metadata": {},
     "output_type": "display_data"
    }
   ],
   "source": [
    "%reload_ext kedro.ipython"
   ]
  },
  {
   "cell_type": "code",
   "execution_count": 2,
   "metadata": {},
   "outputs": [
    {
     "data": {
      "text/html": [
       "<pre style=\"white-space:pre;overflow-x:auto;line-height:normal;font-family:Menlo,'DejaVu Sans Mono',consolas,'Courier New',monospace\"><span style=\"color: #7fbfbf; text-decoration-color: #7fbfbf\">[02/25/24 19:39:13] </span><span style=\"color: #000080; text-decoration-color: #000080\">INFO    </span> Loading data from <span style=\"color: #008000; text-decoration-color: #008000\">'mox_bin'</span> <span style=\"font-weight: bold\">(</span>ParquetDataset<span style=\"font-weight: bold\">)</span><span style=\"color: #808000; text-decoration-color: #808000\">...</span>                    <a href=\"file:///Users/gavinlou/.pyenv/versions/3.10.13/envs/kedro/lib/python3.10/site-packages/kedro/io/data_catalog.py\" target=\"_blank\"><span style=\"color: #7f7f7f; text-decoration-color: #7f7f7f\">data_catalog.py</span></a><span style=\"color: #7f7f7f; text-decoration-color: #7f7f7f\">:</span><a href=\"file:///Users/gavinlou/.pyenv/versions/3.10.13/envs/kedro/lib/python3.10/site-packages/kedro/io/data_catalog.py#502\" target=\"_blank\"><span style=\"color: #7f7f7f; text-decoration-color: #7f7f7f\">502</span></a>\n",
       "</pre>\n"
      ],
      "text/plain": [
       "\u001b[2;36m[02/25/24 19:39:13]\u001b[0m\u001b[2;36m \u001b[0m\u001b[34mINFO    \u001b[0m Loading data from \u001b[32m'mox_bin'\u001b[0m \u001b[1m(\u001b[0mParquetDataset\u001b[1m)\u001b[0m\u001b[33m...\u001b[0m                    \u001b]8;id=379908;file:///Users/gavinlou/.pyenv/versions/3.10.13/envs/kedro/lib/python3.10/site-packages/kedro/io/data_catalog.py\u001b\\\u001b[2mdata_catalog.py\u001b[0m\u001b]8;;\u001b\\\u001b[2m:\u001b[0m\u001b]8;id=313425;file:///Users/gavinlou/.pyenv/versions/3.10.13/envs/kedro/lib/python3.10/site-packages/kedro/io/data_catalog.py#502\u001b\\\u001b[2m502\u001b[0m\u001b]8;;\u001b\\\n"
      ]
     },
     "metadata": {},
     "output_type": "display_data"
    },
    {
     "data": {
      "text/html": [
       "<pre style=\"white-space:pre;overflow-x:auto;line-height:normal;font-family:Menlo,'DejaVu Sans Mono',consolas,'Courier New',monospace\"><span style=\"color: #7fbfbf; text-decoration-color: #7fbfbf\">                    </span><span style=\"color: #000080; text-decoration-color: #000080\">INFO    </span> Loading data from <span style=\"color: #008000; text-decoration-color: #008000\">'params:complete_lstm_model.model_options'</span>       <a href=\"file:///Users/gavinlou/.pyenv/versions/3.10.13/envs/kedro/lib/python3.10/site-packages/kedro/io/data_catalog.py\" target=\"_blank\"><span style=\"color: #7f7f7f; text-decoration-color: #7f7f7f\">data_catalog.py</span></a><span style=\"color: #7f7f7f; text-decoration-color: #7f7f7f\">:</span><a href=\"file:///Users/gavinlou/.pyenv/versions/3.10.13/envs/kedro/lib/python3.10/site-packages/kedro/io/data_catalog.py#502\" target=\"_blank\"><span style=\"color: #7f7f7f; text-decoration-color: #7f7f7f\">502</span></a>\n",
       "<span style=\"color: #7fbfbf; text-decoration-color: #7fbfbf\">                    </span>         <span style=\"font-weight: bold\">(</span>MemoryDataset<span style=\"font-weight: bold\">)</span><span style=\"color: #808000; text-decoration-color: #808000\">...</span>                                                 <span style=\"color: #7f7f7f; text-decoration-color: #7f7f7f\">                   </span>\n",
       "</pre>\n"
      ],
      "text/plain": [
       "\u001b[2;36m                   \u001b[0m\u001b[2;36m \u001b[0m\u001b[34mINFO    \u001b[0m Loading data from \u001b[32m'params:complete_lstm_model.model_options'\u001b[0m       \u001b]8;id=439048;file:///Users/gavinlou/.pyenv/versions/3.10.13/envs/kedro/lib/python3.10/site-packages/kedro/io/data_catalog.py\u001b\\\u001b[2mdata_catalog.py\u001b[0m\u001b]8;;\u001b\\\u001b[2m:\u001b[0m\u001b]8;id=886335;file:///Users/gavinlou/.pyenv/versions/3.10.13/envs/kedro/lib/python3.10/site-packages/kedro/io/data_catalog.py#502\u001b\\\u001b[2m502\u001b[0m\u001b]8;;\u001b\\\n",
       "\u001b[2;36m                    \u001b[0m         \u001b[1m(\u001b[0mMemoryDataset\u001b[1m)\u001b[0m\u001b[33m...\u001b[0m                                                 \u001b[2m                   \u001b[0m\n"
      ]
     },
     "metadata": {},
     "output_type": "display_data"
    },
    {
     "data": {
      "text/html": [
       "<pre style=\"white-space:pre;overflow-x:auto;line-height:normal;font-family:Menlo,'DejaVu Sans Mono',consolas,'Courier New',monospace\"><span style=\"color: #7fbfbf; text-decoration-color: #7fbfbf\">                    </span><span style=\"color: #000080; text-decoration-color: #000080\">INFO    </span> Loading data from <span style=\"color: #008000; text-decoration-color: #008000\">'model_input_table'</span> <span style=\"font-weight: bold\">(</span>ParquetDataset<span style=\"font-weight: bold\">)</span><span style=\"color: #808000; text-decoration-color: #808000\">...</span>          <a href=\"file:///Users/gavinlou/.pyenv/versions/3.10.13/envs/kedro/lib/python3.10/site-packages/kedro/io/data_catalog.py\" target=\"_blank\"><span style=\"color: #7f7f7f; text-decoration-color: #7f7f7f\">data_catalog.py</span></a><span style=\"color: #7f7f7f; text-decoration-color: #7f7f7f\">:</span><a href=\"file:///Users/gavinlou/.pyenv/versions/3.10.13/envs/kedro/lib/python3.10/site-packages/kedro/io/data_catalog.py#502\" target=\"_blank\"><span style=\"color: #7f7f7f; text-decoration-color: #7f7f7f\">502</span></a>\n",
       "</pre>\n"
      ],
      "text/plain": [
       "\u001b[2;36m                   \u001b[0m\u001b[2;36m \u001b[0m\u001b[34mINFO    \u001b[0m Loading data from \u001b[32m'model_input_table'\u001b[0m \u001b[1m(\u001b[0mParquetDataset\u001b[1m)\u001b[0m\u001b[33m...\u001b[0m          \u001b]8;id=908920;file:///Users/gavinlou/.pyenv/versions/3.10.13/envs/kedro/lib/python3.10/site-packages/kedro/io/data_catalog.py\u001b\\\u001b[2mdata_catalog.py\u001b[0m\u001b]8;;\u001b\\\u001b[2m:\u001b[0m\u001b]8;id=801222;file:///Users/gavinlou/.pyenv/versions/3.10.13/envs/kedro/lib/python3.10/site-packages/kedro/io/data_catalog.py#502\u001b\\\u001b[2m502\u001b[0m\u001b]8;;\u001b\\\n"
      ]
     },
     "metadata": {},
     "output_type": "display_data"
    }
   ],
   "source": [
    "mox_bin = catalog.load(\"mox_bin\")\n",
    "# mox_bin.tail()\n",
    "lstm_params = catalog.load(\"params:complete_lstm_model.model_options\")\n",
    "model_input_table = catalog.load(\"model_input_table\")"
   ]
  },
  {
   "cell_type": "code",
   "execution_count": 3,
   "metadata": {},
   "outputs": [
    {
     "data": {
      "text/html": [
       "<pre style=\"white-space:pre;overflow-x:auto;line-height:normal;font-family:Menlo,'DejaVu Sans Mono',consolas,'Courier New',monospace\"><span style=\"color: #7fbfbf; text-decoration-color: #7fbfbf\">[02/25/24 19:39:17] </span><span style=\"color: #000080; text-decoration-color: #000080\">INFO    </span> Loading data from <span style=\"color: #008000; text-decoration-color: #008000\">'params:complete_lstm_model.study_options'</span>       <a href=\"file:///Users/gavinlou/.pyenv/versions/3.10.13/envs/kedro/lib/python3.10/site-packages/kedro/io/data_catalog.py\" target=\"_blank\"><span style=\"color: #7f7f7f; text-decoration-color: #7f7f7f\">data_catalog.py</span></a><span style=\"color: #7f7f7f; text-decoration-color: #7f7f7f\">:</span><a href=\"file:///Users/gavinlou/.pyenv/versions/3.10.13/envs/kedro/lib/python3.10/site-packages/kedro/io/data_catalog.py#502\" target=\"_blank\"><span style=\"color: #7f7f7f; text-decoration-color: #7f7f7f\">502</span></a>\n",
       "<span style=\"color: #7fbfbf; text-decoration-color: #7fbfbf\">                    </span>         <span style=\"font-weight: bold\">(</span>MemoryDataset<span style=\"font-weight: bold\">)</span><span style=\"color: #808000; text-decoration-color: #808000\">...</span>                                                 <span style=\"color: #7f7f7f; text-decoration-color: #7f7f7f\">                   </span>\n",
       "</pre>\n"
      ],
      "text/plain": [
       "\u001b[2;36m[02/25/24 19:39:17]\u001b[0m\u001b[2;36m \u001b[0m\u001b[34mINFO    \u001b[0m Loading data from \u001b[32m'params:complete_lstm_model.study_options'\u001b[0m       \u001b]8;id=602220;file:///Users/gavinlou/.pyenv/versions/3.10.13/envs/kedro/lib/python3.10/site-packages/kedro/io/data_catalog.py\u001b\\\u001b[2mdata_catalog.py\u001b[0m\u001b]8;;\u001b\\\u001b[2m:\u001b[0m\u001b]8;id=649335;file:///Users/gavinlou/.pyenv/versions/3.10.13/envs/kedro/lib/python3.10/site-packages/kedro/io/data_catalog.py#502\u001b\\\u001b[2m502\u001b[0m\u001b]8;;\u001b\\\n",
       "\u001b[2;36m                    \u001b[0m         \u001b[1m(\u001b[0mMemoryDataset\u001b[1m)\u001b[0m\u001b[33m...\u001b[0m                                                 \u001b[2m                   \u001b[0m\n"
      ]
     },
     "metadata": {},
     "output_type": "display_data"
    }
   ],
   "source": [
    "study_params = catalog.load(\"params:complete_lstm_model.study_options\")"
   ]
  },
  {
   "cell_type": "code",
   "execution_count": 4,
   "metadata": {},
   "outputs": [
    {
     "name": "stdout",
     "output_type": "stream",
     "text": [
      "{'num_classes': 1, 'num_epochs': 10, 'batch_size': 32, 'learning_rate': 0.001, 'test_size': 0.2, 'random_state': 3, 'input_size': 1, 'sequence_length': 750, 'hidden_size': 128, 'num_layers': 2, 'val_size': 0.2}\n",
      "10\n"
     ]
    }
   ],
   "source": [
    "print(lstm_params)\n",
    "print(lstm_params['num_epochs'])"
   ]
  },
  {
   "cell_type": "code",
   "execution_count": 5,
   "metadata": {},
   "outputs": [],
   "source": [
    "\n",
    "# Hyper-parameters \n",
    "\n",
    "num_classes = lstm_params['num_classes']\n",
    "num_epochs = lstm_params['num_epochs']\n",
    "batch_size = lstm_params['batch_size']\n",
    "learning_rate = lstm_params['learning_rate']\n",
    "\n",
    "\"\"\"\n",
    "\n",
    "Each feature as a time step in your sequence, you could set sequence_length to 150 and input_size to 1.\n",
    "This would mean you are feeding in sequences of length 150, with each time step in the sequence having 1 feature.\n",
    "\n",
    "\"\"\"\n",
    "\n",
    "input_size = lstm_params['input_size']\n",
    "sequence_length = lstm_params['sequence_length'] # the window it trains with can be selected\n",
    "hidden_size = lstm_params['hidden_size']\n",
    "num_layers = lstm_params['num_layers']\n",
    "random_state = lstm_params['random_state']\n",
    "\n",
    "# batch_size = lstm_params['batch_size']  # You can adjust the batch size according to your needs\n",
    "\n",
    "test_size = lstm_params['test_size']\n",
    "val_size = lstm_params['val_size']"
   ]
  },
  {
   "cell_type": "code",
   "execution_count": 6,
   "metadata": {},
   "outputs": [],
   "source": [
    "# NaN processing\n",
    "# forward fill NaN values\n",
    "def _ffill_NaN (X_dataset: np.ndarray) -> np.ndarray:\n",
    "    X_dataset_df = pd.DataFrame(X_dataset)\n",
    "    X_dataset_df.ffill(inplace=True)\n",
    "    # Convert back to numpy arrays\n",
    "    return X_dataset"
   ]
  },
  {
   "cell_type": "code",
   "execution_count": 7,
   "metadata": {},
   "outputs": [
    {
     "data": {
      "text/html": [
       "<pre style=\"white-space:pre;overflow-x:auto;line-height:normal;font-family:Menlo,'DejaVu Sans Mono',consolas,'Courier New',monospace\"></pre>\n"
      ],
      "text/plain": []
     },
     "metadata": {},
     "output_type": "display_data"
    },
    {
     "data": {
      "text/plain": [
       "\n",
       "bin_0        \u001b[1;36m0\u001b[0m\n",
       "bin_1        \u001b[1;36m0\u001b[0m\n",
       "bin_2        \u001b[1;36m0\u001b[0m\n",
       "bin_3        \u001b[1;36m0\u001b[0m\n",
       "bin_4        \u001b[1;36m0\u001b[0m\n",
       "            ..\n",
       "bin_746      \u001b[1;36m0\u001b[0m\n",
       "bin_747      \u001b[1;36m0\u001b[0m\n",
       "bin_748      \u001b[1;36m0\u001b[0m\n",
       "bin_749      \u001b[1;36m0\u001b[0m\n",
       "res_ratio    \u001b[1;36m0\u001b[0m\n",
       "Length: \u001b[1;36m751\u001b[0m, dtype: int64"
      ]
     },
     "execution_count": 7,
     "metadata": {},
     "output_type": "execute_result"
    }
   ],
   "source": [
    "# Clean NaN values from input table\n",
    "_ffill_NaN(model_input_table)\n",
    "# check for NaN values\n",
    "model_input_table.isnull().sum()"
   ]
  },
  {
   "cell_type": "code",
   "execution_count": 8,
   "metadata": {},
   "outputs": [],
   "source": [
    "# Implement LSTM functions below\n",
    "# there is no validation set in this example\n",
    "# load mox_table as input\n",
    "\n",
    "def split_data(model_input_table: pd.DataFrame) -> torch.tensor:\n",
    "    # Split data into features and target\n",
    "    X = model_input_table[model_input_table.columns[:-1]].values  # Assuming last column is the target\n",
    "    y = model_input_table[model_input_table.columns[-1]].values\n",
    "    # Split data into training and testing sets\n",
    "    X_train, X_test, y_train, y_test = train_test_split(\n",
    "        X, y, test_size = test_size, random_state = random_state)\n",
    "    \n",
    "    # Further split to create a validation set\n",
    "    X_train, X_val, y_train, y_val = train_test_split(\n",
    "        X_train, y_train, \n",
    "        test_size = val_size, \n",
    "        random_state = random_state)\n",
    "    \n",
    "    # Initialize StandardScaler\n",
    "    scaler = StandardScaler()\n",
    "    # Fit on training data\n",
    "    scaler.fit(X_train)\n",
    "\n",
    "    # Transform both training and testing data\n",
    "    X_train_scaled = scaler.transform(X_train)\n",
    "    X_val_scaled = scaler.transform(X_val)\n",
    "    X_test_scaled = scaler.transform(X_test)\n",
    "\n",
    "    # Ensure y_train and y_test are in the correct format\n",
    "    if isinstance(y_train, pd.Series):\n",
    "        y_train = y_train.values\n",
    "    if isinstance(y_val, pd.Series):\n",
    "        y_val = y_val.values\n",
    "    if isinstance(y_test, pd.Series):\n",
    "        y_test = y_test.values\n",
    "\n",
    "    # Convert to PyTorch tensors\n",
    "    X_train_tensor = torch.tensor(X_train_scaled.astype(np.float32))\n",
    "    y_train_tensor = torch.tensor(y_train.astype(np.float32))\n",
    "\n",
    "    X_val_tensor = torch.tensor(X_val_scaled.astype(np.float32))\n",
    "    y_val_tensor = torch.tensor(y_val.astype(np.float32))\n",
    "\n",
    "    X_test_tensor = torch.tensor(X_test_scaled.astype(np.float32))\n",
    "    y_test_tensor = torch.tensor(y_test.astype(np.float32))\n",
    "\n",
    "    return X_train_tensor, X_val_tensor, X_test_tensor, y_train_tensor, y_val_tensor, y_test_tensor\n",
    "\n",
    "\n",
    "# create X_train_tensor, X_test_tensor, y_train_tensor, y_test_tensor from split_data(df)\n",
    "X_train_tensor, X_val_tensor, X_test_tensor, y_train_tensor, y_val_tensor, y_test_tensor = split_data(model_input_table)\n",
    "# Create TensorDatasets\n",
    "train_dataset = TensorDataset(X_train_tensor, y_train_tensor)\n",
    "test_dataset = TensorDataset(X_test_tensor, y_test_tensor)\n",
    "val_dataset = TensorDataset(X_val_tensor, y_val_tensor)\n",
    "# Initialize DataLoaders\n",
    "# batch_size = lstm_params['batch_size']  # You can adjust the batch size according to your needs\n",
    "train_loader = DataLoader(dataset=train_dataset, batch_size=batch_size, shuffle=True)\n",
    "test_loader = DataLoader(dataset=test_dataset, batch_size=batch_size, shuffle=False)\n",
    "val_loader = DataLoader(dataset=val_dataset, batch_size=batch_size, shuffle=False)\n"
   ]
  },
  {
   "cell_type": "code",
   "execution_count": 9,
   "metadata": {},
   "outputs": [],
   "source": [
    "# OPTUNA model\n",
    "\n",
    "# Optuna managed model\n",
    "class RNN(nn.Module):\n",
    "    # def __init__(self, input_size, hidden_size, num_layers, num_classes):\n",
    "    def __init__(self, trial, input_size, num_classes):\n",
    "        super(RNN, self).__init__()\n",
    "\n",
    "        # Optuna suggests the number of layers and hidden size\n",
    "        self.num_layers = trial.suggest_int(\"num_layers\", 1, 3)\n",
    "        self.hidden_size = trial.suggest_int(\"hidden_size\", 30, 100)\n",
    "\n",
    "        # Optuna suggests the dropout ratio of each layer\n",
    "        dropout_rate = trial.suggest_float(\"dropout_rate\", 0, 0.5)\n",
    "\n",
    "        # Define the LSTM layer\n",
    "        self.lstm = nn.LSTM(\n",
    "            input_size, \n",
    "            self.hidden_size, \n",
    "            self.num_layers, \n",
    "            batch_first=True,\n",
    "            dropout=(dropout_rate if self.num_layers > 1 else 0), \n",
    "            )\n",
    "        self.fc = nn.Linear(self.hidden_size, num_classes)\n",
    "        \n",
    "    def forward(self, x):\n",
    "        # Set initial hidden states (and cell states for LSTM)\n",
    "        h0 = torch.zeros(self.num_layers, x.size(0), self.hidden_size).to(device) \n",
    "        c0 = torch.zeros(self.num_layers, x.size(0), self.hidden_size).to(device) \n",
    "        out, _ = self.lstm(x, (h0,c0))  \n",
    "        out = out[:, -1, :]\n",
    "        out = self.fc(out)\n",
    "        return out\n",
    "\n",
    "def define_model(trial, input_size, num_classes):\n",
    "    model = RNN(trial, input_size, num_classes)\n",
    "    return model"
   ]
  },
  {
   "cell_type": "code",
   "execution_count": 10,
   "metadata": {},
   "outputs": [],
   "source": [
    "# Optuna managed training\n",
    "def objective(trial, input_size, num_classes):\n",
    "    model = define_model(trial, input_size, num_classes).to(device)\n",
    "    optimizer_name = trial.suggest_categorical(\"optimizer\", [\"Adam\", \"RMSprop\", \"SGD\"])\n",
    "    lr = trial.suggest_float(\"lr\", 1e-5, 1e-1, log=True)\n",
    "    optimizer = getattr(torch.optim, optimizer_name)(model.parameters(), lr=lr)\n",
    "    criterion = nn.MSELoss()\n",
    "\n",
    "    # Training of the model\n",
    "    n_total_steps = len(train_loader)\n",
    "    for epoch in range(num_epochs):\n",
    "        model.train()\n",
    "\n",
    "        for i, (bins, target) in enumerate(train_loader):\n",
    "            bins = bins.reshape(-1, sequence_length, input_size).to(device)\n",
    "            target = target.squeeze().to(device)\n",
    "\n",
    "            # Forward pass\n",
    "            outputs = model(bins)\n",
    "            # Example of reshaping/squeezing if applicable\n",
    "            outputs = outputs.squeeze()  # Removes dimensions of size 1\n",
    "            # outputs = outputs[:64]  # Adjust if you need to slice the outputs\n",
    "            # target = target.squeeze().to(device)  # Add an extra dimension to match outputs\n",
    "            loss = criterion(outputs, target)\n",
    "        \n",
    "            # Backward and optimize\n",
    "            optimizer.zero_grad()\n",
    "            loss.backward()\n",
    "            optimizer.step()\n",
    "        \n",
    "        model.eval()  # Set the model to evaluation mode\n",
    "        with torch.no_grad():  # Don't calculate gradients\n",
    "            total_loss = 0\n",
    "            count = 0\n",
    "\n",
    "            for bins, target in test_loader:  # Replace with your validation loader\n",
    "                bins = bins.reshape(-1, sequence_length, input_size).to(device)\n",
    "                target = target.squeeze().to(device)  # Add an extra dimension to match outputs\n",
    "                \n",
    "                outputs = model(bins)\n",
    "                outputs = outputs.squeeze()\n",
    "\n",
    "                loss = criterion(outputs, target)\n",
    "                total_loss += loss.item()\n",
    "                count += 1\n",
    "        \n",
    "        model.train() # Set the model back to training mode\n",
    "\n",
    "        rmse = np.sqrt(total_loss / count)\n",
    "        trial.report(rmse, epoch)\n",
    "\n",
    "        # Handle pruning based on the intermediate value.\n",
    "        if trial.should_prune():\n",
    "            raise optuna.exceptions.TrialPruned()\n",
    "        \n",
    "    return rmse\n",
    "            # print(f'Epoch [{epoch+1}/{num_epochs}], RMSE on validation data: {rmse}')\n"
   ]
  },
  {
   "cell_type": "code",
   "execution_count": 12,
   "metadata": {},
   "outputs": [
    {
     "name": "stderr",
     "output_type": "stream",
     "text": [
      "[I 2024-02-25 19:51:09,549] A new study created in memory with name: no-name-77094495-34aa-4492-b5ee-a9eb9a9a4b67\n",
      "[I 2024-02-25 19:51:53,916] Trial 0 finished with value: 0.0745268976554694 and parameters: {'num_layers': 1, 'hidden_size': 92, 'dropout_rate': 0.05801663533524276, 'optimizer': 'RMSprop', 'lr': 0.0022304195118295544}. Best is trial 0 with value: 0.0745268976554694.\n",
      "[I 2024-02-25 19:53:14,866] Trial 1 finished with value: 0.2965646622211691 and parameters: {'num_layers': 3, 'hidden_size': 46, 'dropout_rate': 0.21404039084181753, 'optimizer': 'SGD', 'lr': 0.00010237593144469875}. Best is trial 0 with value: 0.0745268976554694.\n",
      "[I 2024-02-25 19:55:48,217] Trial 2 finished with value: 0.4032772426305503 and parameters: {'num_layers': 3, 'hidden_size': 99, 'dropout_rate': 0.4904259339261965, 'optimizer': 'SGD', 'lr': 5.703293945545027e-05}. Best is trial 0 with value: 0.0745268976554694.\n",
      "[I 2024-02-25 19:58:26,947] Trial 3 finished with value: 0.0836666740221685 and parameters: {'num_layers': 3, 'hidden_size': 97, 'dropout_rate': 0.26501859457624755, 'optimizer': 'RMSprop', 'lr': 0.0016747572927914675}. Best is trial 0 with value: 0.0745268976554694.\n",
      "[I 2024-02-25 19:59:00,975] Trial 4 finished with value: 0.06880286054138306 and parameters: {'num_layers': 1, 'hidden_size': 46, 'dropout_rate': 0.40152903386346067, 'optimizer': 'Adam', 'lr': 0.002512601971876159}. Best is trial 4 with value: 0.06880286054138306.\n",
      "[I 2024-02-25 19:59:09,490] Trial 5 pruned. \n",
      "[I 2024-02-25 19:59:14,173] Trial 6 pruned. \n",
      "[I 2024-02-25 19:59:24,971] Trial 7 pruned. \n",
      "[I 2024-02-25 19:59:34,740] Trial 8 pruned. \n",
      "[I 2024-02-25 20:00:17,340] Trial 9 finished with value: 0.06789462219246084 and parameters: {'num_layers': 1, 'hidden_size': 69, 'dropout_rate': 0.47486099740715404, 'optimizer': 'Adam', 'lr': 0.0051787606123568026}. Best is trial 9 with value: 0.06789462219246084.\n",
      "[I 2024-02-25 20:00:23,754] Trial 10 pruned. \n",
      "[I 2024-02-25 20:00:27,109] Trial 11 pruned. \n",
      "[I 2024-02-25 20:01:03,592] Trial 12 finished with value: 0.0695601605982896 and parameters: {'num_layers': 1, 'hidden_size': 53, 'dropout_rate': 0.38923608664838677, 'optimizer': 'Adam', 'lr': 0.0006113907001158532}. Best is trial 9 with value: 0.06789462219246084.\n",
      "[I 2024-02-25 20:01:09,171] Trial 13 pruned. \n",
      "[I 2024-02-25 20:01:42,758] Trial 14 finished with value: 0.07304291239485924 and parameters: {'num_layers': 1, 'hidden_size': 64, 'dropout_rate': 0.4289594351364694, 'optimizer': 'Adam', 'lr': 0.004597352407209383}. Best is trial 9 with value: 0.06789462219246084.\n",
      "[I 2024-02-25 20:02:15,566] Trial 15 finished with value: 0.07377471897973466 and parameters: {'num_layers': 1, 'hidden_size': 48, 'dropout_rate': 0.32042462450578785, 'optimizer': 'Adam', 'lr': 0.0620371943281068}. Best is trial 9 with value: 0.06789462219246084.\n",
      "[I 2024-02-25 20:02:21,230] Trial 16 pruned. \n",
      "[I 2024-02-25 20:03:08,107] Trial 17 finished with value: 0.07270465016996591 and parameters: {'num_layers': 1, 'hidden_size': 82, 'dropout_rate': 0.44241596390706717, 'optimizer': 'Adam', 'lr': 0.004108325813700835}. Best is trial 9 with value: 0.06789462219246084.\n",
      "[I 2024-02-25 20:03:19,292] Trial 18 pruned. \n",
      "[I 2024-02-25 20:03:22,948] Trial 19 pruned. \n",
      "[I 2024-02-25 20:03:27,268] Trial 20 pruned. \n",
      "[I 2024-02-25 20:03:34,850] Trial 21 pruned. \n",
      "[I 2024-02-25 20:04:10,371] Trial 22 finished with value: 0.06943030092897605 and parameters: {'num_layers': 1, 'hidden_size': 56, 'dropout_rate': 0.35711195377265903, 'optimizer': 'Adam', 'lr': 0.001164399883211464}. Best is trial 9 with value: 0.06789462219246084.\n",
      "[I 2024-02-25 20:04:17,485] Trial 23 pruned. \n",
      "[I 2024-02-25 20:04:28,927] Trial 24 pruned. \n",
      "[I 2024-02-25 20:04:36,407] Trial 25 pruned. \n",
      "[I 2024-02-25 20:04:45,133] Trial 26 pruned. \n",
      "[I 2024-02-25 20:04:52,772] Trial 27 pruned. \n",
      "[I 2024-02-25 20:04:56,580] Trial 28 pruned. \n",
      "[I 2024-02-25 20:05:31,337] Trial 29 finished with value: 0.06933071259761789 and parameters: {'num_layers': 1, 'hidden_size': 43, 'dropout_rate': 0.14664646400125153, 'optimizer': 'RMSprop', 'lr': 0.003053434436217986}. Best is trial 9 with value: 0.06789462219246084.\n",
      "[I 2024-02-25 20:05:37,756] Trial 30 pruned. \n",
      "[I 2024-02-25 20:05:41,223] Trial 31 pruned. \n",
      "[I 2024-02-25 20:05:44,919] Trial 32 pruned. \n",
      "[I 2024-02-25 20:05:48,473] Trial 33 pruned. \n",
      "[I 2024-02-25 20:05:52,172] Trial 34 pruned. \n",
      "[I 2024-02-25 20:05:57,744] Trial 35 pruned. \n",
      "[I 2024-02-25 20:06:07,095] Trial 36 pruned. \n",
      "[I 2024-02-25 20:06:10,573] Trial 37 pruned. \n",
      "[I 2024-02-25 20:06:18,562] Trial 38 pruned. \n",
      "[I 2024-02-25 20:07:05,466] Trial 39 finished with value: 0.07709621927562525 and parameters: {'num_layers': 1, 'hidden_size': 89, 'dropout_rate': 0.47063562186754654, 'optimizer': 'Adam', 'lr': 0.003450423232887364}. Best is trial 9 with value: 0.06789462219246084.\n",
      "[I 2024-02-25 20:07:13,735] Trial 40 pruned. \n",
      "[I 2024-02-25 20:07:17,293] Trial 41 pruned. \n",
      "[I 2024-02-25 20:07:20,979] Trial 42 pruned. \n",
      "[I 2024-02-25 20:07:58,160] Trial 43 finished with value: 0.07101651608773267 and parameters: {'num_layers': 1, 'hidden_size': 59, 'dropout_rate': 0.03909697587172005, 'optimizer': 'Adam', 'lr': 0.016687275513676093}. Best is trial 9 with value: 0.06789462219246084.\n",
      "[I 2024-02-25 20:08:02,599] Trial 44 pruned. \n",
      "[I 2024-02-25 20:08:06,332] Trial 45 pruned. \n",
      "[I 2024-02-25 20:08:10,245] Trial 46 pruned. \n",
      "[I 2024-02-25 20:08:47,231] Trial 47 finished with value: 0.07333770923649782 and parameters: {'num_layers': 1, 'hidden_size': 63, 'dropout_rate': 0.22551702856677205, 'optimizer': 'Adam', 'lr': 0.005840527182157403}. Best is trial 9 with value: 0.06789462219246084.\n",
      "[I 2024-02-25 20:09:00,922] Trial 48 pruned. \n",
      "[I 2024-02-25 20:09:10,429] Trial 49 pruned. \n",
      "[I 2024-02-25 20:09:18,160] Trial 50 pruned. \n",
      "[I 2024-02-25 20:09:50,443] Trial 51 pruned. \n",
      "[I 2024-02-25 20:10:27,691] Trial 52 finished with value: 0.06918858127190679 and parameters: {'num_layers': 1, 'hidden_size': 53, 'dropout_rate': 0.05001684084583166, 'optimizer': 'Adam', 'lr': 0.037044405116270676}. Best is trial 9 with value: 0.06789462219246084.\n",
      "[I 2024-02-25 20:10:31,418] Trial 53 pruned. \n",
      "[I 2024-02-25 20:11:06,562] Trial 54 finished with value: 0.06913537193454149 and parameters: {'num_layers': 1, 'hidden_size': 47, 'dropout_rate': 0.011811299223759356, 'optimizer': 'Adam', 'lr': 0.009501823859485645}. Best is trial 9 with value: 0.06789462219246084.\n",
      "[I 2024-02-25 20:11:13,570] Trial 55 pruned. \n",
      "[I 2024-02-25 20:11:48,911] Trial 56 finished with value: 0.07297790297004769 and parameters: {'num_layers': 1, 'hidden_size': 45, 'dropout_rate': 0.06028429654210471, 'optimizer': 'Adam', 'lr': 0.03341231870616794}. Best is trial 9 with value: 0.06789462219246084.\n",
      "[I 2024-02-25 20:12:21,930] Trial 57 finished with value: 0.07292747993913197 and parameters: {'num_layers': 1, 'hidden_size': 48, 'dropout_rate': 0.0043862540933418195, 'optimizer': 'Adam', 'lr': 0.0395657476741715}. Best is trial 9 with value: 0.06789462219246084.\n",
      "[I 2024-02-25 20:12:55,726] Trial 58 finished with value: 0.06981068157239459 and parameters: {'num_layers': 1, 'hidden_size': 36, 'dropout_rate': 0.07180951395248729, 'optimizer': 'Adam', 'lr': 0.01350741216917698}. Best is trial 9 with value: 0.06789462219246084.\n",
      "[I 2024-02-25 20:12:59,419] Trial 59 pruned. \n",
      "[I 2024-02-25 20:13:12,685] Trial 60 pruned. \n",
      "[I 2024-02-25 20:13:16,411] Trial 61 pruned. \n",
      "[I 2024-02-25 20:13:23,995] Trial 62 pruned. \n",
      "[I 2024-02-25 20:13:27,468] Trial 63 pruned. \n",
      "[I 2024-02-25 20:14:04,177] Trial 64 finished with value: 0.07164112989261186 and parameters: {'num_layers': 1, 'hidden_size': 62, 'dropout_rate': 0.3339931569331371, 'optimizer': 'Adam', 'lr': 0.0069158182488885485}. Best is trial 9 with value: 0.06789462219246084.\n",
      "[I 2024-02-25 20:14:07,852] Trial 65 pruned. \n",
      "[I 2024-02-25 20:14:14,710] Trial 66 pruned. \n",
      "[I 2024-02-25 20:14:18,018] Trial 67 pruned. \n",
      "[I 2024-02-25 20:14:23,937] Trial 68 pruned. \n",
      "[I 2024-02-25 20:14:27,902] Trial 69 pruned. \n",
      "[I 2024-02-25 20:14:31,600] Trial 70 pruned. \n",
      "[I 2024-02-25 20:15:06,130] Trial 71 finished with value: 0.07214565465200204 and parameters: {'num_layers': 1, 'hidden_size': 37, 'dropout_rate': 0.07462115283192515, 'optimizer': 'Adam', 'lr': 0.013805199025611843}. Best is trial 9 with value: 0.06789462219246084.\n",
      "[I 2024-02-25 20:15:41,210] Trial 72 finished with value: 0.0719977924888725 and parameters: {'num_layers': 1, 'hidden_size': 34, 'dropout_rate': 0.025096651176784446, 'optimizer': 'Adam', 'lr': 0.024460608230659448}. Best is trial 9 with value: 0.06789462219246084.\n",
      "[I 2024-02-25 20:15:44,997] Trial 73 pruned. \n",
      "[I 2024-02-25 20:16:21,074] Trial 74 finished with value: 0.0694516605343341 and parameters: {'num_layers': 1, 'hidden_size': 38, 'dropout_rate': 0.051811690836302056, 'optimizer': 'Adam', 'lr': 0.008835229106955401}. Best is trial 9 with value: 0.06789462219246084.\n",
      "[I 2024-02-25 20:16:24,964] Trial 75 pruned. \n",
      "[I 2024-02-25 20:16:33,796] Trial 76 pruned. \n",
      "[I 2024-02-25 20:16:37,646] Trial 77 pruned. \n",
      "[I 2024-02-25 20:16:41,067] Trial 78 pruned. \n",
      "[I 2024-02-25 20:16:46,832] Trial 79 pruned. \n",
      "[I 2024-02-25 20:16:50,531] Trial 80 pruned. \n",
      "[I 2024-02-25 20:16:57,584] Trial 81 pruned. \n",
      "[I 2024-02-25 20:17:04,912] Trial 82 pruned. \n",
      "[I 2024-02-25 20:17:09,556] Trial 83 pruned. \n",
      "[I 2024-02-25 20:17:46,108] Trial 84 finished with value: 0.07129232918678216 and parameters: {'num_layers': 1, 'hidden_size': 46, 'dropout_rate': 0.14297340782754403, 'optimizer': 'Adam', 'lr': 0.01660709300360375}. Best is trial 9 with value: 0.06789462219246084.\n",
      "[I 2024-02-25 20:17:49,754] Trial 85 pruned. \n",
      "[I 2024-02-25 20:17:54,404] Trial 86 pruned. \n",
      "[I 2024-02-25 20:17:58,007] Trial 87 pruned. \n",
      "[I 2024-02-25 20:18:01,500] Trial 88 pruned. \n",
      "[I 2024-02-25 20:18:11,038] Trial 89 pruned. \n",
      "[I 2024-02-25 20:18:49,893] Trial 90 finished with value: 0.07307367434664086 and parameters: {'num_layers': 1, 'hidden_size': 51, 'dropout_rate': 0.2554688029000675, 'optimizer': 'Adam', 'lr': 0.03221011239544981}. Best is trial 9 with value: 0.06789462219246084.\n",
      "[I 2024-02-25 20:18:57,646] Trial 91 pruned. \n",
      "[I 2024-02-25 20:19:01,505] Trial 92 pruned. \n",
      "[I 2024-02-25 20:19:09,071] Trial 93 pruned. \n",
      "[I 2024-02-25 20:19:16,296] Trial 94 pruned. \n",
      "[I 2024-02-25 20:19:19,973] Trial 95 pruned. \n",
      "[I 2024-02-25 20:19:25,752] Trial 96 pruned. \n",
      "[I 2024-02-25 20:19:29,591] Trial 97 pruned. \n",
      "[I 2024-02-25 20:19:33,232] Trial 98 pruned. \n",
      "[I 2024-02-25 20:19:37,160] Trial 99 pruned. \n"
     ]
    },
    {
     "name": "stdout",
     "output_type": "stream",
     "text": [
      "Study statistics: \n",
      "  Number of finished trials:  100\n",
      "  Number of pruned trials:  74\n",
      "  Number of complete trials:  26\n",
      "Best trial:\n",
      "  Value:  0.06789462219246084\n",
      "  Params: \n",
      "    num_layers: 1\n",
      "    hidden_size: 69\n",
      "    dropout_rate: 0.47486099740715404\n",
      "    optimizer: Adam\n",
      "    lr: 0.0051787606123568026\n"
     ]
    }
   ],
   "source": [
    "if __name__ == \"__main__\":\n",
    "    study = optuna.create_study(direction=\"minimize\")\n",
    "    # study.optimize(objective, n_trials=5, timeout=600)\n",
    "    study.optimize(lambda trial: objective(trial, input_size, num_classes), n_trials=100, timeout=3600)\n",
    "\n",
    "    pruned_trials = study.get_trials(deepcopy=False, states=[TrialState.PRUNED])\n",
    "    complete_trials = study.get_trials(deepcopy=False, states=[TrialState.COMPLETE])\n",
    "\n",
    "    print(\"Study statistics: \")\n",
    "    print(\"  Number of finished trials: \", len(study.trials))\n",
    "    print(\"  Number of pruned trials: \", len(pruned_trials))\n",
    "    print(\"  Number of complete trials: \", len(complete_trials))\n",
    "\n",
    "    print(\"Best trial:\")\n",
    "    trial = study.best_trial\n",
    "\n",
    "    print(\"  Value: \", trial.value)\n",
    "\n",
    "    print(\"  Params: \")\n",
    "    for key, value in trial.params.items():\n",
    "        print(\"    {}: {}\".format(key, value))"
   ]
  },
  {
   "cell_type": "markdown",
   "metadata": {},
   "source": [
    "# Optuna Visualisation with RDB backend"
   ]
  },
  {
   "cell_type": "code",
   "execution_count": 13,
   "metadata": {},
   "outputs": [
    {
     "name": "stderr",
     "output_type": "stream",
     "text": [
      "[I 2024-02-25 20:21:00,908] Using an existing study with name 'your_study_name' instead of creating a new one.\n"
     ]
    }
   ],
   "source": [
    "storage_name = \"sqlite:///your_study.db\"  # Name your database file\n",
    "study_name = \"your_study_name\"  # Assign a name to your study\n",
    "new_study = optuna.create_study(direction=\"minimize\", study_name=study_name, storage=storage_name, load_if_exists=True)\n"
   ]
  },
  {
   "cell_type": "code",
   "execution_count": 14,
   "metadata": {},
   "outputs": [],
   "source": [
    "# transfer trials from memory to sqlite database\n",
    "for trial in study.trials:\n",
    "    new_study.add_trial(trial)"
   ]
  },
  {
   "cell_type": "code",
   "execution_count": 15,
   "metadata": {},
   "outputs": [
    {
     "name": "stdout",
     "output_type": "stream",
     "text": [
      "Original study trials: 100\n",
      "New study trials: 110\n"
     ]
    }
   ],
   "source": [
    "# verify that the trials were added\n",
    "print(\"Original study trials:\", len(study.trials))\n",
    "print(\"New study trials:\", len(new_study.trials))"
   ]
  },
  {
   "cell_type": "code",
   "execution_count": 16,
   "metadata": {},
   "outputs": [],
   "source": [
    "from optuna.visualization import plot_contour\n",
    "from optuna.visualization import plot_edf\n",
    "from optuna.visualization import plot_intermediate_values\n",
    "from optuna.visualization import plot_optimization_history\n",
    "from optuna.visualization import plot_parallel_coordinate\n",
    "from optuna.visualization import plot_param_importances\n",
    "from optuna.visualization import plot_rank\n",
    "from optuna.visualization import plot_slice\n",
    "from optuna.visualization import plot_timeline"
   ]
  },
  {
   "cell_type": "code",
   "execution_count": 18,
   "metadata": {},
   "outputs": [
    {
     "data": {
      "application/vnd.plotly.v1+json": {
       "config": {
        "plotlyServerURL": "https://plot.ly"
       },
       "data": [
        {
         "marker": {
          "maxdisplayed": 10
         },
         "mode": "lines+markers",
         "name": "Trial0",
         "type": "scatter",
         "x": [
          0,
          1,
          2,
          3,
          4,
          5,
          6,
          7,
          8,
          9
         ],
         "y": [
          0.096569459625393,
          0.08468548880754714,
          0.08765034149098502,
          0.0934726156458334,
          0.11312860725295272,
          0.08569580037446087,
          0.08794782226265892,
          0.0712723042137642,
          0.07662624734580385,
          0.0745268976554694
         ]
        },
        {
         "marker": {
          "maxdisplayed": 10
         },
         "mode": "lines+markers",
         "name": "Trial1",
         "type": "scatter",
         "x": [
          0,
          1,
          2,
          3,
          4,
          5,
          6,
          7,
          8,
          9
         ],
         "y": [
          0.32412194136017763,
          0.3203211661520947,
          0.31673815224679575,
          0.31336078910105464,
          0.31014082018761535,
          0.307110734233801,
          0.304230399440746,
          0.3015239701937365,
          0.29897005211914435,
          0.2965646622211691
         ]
        },
        {
         "marker": {
          "maxdisplayed": 10
         },
         "mode": "lines+markers",
         "name": "Trial2",
         "type": "scatter",
         "x": [
          0,
          1,
          2,
          3,
          4,
          5,
          6,
          7,
          8,
          9
         ],
         "y": [
          0.43165598575440833,
          0.42827999700398783,
          0.4249189157482861,
          0.4216590577290597,
          0.4184493168687403,
          0.41530117820087276,
          0.41221533222240575,
          0.40918531391217666,
          0.40620411311809457,
          0.4032772426305503
         ]
        },
        {
         "marker": {
          "maxdisplayed": 10
         },
         "mode": "lines+markers",
         "name": "Trial3",
         "type": "scatter",
         "x": [
          0,
          1,
          2,
          3,
          4,
          5,
          6,
          7,
          8,
          9
         ],
         "y": [
          0.09684151843935339,
          0.09116667992268017,
          0.10232542615082345,
          0.11140216136503889,
          0.10721717876994483,
          0.09099668876362654,
          0.08500531008197733,
          0.09435308441533523,
          0.18189563179643392,
          0.0836666740221685
         ]
        },
        {
         "marker": {
          "maxdisplayed": 10
         },
         "mode": "lines+markers",
         "name": "Trial4",
         "type": "scatter",
         "x": [
          0,
          1,
          2,
          3,
          4,
          5,
          6,
          7,
          8,
          9
         ],
         "y": [
          0.08645149476970722,
          0.08573874537807982,
          0.08402661500750516,
          0.0772608130220297,
          0.07489631008704192,
          0.07408726435022404,
          0.07692957190295441,
          0.08109637671869412,
          0.07314348808720816,
          0.06880286054138306
         ]
        },
        {
         "marker": {
          "maxdisplayed": 10
         },
         "mode": "lines+markers",
         "name": "Trial5",
         "type": "scatter",
         "x": [
          0
         ],
         "y": [
          0.1205895981315348
         ]
        },
        {
         "marker": {
          "maxdisplayed": 10
         },
         "mode": "lines+markers",
         "name": "Trial6",
         "type": "scatter",
         "x": [
          0
         ],
         "y": [
          0.20331468468659133
         ]
        },
        {
         "marker": {
          "maxdisplayed": 10
         },
         "mode": "lines+markers",
         "name": "Trial7",
         "type": "scatter",
         "x": [
          0
         ],
         "y": [
          0.22112103311314157
         ]
        },
        {
         "marker": {
          "maxdisplayed": 10
         },
         "mode": "lines+markers",
         "name": "Trial8",
         "type": "scatter",
         "x": [
          0
         ],
         "y": [
          0.24059053051708457
         ]
        },
        {
         "marker": {
          "maxdisplayed": 10
         },
         "mode": "lines+markers",
         "name": "Trial9",
         "type": "scatter",
         "x": [
          0,
          1,
          2,
          3,
          4,
          5,
          6,
          7,
          8,
          9
         ],
         "y": [
          0.0855944049814939,
          0.07634238879500628,
          0.07553323370457085,
          0.07681555046424499,
          0.10010402830930329,
          0.07341881844270894,
          0.0740039116852677,
          0.07674086827142493,
          0.0708468486532356,
          0.06789462219246084
         ]
        },
        {
         "marker": {
          "maxdisplayed": 10
         },
         "mode": "lines+markers",
         "name": "Trial10",
         "type": "scatter",
         "x": [
          0
         ],
         "y": [
          0.13743929688544926
         ]
        },
        {
         "marker": {
          "maxdisplayed": 10
         },
         "mode": "lines+markers",
         "name": "Trial11",
         "type": "scatter",
         "x": [
          0
         ],
         "y": [
          0.10983636640507448
         ]
        },
        {
         "marker": {
          "maxdisplayed": 10
         },
         "mode": "lines+markers",
         "name": "Trial12",
         "type": "scatter",
         "x": [
          0,
          1,
          2,
          3,
          4,
          5,
          6,
          7,
          8,
          9
         ],
         "y": [
          0.09194926362898793,
          0.08679737791235158,
          0.08699124241740455,
          0.08574054093381606,
          0.08732182194574568,
          0.0843226306215551,
          0.08186816349967035,
          0.07629964343580146,
          0.0726499978643926,
          0.0695601605982896
         ]
        },
        {
         "marker": {
          "maxdisplayed": 10
         },
         "mode": "lines+markers",
         "name": "Trial13",
         "type": "scatter",
         "x": [
          0
         ],
         "y": [
          0.4256040029879283
         ]
        },
        {
         "marker": {
          "maxdisplayed": 10
         },
         "mode": "lines+markers",
         "name": "Trial14",
         "type": "scatter",
         "x": [
          0,
          1,
          2,
          3,
          4,
          5,
          6,
          7,
          8,
          9
         ],
         "y": [
          0.09175558515640396,
          0.08062997424281738,
          0.0762557202168236,
          0.07297918501944918,
          0.0744156249099108,
          0.06877446045973855,
          0.07662259629768843,
          0.07237462128455817,
          0.08324101236548932,
          0.07304291239485924
         ]
        },
        {
         "marker": {
          "maxdisplayed": 10
         },
         "mode": "lines+markers",
         "name": "Trial15",
         "type": "scatter",
         "x": [
          0,
          1,
          2,
          3,
          4,
          5,
          6,
          7,
          8,
          9
         ],
         "y": [
          0.07829052773398101,
          0.07305149275270469,
          0.07173315627623067,
          0.09286140236895213,
          0.07547247111632101,
          0.08561994432901836,
          0.0756896765514987,
          0.07526178921596015,
          0.07387428612219747,
          0.07377471897973466
         ]
        },
        {
         "marker": {
          "maxdisplayed": 10
         },
         "mode": "lines+markers",
         "name": "Trial16",
         "type": "scatter",
         "x": [
          0
         ],
         "y": [
          0.09812189552656272
         ]
        },
        {
         "marker": {
          "maxdisplayed": 10
         },
         "mode": "lines+markers",
         "name": "Trial17",
         "type": "scatter",
         "x": [
          0,
          1,
          2,
          3,
          4,
          5,
          6,
          7,
          8,
          9
         ],
         "y": [
          0.08929087646160996,
          0.0728683446793813,
          0.07670728439422039,
          0.07240868392922065,
          0.07282352944140569,
          0.07353248969358094,
          0.07775510487410127,
          0.07194140961341458,
          0.06964495262590997,
          0.07270465016996591
         ]
        },
        {
         "marker": {
          "maxdisplayed": 10
         },
         "mode": "lines+markers",
         "name": "Trial18",
         "type": "scatter",
         "x": [
          0,
          1
         ],
         "y": [
          0.08559889250334814,
          0.10224793321222914
         ]
        },
        {
         "marker": {
          "maxdisplayed": 10
         },
         "mode": "lines+markers",
         "name": "Trial19",
         "type": "scatter",
         "x": [
          0
         ],
         "y": [
          0.25246346672017606
         ]
        },
        {
         "marker": {
          "maxdisplayed": 10
         },
         "mode": "lines+markers",
         "name": "Trial20",
         "type": "scatter",
         "x": [
          0
         ],
         "y": [
          0.11287171879078567
         ]
        },
        {
         "marker": {
          "maxdisplayed": 10
         },
         "mode": "lines+markers",
         "name": "Trial21",
         "type": "scatter",
         "x": [
          0,
          1
         ],
         "y": [
          0.08713081787966344,
          0.09720545691803967
         ]
        },
        {
         "marker": {
          "maxdisplayed": 10
         },
         "mode": "lines+markers",
         "name": "Trial22",
         "type": "scatter",
         "x": [
          0,
          1,
          2,
          3,
          4,
          5,
          6,
          7,
          8,
          9
         ],
         "y": [
          0.08957489338810397,
          0.08445075642979047,
          0.08770815209566526,
          0.07349750376302717,
          0.07383281264853957,
          0.07341440091845272,
          0.07506694612231002,
          0.0725045534506829,
          0.07278385115990138,
          0.06943030092897605
         ]
        },
        {
         "marker": {
          "maxdisplayed": 10
         },
         "mode": "lines+markers",
         "name": "Trial23",
         "type": "scatter",
         "x": [
          0,
          1
         ],
         "y": [
          0.08725704840348776,
          0.08475304544547217
         ]
        },
        {
         "marker": {
          "maxdisplayed": 10
         },
         "mode": "lines+markers",
         "name": "Trial24",
         "type": "scatter",
         "x": [
          0,
          1
         ],
         "y": [
          0.09133075275954784,
          0.10113948308295104
         ]
        },
        {
         "marker": {
          "maxdisplayed": 10
         },
         "mode": "lines+markers",
         "name": "Trial25",
         "type": "scatter",
         "x": [
          0,
          1
         ],
         "y": [
          0.08665337068722799,
          0.08495596313333334
         ]
        },
        {
         "marker": {
          "maxdisplayed": 10
         },
         "mode": "lines+markers",
         "name": "Trial26",
         "type": "scatter",
         "x": [
          0,
          1
         ],
         "y": [
          0.08851232248528045,
          0.08758294033689046
         ]
        },
        {
         "marker": {
          "maxdisplayed": 10
         },
         "mode": "lines+markers",
         "name": "Trial27",
         "type": "scatter",
         "x": [
          0
         ],
         "y": [
          0.09940261593685254
         ]
        },
        {
         "marker": {
          "maxdisplayed": 10
         },
         "mode": "lines+markers",
         "name": "Trial28",
         "type": "scatter",
         "x": [
          0
         ],
         "y": [
          0.36990229676672
         ]
        },
        {
         "marker": {
          "maxdisplayed": 10
         },
         "mode": "lines+markers",
         "name": "Trial29",
         "type": "scatter",
         "x": [
          0,
          1,
          2,
          3,
          4,
          5,
          6,
          7,
          8,
          9
         ],
         "y": [
          0.08083015720793492,
          0.11094658682736026,
          0.07265296972557284,
          0.074043297298036,
          0.07352925420709233,
          0.08413036628489064,
          0.08174708681335123,
          0.09284437610306566,
          0.07122744687677217,
          0.06933071259761789
         ]
        },
        {
         "marker": {
          "maxdisplayed": 10
         },
         "mode": "lines+markers",
         "name": "Trial30",
         "type": "scatter",
         "x": [
          0,
          1
         ],
         "y": [
          0.08586301255565809,
          0.08977357171203379
         ]
        },
        {
         "marker": {
          "maxdisplayed": 10
         },
         "mode": "lines+markers",
         "name": "Trial31",
         "type": "scatter",
         "x": [
          0
         ],
         "y": [
          0.09419601390731
         ]
        },
        {
         "marker": {
          "maxdisplayed": 10
         },
         "mode": "lines+markers",
         "name": "Trial32",
         "type": "scatter",
         "x": [
          0
         ],
         "y": [
          0.0985804231272009
         ]
        },
        {
         "marker": {
          "maxdisplayed": 10
         },
         "mode": "lines+markers",
         "name": "Trial33",
         "type": "scatter",
         "x": [
          0
         ],
         "y": [
          0.09169208612231183
         ]
        },
        {
         "marker": {
          "maxdisplayed": 10
         },
         "mode": "lines+markers",
         "name": "Trial34",
         "type": "scatter",
         "x": [
          0
         ],
         "y": [
          0.14809534880248337
         ]
        },
        {
         "marker": {
          "maxdisplayed": 10
         },
         "mode": "lines+markers",
         "name": "Trial35",
         "type": "scatter",
         "x": [
          0
         ],
         "y": [
          0.247217175217636
         ]
        },
        {
         "marker": {
          "maxdisplayed": 10
         },
         "mode": "lines+markers",
         "name": "Trial36",
         "type": "scatter",
         "x": [
          0,
          1
         ],
         "y": [
          0.08719004537624188,
          0.09278300888479635
         ]
        },
        {
         "marker": {
          "maxdisplayed": 10
         },
         "mode": "lines+markers",
         "name": "Trial37",
         "type": "scatter",
         "x": [
          0
         ],
         "y": [
          0.16477385361807986
         ]
        },
        {
         "marker": {
          "maxdisplayed": 10
         },
         "mode": "lines+markers",
         "name": "Trial38",
         "type": "scatter",
         "x": [
          0
         ],
         "y": [
          0.3490694445920851
         ]
        },
        {
         "marker": {
          "maxdisplayed": 10
         },
         "mode": "lines+markers",
         "name": "Trial39",
         "type": "scatter",
         "x": [
          0,
          1,
          2,
          3,
          4,
          5,
          6,
          7,
          8,
          9
         ],
         "y": [
          0.08762400373364918,
          0.08243986294013916,
          0.08650214124348071,
          0.07486335945779861,
          0.07137334075652542,
          0.07498061583405934,
          0.07562587604290777,
          0.07744112134864044,
          0.06832218199810484,
          0.07709621927562525
         ]
        },
        {
         "marker": {
          "maxdisplayed": 10
         },
         "mode": "lines+markers",
         "name": "Trial40",
         "type": "scatter",
         "x": [
          0
         ],
         "y": [
          0.1607752660013268
         ]
        },
        {
         "marker": {
          "maxdisplayed": 10
         },
         "mode": "lines+markers",
         "name": "Trial41",
         "type": "scatter",
         "x": [
          0
         ],
         "y": [
          0.09034318399083273
         ]
        },
        {
         "marker": {
          "maxdisplayed": 10
         },
         "mode": "lines+markers",
         "name": "Trial42",
         "type": "scatter",
         "x": [
          0
         ],
         "y": [
          0.0915058710516633
         ]
        },
        {
         "marker": {
          "maxdisplayed": 10
         },
         "mode": "lines+markers",
         "name": "Trial43",
         "type": "scatter",
         "x": [
          0,
          1,
          2,
          3,
          4,
          5,
          6,
          7,
          8,
          9
         ],
         "y": [
          0.0791524167643956,
          0.07762661240872067,
          0.07269047833768111,
          0.07223097400207924,
          0.07561651116154622,
          0.07609869666141704,
          0.07387417072087621,
          0.08207108777824967,
          0.06861947991507703,
          0.07101651608773267
         ]
        },
        {
         "marker": {
          "maxdisplayed": 10
         },
         "mode": "lines+markers",
         "name": "Trial44",
         "type": "scatter",
         "x": [
          0
         ],
         "y": [
          0.10057184996394317
         ]
        },
        {
         "marker": {
          "maxdisplayed": 10
         },
         "mode": "lines+markers",
         "name": "Trial45",
         "type": "scatter",
         "x": [
          0
         ],
         "y": [
          0.3706475668224917
         ]
        },
        {
         "marker": {
          "maxdisplayed": 10
         },
         "mode": "lines+markers",
         "name": "Trial46",
         "type": "scatter",
         "x": [
          0
         ],
         "y": [
          0.08987927840723027
         ]
        },
        {
         "marker": {
          "maxdisplayed": 10
         },
         "mode": "lines+markers",
         "name": "Trial47",
         "type": "scatter",
         "x": [
          0,
          1,
          2,
          3,
          4,
          5,
          6,
          7,
          8,
          9
         ],
         "y": [
          0.08599574286581346,
          0.07894447099209004,
          0.07492883235110269,
          0.07111082088727579,
          0.07074205488849077,
          0.07514159143078526,
          0.07958683775139364,
          0.07398156392202311,
          0.07444443257455492,
          0.07333770923649782
         ]
        },
        {
         "marker": {
          "maxdisplayed": 10
         },
         "mode": "lines+markers",
         "name": "Trial48",
         "type": "scatter",
         "x": [
          0,
          1,
          2,
          3
         ],
         "y": [
          0.08518026389765541,
          0.0836912891891992,
          0.08253568743768748,
          0.08666038502042822
         ]
        },
        {
         "marker": {
          "maxdisplayed": 10
         },
         "mode": "lines+markers",
         "name": "Trial49",
         "type": "scatter",
         "x": [
          0
         ],
         "y": [
          0.36476902638723674
         ]
        },
        {
         "marker": {
          "maxdisplayed": 10
         },
         "mode": "lines+markers",
         "name": "Trial50",
         "type": "scatter",
         "x": [
          0
         ],
         "y": [
          0.09710275924807606
         ]
        },
        {
         "marker": {
          "maxdisplayed": 10
         },
         "mode": "lines+markers",
         "name": "Trial51",
         "type": "scatter",
         "x": [
          0,
          1,
          2,
          3,
          4,
          5,
          6,
          7,
          8
         ],
         "y": [
          0.07957331261601266,
          0.07338448615085655,
          0.08214327957616367,
          0.08980645177808098,
          0.07766881517128874,
          0.07759390296536212,
          0.07662133471409306,
          0.07318457972750098,
          0.08140491614255013
         ]
        },
        {
         "marker": {
          "maxdisplayed": 10
         },
         "mode": "lines+markers",
         "name": "Trial52",
         "type": "scatter",
         "x": [
          0,
          1,
          2,
          3,
          4,
          5,
          6,
          7,
          8,
          9
         ],
         "y": [
          0.08410539766966435,
          0.07915050818576173,
          0.07430827617518014,
          0.07340940539816869,
          0.07404150967719753,
          0.07444793357332691,
          0.07375652015257024,
          0.06871266223340798,
          0.06812040704665388,
          0.06918858127190679
         ]
        },
        {
         "marker": {
          "maxdisplayed": 10
         },
         "mode": "lines+markers",
         "name": "Trial53",
         "type": "scatter",
         "x": [
          0
         ],
         "y": [
          0.10093841196710211
         ]
        },
        {
         "marker": {
          "maxdisplayed": 10
         },
         "mode": "lines+markers",
         "name": "Trial54",
         "type": "scatter",
         "x": [
          0,
          1,
          2,
          3,
          4,
          5,
          6,
          7,
          8,
          9
         ],
         "y": [
          0.0841923578131114,
          0.07435901884550658,
          0.08884582863436478,
          0.07864510505588743,
          0.08917989037776093,
          0.07095467445554854,
          0.0692426773969368,
          0.07161550145433235,
          0.06955632526359362,
          0.06913537193454149
         ]
        },
        {
         "marker": {
          "maxdisplayed": 10
         },
         "mode": "lines+markers",
         "name": "Trial55",
         "type": "scatter",
         "x": [
          0,
          1
         ],
         "y": [
          0.08580713746487553,
          0.1035483294613264
         ]
        },
        {
         "marker": {
          "maxdisplayed": 10
         },
         "mode": "lines+markers",
         "name": "Trial56",
         "type": "scatter",
         "x": [
          0,
          1,
          2,
          3,
          4,
          5,
          6,
          7,
          8,
          9
         ],
         "y": [
          0.08123301211047873,
          0.08769175249565593,
          0.07686339817411567,
          0.07396270794702238,
          0.07439209812745042,
          0.09202250200274958,
          0.0739292155364399,
          0.07503561206418984,
          0.07244706023704175,
          0.07297790297004769
         ]
        },
        {
         "marker": {
          "maxdisplayed": 10
         },
         "mode": "lines+markers",
         "name": "Trial57",
         "type": "scatter",
         "x": [
          0,
          1,
          2,
          3,
          4,
          5,
          6,
          7,
          8,
          9
         ],
         "y": [
          0.08164217640838659,
          0.07506397570640642,
          0.07449233439891749,
          0.07564954109939398,
          0.07336225406815963,
          0.07550461124890519,
          0.07073241729000185,
          0.10442653260424847,
          0.07677686278810242,
          0.07292747993913197
         ]
        },
        {
         "marker": {
          "maxdisplayed": 10
         },
         "mode": "lines+markers",
         "name": "Trial58",
         "type": "scatter",
         "x": [
          0,
          1,
          2,
          3,
          4,
          5,
          6,
          7,
          8,
          9
         ],
         "y": [
          0.08075515688079597,
          0.07604112868835564,
          0.07198405020340166,
          0.07220572520273183,
          0.0713739610644658,
          0.07175006995793827,
          0.09030222708398733,
          0.07798348657833791,
          0.07455958111436214,
          0.06981068157239459
         ]
        },
        {
         "marker": {
          "maxdisplayed": 10
         },
         "mode": "lines+markers",
         "name": "Trial59",
         "type": "scatter",
         "x": [
          0
         ],
         "y": [
          0.14248960855556866
         ]
        },
        {
         "marker": {
          "maxdisplayed": 10
         },
         "mode": "lines+markers",
         "name": "Trial60",
         "type": "scatter",
         "x": [
          0,
          1,
          2
         ],
         "y": [
          0.0789020036540252,
          0.07787988120302526,
          0.07814847480006526
         ]
        },
        {
         "marker": {
          "maxdisplayed": 10
         },
         "mode": "lines+markers",
         "name": "Trial61",
         "type": "scatter",
         "x": [
          0
         ],
         "y": [
          0.10816848779026202
         ]
        },
        {
         "marker": {
          "maxdisplayed": 10
         },
         "mode": "lines+markers",
         "name": "Trial62",
         "type": "scatter",
         "x": [
          0,
          1
         ],
         "y": [
          0.08279412542234288,
          0.08637902970440209
         ]
        },
        {
         "marker": {
          "maxdisplayed": 10
         },
         "mode": "lines+markers",
         "name": "Trial63",
         "type": "scatter",
         "x": [
          0
         ],
         "y": [
          0.09167960262901036
         ]
        },
        {
         "marker": {
          "maxdisplayed": 10
         },
         "mode": "lines+markers",
         "name": "Trial64",
         "type": "scatter",
         "x": [
          0,
          1,
          2,
          3,
          4,
          5,
          6,
          7,
          8,
          9
         ],
         "y": [
          0.08266261006788647,
          0.07485762515748907,
          0.07270618891528888,
          0.08871810671766493,
          0.07334659721003568,
          0.07560210496969898,
          0.07689434681150263,
          0.07909365461178336,
          0.07531739696126362,
          0.07164112989261186
         ]
        },
        {
         "marker": {
          "maxdisplayed": 10
         },
         "mode": "lines+markers",
         "name": "Trial65",
         "type": "scatter",
         "x": [
          0
         ],
         "y": [
          0.08719041363127968
         ]
        },
        {
         "marker": {
          "maxdisplayed": 10
         },
         "mode": "lines+markers",
         "name": "Trial66",
         "type": "scatter",
         "x": [
          0,
          1
         ],
         "y": [
          0.08543359928111832,
          0.09403182873767944
         ]
        },
        {
         "marker": {
          "maxdisplayed": 10
         },
         "mode": "lines+markers",
         "name": "Trial67",
         "type": "scatter",
         "x": [
          0
         ],
         "y": [
          0.23564701182990822
         ]
        },
        {
         "marker": {
          "maxdisplayed": 10
         },
         "mode": "lines+markers",
         "name": "Trial68",
         "type": "scatter",
         "x": [
          0
         ],
         "y": [
          0.2177197389167969
         ]
        },
        {
         "marker": {
          "maxdisplayed": 10
         },
         "mode": "lines+markers",
         "name": "Trial69",
         "type": "scatter",
         "x": [
          0
         ],
         "y": [
          0.09277569926358177
         ]
        },
        {
         "marker": {
          "maxdisplayed": 10
         },
         "mode": "lines+markers",
         "name": "Trial70",
         "type": "scatter",
         "x": [
          0
         ],
         "y": [
          0.09066304982294644
         ]
        },
        {
         "marker": {
          "maxdisplayed": 10
         },
         "mode": "lines+markers",
         "name": "Trial71",
         "type": "scatter",
         "x": [
          0,
          1,
          2,
          3,
          4,
          5,
          6,
          7,
          8,
          9
         ],
         "y": [
          0.08517515378211915,
          0.07270833950765346,
          0.10260525521447642,
          0.07425491246180572,
          0.07759756664889585,
          0.08672084180452963,
          0.07681872622410353,
          0.07410954791613725,
          0.06988244286503506,
          0.07214565465200204
         ]
        },
        {
         "marker": {
          "maxdisplayed": 10
         },
         "mode": "lines+markers",
         "name": "Trial72",
         "type": "scatter",
         "x": [
          0,
          1,
          2,
          3,
          4,
          5,
          6,
          7,
          8,
          9
         ],
         "y": [
          0.07825257208628736,
          0.07601389906936784,
          0.07672417784685792,
          0.0749571453037753,
          0.07429084920875437,
          0.07178283864501607,
          0.07464296417681879,
          0.06875401392480295,
          0.07492136326663132,
          0.0719977924888725
         ]
        },
        {
         "marker": {
          "maxdisplayed": 10
         },
         "mode": "lines+markers",
         "name": "Trial73",
         "type": "scatter",
         "x": [
          0
         ],
         "y": [
          0.09562032649626753
         ]
        },
        {
         "marker": {
          "maxdisplayed": 10
         },
         "mode": "lines+markers",
         "name": "Trial74",
         "type": "scatter",
         "x": [
          0,
          1,
          2,
          3,
          4,
          5,
          6,
          7,
          8,
          9
         ],
         "y": [
          0.08548571750299959,
          0.07566815927648918,
          0.09082443562796354,
          0.07145361837219302,
          0.07826922662752599,
          0.07528968145145279,
          0.06926589178149029,
          0.07139360042089263,
          0.07123591108031053,
          0.0694516605343341
         ]
        },
        {
         "marker": {
          "maxdisplayed": 10
         },
         "mode": "lines+markers",
         "name": "Trial75",
         "type": "scatter",
         "x": [
          0
         ],
         "y": [
          0.08754936196659802
         ]
        },
        {
         "marker": {
          "maxdisplayed": 10
         },
         "mode": "lines+markers",
         "name": "Trial76",
         "type": "scatter",
         "x": [
          0,
          1
         ],
         "y": [
          0.0811798210956034,
          0.08273887154503523
         ]
        },
        {
         "marker": {
          "maxdisplayed": 10
         },
         "mode": "lines+markers",
         "name": "Trial77",
         "type": "scatter",
         "x": [
          0
         ],
         "y": [
          0.09105760731909583
         ]
        },
        {
         "marker": {
          "maxdisplayed": 10
         },
         "mode": "lines+markers",
         "name": "Trial78",
         "type": "scatter",
         "x": [
          0
         ],
         "y": [
          0.09116907230684278
         ]
        },
        {
         "marker": {
          "maxdisplayed": 10
         },
         "mode": "lines+markers",
         "name": "Trial79",
         "type": "scatter",
         "x": [
          0
         ],
         "y": [
          0.09096561956256102
         ]
        },
        {
         "marker": {
          "maxdisplayed": 10
         },
         "mode": "lines+markers",
         "name": "Trial80",
         "type": "scatter",
         "x": [
          0
         ],
         "y": [
          0.3598314824063486
         ]
        },
        {
         "marker": {
          "maxdisplayed": 10
         },
         "mode": "lines+markers",
         "name": "Trial81",
         "type": "scatter",
         "x": [
          0,
          1
         ],
         "y": [
          0.08410618179261267,
          0.08936536342504783
         ]
        },
        {
         "marker": {
          "maxdisplayed": 10
         },
         "mode": "lines+markers",
         "name": "Trial82",
         "type": "scatter",
         "x": [
          0,
          1
         ],
         "y": [
          0.08366586410590134,
          0.07950527555297908
         ]
        },
        {
         "marker": {
          "maxdisplayed": 10
         },
         "mode": "lines+markers",
         "name": "Trial83",
         "type": "scatter",
         "x": [
          0
         ],
         "y": [
          0.08941390027987406
         ]
        },
        {
         "marker": {
          "maxdisplayed": 10
         },
         "mode": "lines+markers",
         "name": "Trial84",
         "type": "scatter",
         "x": [
          0,
          1,
          2,
          3,
          4,
          5,
          6,
          7,
          8,
          9
         ],
         "y": [
          0.0765766481430129,
          0.08435402208888514,
          0.09974137790023443,
          0.07215507723888707,
          0.07722616406702673,
          0.07410874284879869,
          0.0737035613459952,
          0.07227305252186643,
          0.07191758276871034,
          0.07129232918678216
         ]
        },
        {
         "marker": {
          "maxdisplayed": 10
         },
         "mode": "lines+markers",
         "name": "Trial85",
         "type": "scatter",
         "x": [
          0
         ],
         "y": [
          0.08925446860976863
         ]
        },
        {
         "marker": {
          "maxdisplayed": 10
         },
         "mode": "lines+markers",
         "name": "Trial86",
         "type": "scatter",
         "x": [
          0
         ],
         "y": [
          0.08934958997022853
         ]
        },
        {
         "marker": {
          "maxdisplayed": 10
         },
         "mode": "lines+markers",
         "name": "Trial87",
         "type": "scatter",
         "x": [
          0
         ],
         "y": [
          0.08599319051953808
         ]
        },
        {
         "marker": {
          "maxdisplayed": 10
         },
         "mode": "lines+markers",
         "name": "Trial88",
         "type": "scatter",
         "x": [
          0
         ],
         "y": [
          0.11360775741707614
         ]
        },
        {
         "marker": {
          "maxdisplayed": 10
         },
         "mode": "lines+markers",
         "name": "Trial89",
         "type": "scatter",
         "x": [
          0
         ],
         "y": [
          0.10180479105001304
         ]
        },
        {
         "marker": {
          "maxdisplayed": 10
         },
         "mode": "lines+markers",
         "name": "Trial90",
         "type": "scatter",
         "x": [
          0,
          1,
          2,
          3,
          4,
          5,
          6,
          7,
          8,
          9
         ],
         "y": [
          0.0785322497332117,
          0.0807239991877758,
          0.07387780589711618,
          0.07220052097086874,
          0.0716662309811906,
          0.07341543809966887,
          0.0719054779274603,
          0.14203418344349666,
          0.07869456013053003,
          0.07307367434664086
         ]
        },
        {
         "marker": {
          "maxdisplayed": 10
         },
         "mode": "lines+markers",
         "name": "Trial91",
         "type": "scatter",
         "x": [
          0,
          1
         ],
         "y": [
          0.08198482859041178,
          0.09768078491226638
         ]
        },
        {
         "marker": {
          "maxdisplayed": 10
         },
         "mode": "lines+markers",
         "name": "Trial92",
         "type": "scatter",
         "x": [
          0
         ],
         "y": [
          0.08813332362024599
         ]
        },
        {
         "marker": {
          "maxdisplayed": 10
         },
         "mode": "lines+markers",
         "name": "Trial93",
         "type": "scatter",
         "x": [
          0,
          1
         ],
         "y": [
          0.08203529319126202,
          0.09462319693225059
         ]
        },
        {
         "marker": {
          "maxdisplayed": 10
         },
         "mode": "lines+markers",
         "name": "Trial94",
         "type": "scatter",
         "x": [
          0,
          1
         ],
         "y": [
          0.08022625198059632,
          0.08140737039319752
         ]
        },
        {
         "marker": {
          "maxdisplayed": 10
         },
         "mode": "lines+markers",
         "name": "Trial95",
         "type": "scatter",
         "x": [
          0
         ],
         "y": [
          0.09043195436130007
         ]
        },
        {
         "marker": {
          "maxdisplayed": 10
         },
         "mode": "lines+markers",
         "name": "Trial96",
         "type": "scatter",
         "x": [
          0
         ],
         "y": [
          0.08920261542937484
         ]
        },
        {
         "marker": {
          "maxdisplayed": 10
         },
         "mode": "lines+markers",
         "name": "Trial97",
         "type": "scatter",
         "x": [
          0
         ],
         "y": [
          0.2779680889493483
         ]
        },
        {
         "marker": {
          "maxdisplayed": 10
         },
         "mode": "lines+markers",
         "name": "Trial98",
         "type": "scatter",
         "x": [
          0
         ],
         "y": [
          0.08575603829183485
         ]
        },
        {
         "marker": {
          "maxdisplayed": 10
         },
         "mode": "lines+markers",
         "name": "Trial99",
         "type": "scatter",
         "x": [
          0
         ],
         "y": [
          0.08648392240850067
         ]
        }
       ],
       "layout": {
        "showlegend": false,
        "template": {
         "data": {
          "bar": [
           {
            "error_x": {
             "color": "#2a3f5f"
            },
            "error_y": {
             "color": "#2a3f5f"
            },
            "marker": {
             "line": {
              "color": "#E5ECF6",
              "width": 0.5
             },
             "pattern": {
              "fillmode": "overlay",
              "size": 10,
              "solidity": 0.2
             }
            },
            "type": "bar"
           }
          ],
          "barpolar": [
           {
            "marker": {
             "line": {
              "color": "#E5ECF6",
              "width": 0.5
             },
             "pattern": {
              "fillmode": "overlay",
              "size": 10,
              "solidity": 0.2
             }
            },
            "type": "barpolar"
           }
          ],
          "carpet": [
           {
            "aaxis": {
             "endlinecolor": "#2a3f5f",
             "gridcolor": "white",
             "linecolor": "white",
             "minorgridcolor": "white",
             "startlinecolor": "#2a3f5f"
            },
            "baxis": {
             "endlinecolor": "#2a3f5f",
             "gridcolor": "white",
             "linecolor": "white",
             "minorgridcolor": "white",
             "startlinecolor": "#2a3f5f"
            },
            "type": "carpet"
           }
          ],
          "choropleth": [
           {
            "colorbar": {
             "outlinewidth": 0,
             "ticks": ""
            },
            "type": "choropleth"
           }
          ],
          "contour": [
           {
            "colorbar": {
             "outlinewidth": 0,
             "ticks": ""
            },
            "colorscale": [
             [
              0,
              "#0d0887"
             ],
             [
              0.1111111111111111,
              "#46039f"
             ],
             [
              0.2222222222222222,
              "#7201a8"
             ],
             [
              0.3333333333333333,
              "#9c179e"
             ],
             [
              0.4444444444444444,
              "#bd3786"
             ],
             [
              0.5555555555555556,
              "#d8576b"
             ],
             [
              0.6666666666666666,
              "#ed7953"
             ],
             [
              0.7777777777777778,
              "#fb9f3a"
             ],
             [
              0.8888888888888888,
              "#fdca26"
             ],
             [
              1,
              "#f0f921"
             ]
            ],
            "type": "contour"
           }
          ],
          "contourcarpet": [
           {
            "colorbar": {
             "outlinewidth": 0,
             "ticks": ""
            },
            "type": "contourcarpet"
           }
          ],
          "heatmap": [
           {
            "colorbar": {
             "outlinewidth": 0,
             "ticks": ""
            },
            "colorscale": [
             [
              0,
              "#0d0887"
             ],
             [
              0.1111111111111111,
              "#46039f"
             ],
             [
              0.2222222222222222,
              "#7201a8"
             ],
             [
              0.3333333333333333,
              "#9c179e"
             ],
             [
              0.4444444444444444,
              "#bd3786"
             ],
             [
              0.5555555555555556,
              "#d8576b"
             ],
             [
              0.6666666666666666,
              "#ed7953"
             ],
             [
              0.7777777777777778,
              "#fb9f3a"
             ],
             [
              0.8888888888888888,
              "#fdca26"
             ],
             [
              1,
              "#f0f921"
             ]
            ],
            "type": "heatmap"
           }
          ],
          "heatmapgl": [
           {
            "colorbar": {
             "outlinewidth": 0,
             "ticks": ""
            },
            "colorscale": [
             [
              0,
              "#0d0887"
             ],
             [
              0.1111111111111111,
              "#46039f"
             ],
             [
              0.2222222222222222,
              "#7201a8"
             ],
             [
              0.3333333333333333,
              "#9c179e"
             ],
             [
              0.4444444444444444,
              "#bd3786"
             ],
             [
              0.5555555555555556,
              "#d8576b"
             ],
             [
              0.6666666666666666,
              "#ed7953"
             ],
             [
              0.7777777777777778,
              "#fb9f3a"
             ],
             [
              0.8888888888888888,
              "#fdca26"
             ],
             [
              1,
              "#f0f921"
             ]
            ],
            "type": "heatmapgl"
           }
          ],
          "histogram": [
           {
            "marker": {
             "pattern": {
              "fillmode": "overlay",
              "size": 10,
              "solidity": 0.2
             }
            },
            "type": "histogram"
           }
          ],
          "histogram2d": [
           {
            "colorbar": {
             "outlinewidth": 0,
             "ticks": ""
            },
            "colorscale": [
             [
              0,
              "#0d0887"
             ],
             [
              0.1111111111111111,
              "#46039f"
             ],
             [
              0.2222222222222222,
              "#7201a8"
             ],
             [
              0.3333333333333333,
              "#9c179e"
             ],
             [
              0.4444444444444444,
              "#bd3786"
             ],
             [
              0.5555555555555556,
              "#d8576b"
             ],
             [
              0.6666666666666666,
              "#ed7953"
             ],
             [
              0.7777777777777778,
              "#fb9f3a"
             ],
             [
              0.8888888888888888,
              "#fdca26"
             ],
             [
              1,
              "#f0f921"
             ]
            ],
            "type": "histogram2d"
           }
          ],
          "histogram2dcontour": [
           {
            "colorbar": {
             "outlinewidth": 0,
             "ticks": ""
            },
            "colorscale": [
             [
              0,
              "#0d0887"
             ],
             [
              0.1111111111111111,
              "#46039f"
             ],
             [
              0.2222222222222222,
              "#7201a8"
             ],
             [
              0.3333333333333333,
              "#9c179e"
             ],
             [
              0.4444444444444444,
              "#bd3786"
             ],
             [
              0.5555555555555556,
              "#d8576b"
             ],
             [
              0.6666666666666666,
              "#ed7953"
             ],
             [
              0.7777777777777778,
              "#fb9f3a"
             ],
             [
              0.8888888888888888,
              "#fdca26"
             ],
             [
              1,
              "#f0f921"
             ]
            ],
            "type": "histogram2dcontour"
           }
          ],
          "mesh3d": [
           {
            "colorbar": {
             "outlinewidth": 0,
             "ticks": ""
            },
            "type": "mesh3d"
           }
          ],
          "parcoords": [
           {
            "line": {
             "colorbar": {
              "outlinewidth": 0,
              "ticks": ""
             }
            },
            "type": "parcoords"
           }
          ],
          "pie": [
           {
            "automargin": true,
            "type": "pie"
           }
          ],
          "scatter": [
           {
            "fillpattern": {
             "fillmode": "overlay",
             "size": 10,
             "solidity": 0.2
            },
            "type": "scatter"
           }
          ],
          "scatter3d": [
           {
            "line": {
             "colorbar": {
              "outlinewidth": 0,
              "ticks": ""
             }
            },
            "marker": {
             "colorbar": {
              "outlinewidth": 0,
              "ticks": ""
             }
            },
            "type": "scatter3d"
           }
          ],
          "scattercarpet": [
           {
            "marker": {
             "colorbar": {
              "outlinewidth": 0,
              "ticks": ""
             }
            },
            "type": "scattercarpet"
           }
          ],
          "scattergeo": [
           {
            "marker": {
             "colorbar": {
              "outlinewidth": 0,
              "ticks": ""
             }
            },
            "type": "scattergeo"
           }
          ],
          "scattergl": [
           {
            "marker": {
             "colorbar": {
              "outlinewidth": 0,
              "ticks": ""
             }
            },
            "type": "scattergl"
           }
          ],
          "scattermapbox": [
           {
            "marker": {
             "colorbar": {
              "outlinewidth": 0,
              "ticks": ""
             }
            },
            "type": "scattermapbox"
           }
          ],
          "scatterpolar": [
           {
            "marker": {
             "colorbar": {
              "outlinewidth": 0,
              "ticks": ""
             }
            },
            "type": "scatterpolar"
           }
          ],
          "scatterpolargl": [
           {
            "marker": {
             "colorbar": {
              "outlinewidth": 0,
              "ticks": ""
             }
            },
            "type": "scatterpolargl"
           }
          ],
          "scatterternary": [
           {
            "marker": {
             "colorbar": {
              "outlinewidth": 0,
              "ticks": ""
             }
            },
            "type": "scatterternary"
           }
          ],
          "surface": [
           {
            "colorbar": {
             "outlinewidth": 0,
             "ticks": ""
            },
            "colorscale": [
             [
              0,
              "#0d0887"
             ],
             [
              0.1111111111111111,
              "#46039f"
             ],
             [
              0.2222222222222222,
              "#7201a8"
             ],
             [
              0.3333333333333333,
              "#9c179e"
             ],
             [
              0.4444444444444444,
              "#bd3786"
             ],
             [
              0.5555555555555556,
              "#d8576b"
             ],
             [
              0.6666666666666666,
              "#ed7953"
             ],
             [
              0.7777777777777778,
              "#fb9f3a"
             ],
             [
              0.8888888888888888,
              "#fdca26"
             ],
             [
              1,
              "#f0f921"
             ]
            ],
            "type": "surface"
           }
          ],
          "table": [
           {
            "cells": {
             "fill": {
              "color": "#EBF0F8"
             },
             "line": {
              "color": "white"
             }
            },
            "header": {
             "fill": {
              "color": "#C8D4E3"
             },
             "line": {
              "color": "white"
             }
            },
            "type": "table"
           }
          ]
         },
         "layout": {
          "annotationdefaults": {
           "arrowcolor": "#2a3f5f",
           "arrowhead": 0,
           "arrowwidth": 1
          },
          "autotypenumbers": "strict",
          "coloraxis": {
           "colorbar": {
            "outlinewidth": 0,
            "ticks": ""
           }
          },
          "colorscale": {
           "diverging": [
            [
             0,
             "#8e0152"
            ],
            [
             0.1,
             "#c51b7d"
            ],
            [
             0.2,
             "#de77ae"
            ],
            [
             0.3,
             "#f1b6da"
            ],
            [
             0.4,
             "#fde0ef"
            ],
            [
             0.5,
             "#f7f7f7"
            ],
            [
             0.6,
             "#e6f5d0"
            ],
            [
             0.7,
             "#b8e186"
            ],
            [
             0.8,
             "#7fbc41"
            ],
            [
             0.9,
             "#4d9221"
            ],
            [
             1,
             "#276419"
            ]
           ],
           "sequential": [
            [
             0,
             "#0d0887"
            ],
            [
             0.1111111111111111,
             "#46039f"
            ],
            [
             0.2222222222222222,
             "#7201a8"
            ],
            [
             0.3333333333333333,
             "#9c179e"
            ],
            [
             0.4444444444444444,
             "#bd3786"
            ],
            [
             0.5555555555555556,
             "#d8576b"
            ],
            [
             0.6666666666666666,
             "#ed7953"
            ],
            [
             0.7777777777777778,
             "#fb9f3a"
            ],
            [
             0.8888888888888888,
             "#fdca26"
            ],
            [
             1,
             "#f0f921"
            ]
           ],
           "sequentialminus": [
            [
             0,
             "#0d0887"
            ],
            [
             0.1111111111111111,
             "#46039f"
            ],
            [
             0.2222222222222222,
             "#7201a8"
            ],
            [
             0.3333333333333333,
             "#9c179e"
            ],
            [
             0.4444444444444444,
             "#bd3786"
            ],
            [
             0.5555555555555556,
             "#d8576b"
            ],
            [
             0.6666666666666666,
             "#ed7953"
            ],
            [
             0.7777777777777778,
             "#fb9f3a"
            ],
            [
             0.8888888888888888,
             "#fdca26"
            ],
            [
             1,
             "#f0f921"
            ]
           ]
          },
          "colorway": [
           "#636efa",
           "#EF553B",
           "#00cc96",
           "#ab63fa",
           "#FFA15A",
           "#19d3f3",
           "#FF6692",
           "#B6E880",
           "#FF97FF",
           "#FECB52"
          ],
          "font": {
           "color": "#2a3f5f"
          },
          "geo": {
           "bgcolor": "white",
           "lakecolor": "white",
           "landcolor": "#E5ECF6",
           "showlakes": true,
           "showland": true,
           "subunitcolor": "white"
          },
          "hoverlabel": {
           "align": "left"
          },
          "hovermode": "closest",
          "mapbox": {
           "style": "light"
          },
          "paper_bgcolor": "white",
          "plot_bgcolor": "#E5ECF6",
          "polar": {
           "angularaxis": {
            "gridcolor": "white",
            "linecolor": "white",
            "ticks": ""
           },
           "bgcolor": "#E5ECF6",
           "radialaxis": {
            "gridcolor": "white",
            "linecolor": "white",
            "ticks": ""
           }
          },
          "scene": {
           "xaxis": {
            "backgroundcolor": "#E5ECF6",
            "gridcolor": "white",
            "gridwidth": 2,
            "linecolor": "white",
            "showbackground": true,
            "ticks": "",
            "zerolinecolor": "white"
           },
           "yaxis": {
            "backgroundcolor": "#E5ECF6",
            "gridcolor": "white",
            "gridwidth": 2,
            "linecolor": "white",
            "showbackground": true,
            "ticks": "",
            "zerolinecolor": "white"
           },
           "zaxis": {
            "backgroundcolor": "#E5ECF6",
            "gridcolor": "white",
            "gridwidth": 2,
            "linecolor": "white",
            "showbackground": true,
            "ticks": "",
            "zerolinecolor": "white"
           }
          },
          "shapedefaults": {
           "line": {
            "color": "#2a3f5f"
           }
          },
          "ternary": {
           "aaxis": {
            "gridcolor": "white",
            "linecolor": "white",
            "ticks": ""
           },
           "baxis": {
            "gridcolor": "white",
            "linecolor": "white",
            "ticks": ""
           },
           "bgcolor": "#E5ECF6",
           "caxis": {
            "gridcolor": "white",
            "linecolor": "white",
            "ticks": ""
           }
          },
          "title": {
           "x": 0.05
          },
          "xaxis": {
           "automargin": true,
           "gridcolor": "white",
           "linecolor": "white",
           "ticks": "",
           "title": {
            "standoff": 15
           },
           "zerolinecolor": "white",
           "zerolinewidth": 2
          },
          "yaxis": {
           "automargin": true,
           "gridcolor": "white",
           "linecolor": "white",
           "ticks": "",
           "title": {
            "standoff": 15
           },
           "zerolinecolor": "white",
           "zerolinewidth": 2
          }
         }
        },
        "title": {
         "text": "Intermediate Values Plot"
        },
        "xaxis": {
         "title": {
          "text": "Step"
         }
        },
        "yaxis": {
         "title": {
          "text": "Intermediate Value"
         }
        }
       }
      }
     },
     "metadata": {},
     "output_type": "display_data"
    }
   ],
   "source": [
    "plot_optimization_history(study)\n",
    "plot_intermediate_values(study)\n"
   ]
  },
  {
   "cell_type": "code",
   "execution_count": 19,
   "metadata": {},
   "outputs": [
    {
     "data": {
      "text/html": [
       "<pre style=\"white-space:pre;overflow-x:auto;line-height:normal;font-family:Menlo,'DejaVu Sans Mono',consolas,'Courier New',monospace\"><span style=\"color: #7fbfbf; text-decoration-color: #7fbfbf\">[02/25/24 20:29:52] </span><span style=\"color: #800000; text-decoration-color: #800000\">WARNING </span> <span style=\"color: #800080; text-decoration-color: #800080\">/var/folders/ty/_fq55jvd4533rn8vbpz3_kzc0000gn/T/ipykernel_43008/</span><span style=\"color: #ff00ff; text-decoration-color: #ff00ff\">54762</span> <a href=\"file:///Users/gavinlou/.pyenv/versions/3.10.13/lib/python3.10/warnings.py\" target=\"_blank\"><span style=\"color: #7f7f7f; text-decoration-color: #7f7f7f\">warnings.py</span></a><span style=\"color: #7f7f7f; text-decoration-color: #7f7f7f\">:</span><a href=\"file:///Users/gavinlou/.pyenv/versions/3.10.13/lib/python3.10/warnings.py#109\" target=\"_blank\"><span style=\"color: #7f7f7f; text-decoration-color: #7f7f7f\">109</span></a>\n",
       "<span style=\"color: #7fbfbf; text-decoration-color: #7fbfbf\">                    </span>         <span style=\"color: #ff00ff; text-decoration-color: #ff00ff\">9393.py</span>:<span style=\"color: #008080; text-decoration-color: #008080; font-weight: bold\">1</span>: ExperimentalWarning:                                        <span style=\"color: #7f7f7f; text-decoration-color: #7f7f7f\">               </span>\n",
       "<span style=\"color: #7fbfbf; text-decoration-color: #7fbfbf\">                    </span>                                                                                <span style=\"color: #7f7f7f; text-decoration-color: #7f7f7f\">               </span>\n",
       "<span style=\"color: #7fbfbf; text-decoration-color: #7fbfbf\">                    </span>         plot_timeline is experimental <span style=\"font-weight: bold\">(</span>supported from v3.<span style=\"color: #008080; text-decoration-color: #008080; font-weight: bold\">2.0</span><span style=\"font-weight: bold\">)</span>. The interface   <span style=\"color: #7f7f7f; text-decoration-color: #7f7f7f\">               </span>\n",
       "<span style=\"color: #7fbfbf; text-decoration-color: #7fbfbf\">                    </span>         can change in the future.                                              <span style=\"color: #7f7f7f; text-decoration-color: #7f7f7f\">               </span>\n",
       "<span style=\"color: #7fbfbf; text-decoration-color: #7fbfbf\">                    </span>                                                                                <span style=\"color: #7f7f7f; text-decoration-color: #7f7f7f\">               </span>\n",
       "<span style=\"color: #7fbfbf; text-decoration-color: #7fbfbf\">                    </span>                                                                                <span style=\"color: #7f7f7f; text-decoration-color: #7f7f7f\">               </span>\n",
       "</pre>\n"
      ],
      "text/plain": [
       "\u001b[2;36m[02/25/24 20:29:52]\u001b[0m\u001b[2;36m \u001b[0m\u001b[31mWARNING \u001b[0m \u001b[35m/var/folders/ty/_fq55jvd4533rn8vbpz3_kzc0000gn/T/ipykernel_43008/\u001b[0m\u001b[95m54762\u001b[0m \u001b]8;id=799361;file:///Users/gavinlou/.pyenv/versions/3.10.13/lib/python3.10/warnings.py\u001b\\\u001b[2mwarnings.py\u001b[0m\u001b]8;;\u001b\\\u001b[2m:\u001b[0m\u001b]8;id=309695;file:///Users/gavinlou/.pyenv/versions/3.10.13/lib/python3.10/warnings.py#109\u001b\\\u001b[2m109\u001b[0m\u001b]8;;\u001b\\\n",
       "\u001b[2;36m                    \u001b[0m         \u001b[95m9393.py\u001b[0m:\u001b[1;36m1\u001b[0m: ExperimentalWarning:                                        \u001b[2m               \u001b[0m\n",
       "\u001b[2;36m                    \u001b[0m                                                                                \u001b[2m               \u001b[0m\n",
       "\u001b[2;36m                    \u001b[0m         plot_timeline is experimental \u001b[1m(\u001b[0msupported from v3.\u001b[1;36m2.0\u001b[0m\u001b[1m)\u001b[0m. The interface   \u001b[2m               \u001b[0m\n",
       "\u001b[2;36m                    \u001b[0m         can change in the future.                                              \u001b[2m               \u001b[0m\n",
       "\u001b[2;36m                    \u001b[0m                                                                                \u001b[2m               \u001b[0m\n",
       "\u001b[2;36m                    \u001b[0m                                                                                \u001b[2m               \u001b[0m\n"
      ]
     },
     "metadata": {},
     "output_type": "display_data"
    },
    {
     "data": {
      "application/vnd.plotly.v1+json": {
       "config": {
        "plotlyServerURL": "https://plot.ly"
       },
       "data": [
        {
         "base": [
          "2024-02-25T19:51:09.551680",
          "2024-02-25T19:51:53.924657",
          "2024-02-25T19:53:14.867541",
          "2024-02-25T19:55:48.218626",
          "2024-02-25T19:58:26.949506",
          "2024-02-25T19:59:34.741007",
          "2024-02-25T20:00:27.109884",
          "2024-02-25T20:01:09.172039",
          "2024-02-25T20:01:42.760046",
          "2024-02-25T20:02:21.233345",
          "2024-02-25T20:03:34.850471",
          "2024-02-25T20:04:56.580465",
          "2024-02-25T20:06:18.563039",
          "2024-02-25T20:07:20.980390",
          "2024-02-25T20:08:10.246039",
          "2024-02-25T20:09:50.444265",
          "2024-02-25T20:10:31.419239",
          "2024-02-25T20:11:13.570506",
          "2024-02-25T20:11:48.912141",
          "2024-02-25T20:12:21.930688",
          "2024-02-25T20:13:27.469149",
          "2024-02-25T20:14:31.600521",
          "2024-02-25T20:15:06.131249",
          "2024-02-25T20:15:44.999421",
          "2024-02-25T20:17:09.556668",
          "2024-02-25T20:18:11.040482"
         ],
         "hovertemplate": "%{text}<extra>COMPLETE</extra>",
         "marker": {
          "color": "blue"
         },
         "name": "COMPLETE",
         "orientation": "h",
         "text": [
          "{<br>  \"number\": 0,<br>  \"values\": [<br>    0.0745268976554694<br>  ],<br>  \"params\": {<br>    \"num_layers\": 1,<br>    \"hidden_size\": 92,<br>    \"dropout_rate\": 0.05801663533524276,<br>    \"optimizer\": \"RMSprop\",<br>    \"lr\": 0.0022304195118295544<br>  }<br>}",
          "{<br>  \"number\": 1,<br>  \"values\": [<br>    0.2965646622211691<br>  ],<br>  \"params\": {<br>    \"num_layers\": 3,<br>    \"hidden_size\": 46,<br>    \"dropout_rate\": 0.21404039084181753,<br>    \"optimizer\": \"SGD\",<br>    \"lr\": 0.00010237593144469875<br>  }<br>}",
          "{<br>  \"number\": 2,<br>  \"values\": [<br>    0.4032772426305503<br>  ],<br>  \"params\": {<br>    \"num_layers\": 3,<br>    \"hidden_size\": 99,<br>    \"dropout_rate\": 0.4904259339261965,<br>    \"optimizer\": \"SGD\",<br>    \"lr\": 5.703293945545027e-05<br>  }<br>}",
          "{<br>  \"number\": 3,<br>  \"values\": [<br>    0.0836666740221685<br>  ],<br>  \"params\": {<br>    \"num_layers\": 3,<br>    \"hidden_size\": 97,<br>    \"dropout_rate\": 0.26501859457624755,<br>    \"optimizer\": \"RMSprop\",<br>    \"lr\": 0.0016747572927914675<br>  }<br>}",
          "{<br>  \"number\": 4,<br>  \"values\": [<br>    0.06880286054138306<br>  ],<br>  \"params\": {<br>    \"num_layers\": 1,<br>    \"hidden_size\": 46,<br>    \"dropout_rate\": 0.40152903386346067,<br>    \"optimizer\": \"Adam\",<br>    \"lr\": 0.002512601971876159<br>  }<br>}",
          "{<br>  \"number\": 9,<br>  \"values\": [<br>    0.06789462219246084<br>  ],<br>  \"params\": {<br>    \"num_layers\": 1,<br>    \"hidden_size\": 69,<br>    \"dropout_rate\": 0.47486099740715404,<br>    \"optimizer\": \"Adam\",<br>    \"lr\": 0.0051787606123568026<br>  }<br>}",
          "{<br>  \"number\": 12,<br>  \"values\": [<br>    0.0695601605982896<br>  ],<br>  \"params\": {<br>    \"num_layers\": 1,<br>    \"hidden_size\": 53,<br>    \"dropout_rate\": 0.38923608664838677,<br>    \"optimizer\": \"Adam\",<br>    \"lr\": 0.0006113907001158532<br>  }<br>}",
          "{<br>  \"number\": 14,<br>  \"values\": [<br>    0.07304291239485924<br>  ],<br>  \"params\": {<br>    \"num_layers\": 1,<br>    \"hidden_size\": 64,<br>    \"dropout_rate\": 0.4289594351364694,<br>    \"optimizer\": \"Adam\",<br>    \"lr\": 0.004597352407209383<br>  }<br>}",
          "{<br>  \"number\": 15,<br>  \"values\": [<br>    0.07377471897973466<br>  ],<br>  \"params\": {<br>    \"num_layers\": 1,<br>    \"hidden_size\": 48,<br>    \"dropout_rate\": 0.32042462450578785,<br>    \"optimizer\": \"Adam\",<br>    \"lr\": 0.0620371943281068<br>  }<br>}",
          "{<br>  \"number\": 17,<br>  \"values\": [<br>    0.07270465016996591<br>  ],<br>  \"params\": {<br>    \"num_layers\": 1,<br>    \"hidden_size\": 82,<br>    \"dropout_rate\": 0.44241596390706717,<br>    \"optimizer\": \"Adam\",<br>    \"lr\": 0.004108325813700835<br>  }<br>}",
          "{<br>  \"number\": 22,<br>  \"values\": [<br>    0.06943030092897605<br>  ],<br>  \"params\": {<br>    \"num_layers\": 1,<br>    \"hidden_size\": 56,<br>    \"dropout_rate\": 0.35711195377265903,<br>    \"optimizer\": \"Adam\",<br>    \"lr\": 0.001164399883211464<br>  }<br>}",
          "{<br>  \"number\": 29,<br>  \"values\": [<br>    0.06933071259761789<br>  ],<br>  \"params\": {<br>    \"num_layers\": 1,<br>    \"hidden_size\": 43,<br>    \"dropout_rate\": 0.14664646400125153,<br>    \"optimizer\": \"RMSprop\",<br>    \"lr\": 0.003053434436217986<br>  }<br>}",
          "{<br>  \"number\": 39,<br>  \"values\": [<br>    0.07709621927562525<br>  ],<br>  \"params\": {<br>    \"num_layers\": 1,<br>    \"hidden_size\": 89,<br>    \"dropout_rate\": 0.47063562186754654,<br>    \"optimizer\": \"Adam\",<br>    \"lr\": 0.003450423232887364<br>  }<br>}",
          "{<br>  \"number\": 43,<br>  \"values\": [<br>    0.07101651608773267<br>  ],<br>  \"params\": {<br>    \"num_layers\": 1,<br>    \"hidden_size\": 59,<br>    \"dropout_rate\": 0.03909697587172005,<br>    \"optimizer\": \"Adam\",<br>    \"lr\": 0.016687275513676093<br>  }<br>}",
          "{<br>  \"number\": 47,<br>  \"values\": [<br>    0.07333770923649782<br>  ],<br>  \"params\": {<br>    \"num_layers\": 1,<br>    \"hidden_size\": 63,<br>    \"dropout_rate\": 0.22551702856677205,<br>    \"optimizer\": \"Adam\",<br>    \"lr\": 0.005840527182157403<br>  }<br>}",
          "{<br>  \"number\": 52,<br>  \"values\": [<br>    0.06918858127190679<br>  ],<br>  \"params\": {<br>    \"num_layers\": 1,<br>    \"hidden_size\": 53,<br>    \"dropout_rate\": 0.05001684084583166,<br>    \"optimizer\": \"Adam\",<br>    \"lr\": 0.037044405116270676<br>  }<br>}",
          "{<br>  \"number\": 54,<br>  \"values\": [<br>    0.06913537193454149<br>  ],<br>  \"params\": {<br>    \"num_layers\": 1,<br>    \"hidden_size\": 47,<br>    \"dropout_rate\": 0.011811299223759356,<br>    \"optimizer\": \"Adam\",<br>    \"lr\": 0.009501823859485645<br>  }<br>}",
          "{<br>  \"number\": 56,<br>  \"values\": [<br>    0.07297790297004769<br>  ],<br>  \"params\": {<br>    \"num_layers\": 1,<br>    \"hidden_size\": 45,<br>    \"dropout_rate\": 0.06028429654210471,<br>    \"optimizer\": \"Adam\",<br>    \"lr\": 0.03341231870616794<br>  }<br>}",
          "{<br>  \"number\": 57,<br>  \"values\": [<br>    0.07292747993913197<br>  ],<br>  \"params\": {<br>    \"num_layers\": 1,<br>    \"hidden_size\": 48,<br>    \"dropout_rate\": 0.0043862540933418195,<br>    \"optimizer\": \"Adam\",<br>    \"lr\": 0.0395657476741715<br>  }<br>}",
          "{<br>  \"number\": 58,<br>  \"values\": [<br>    0.06981068157239459<br>  ],<br>  \"params\": {<br>    \"num_layers\": 1,<br>    \"hidden_size\": 36,<br>    \"dropout_rate\": 0.07180951395248729,<br>    \"optimizer\": \"Adam\",<br>    \"lr\": 0.01350741216917698<br>  }<br>}",
          "{<br>  \"number\": 64,<br>  \"values\": [<br>    0.07164112989261186<br>  ],<br>  \"params\": {<br>    \"num_layers\": 1,<br>    \"hidden_size\": 62,<br>    \"dropout_rate\": 0.3339931569331371,<br>    \"optimizer\": \"Adam\",<br>    \"lr\": 0.0069158182488885485<br>  }<br>}",
          "{<br>  \"number\": 71,<br>  \"values\": [<br>    0.07214565465200204<br>  ],<br>  \"params\": {<br>    \"num_layers\": 1,<br>    \"hidden_size\": 37,<br>    \"dropout_rate\": 0.07462115283192515,<br>    \"optimizer\": \"Adam\",<br>    \"lr\": 0.013805199025611843<br>  }<br>}",
          "{<br>  \"number\": 72,<br>  \"values\": [<br>    0.0719977924888725<br>  ],<br>  \"params\": {<br>    \"num_layers\": 1,<br>    \"hidden_size\": 34,<br>    \"dropout_rate\": 0.025096651176784446,<br>    \"optimizer\": \"Adam\",<br>    \"lr\": 0.024460608230659448<br>  }<br>}",
          "{<br>  \"number\": 74,<br>  \"values\": [<br>    0.0694516605343341<br>  ],<br>  \"params\": {<br>    \"num_layers\": 1,<br>    \"hidden_size\": 38,<br>    \"dropout_rate\": 0.051811690836302056,<br>    \"optimizer\": \"Adam\",<br>    \"lr\": 0.008835229106955401<br>  }<br>}",
          "{<br>  \"number\": 84,<br>  \"values\": [<br>    0.07129232918678216<br>  ],<br>  \"params\": {<br>    \"num_layers\": 1,<br>    \"hidden_size\": 46,<br>    \"dropout_rate\": 0.14297340782754403,<br>    \"optimizer\": \"Adam\",<br>    \"lr\": 0.01660709300360375<br>  }<br>}",
          "{<br>  \"number\": 90,<br>  \"values\": [<br>    0.07307367434664086<br>  ],<br>  \"params\": {<br>    \"num_layers\": 1,<br>    \"hidden_size\": 51,<br>    \"dropout_rate\": 0.2554688029000675,<br>    \"optimizer\": \"Adam\",<br>    \"lr\": 0.03221011239544981<br>  }<br>}"
         ],
         "textposition": "none",
         "type": "bar",
         "x": [
          44363.034,
          80941.056,
          153346.977,
          158728.81,
          34025.704,
          42598.668000000005,
          36482.719000000005,
          33586.342000000004,
          32806.52099999999,
          46872.248999999996,
          35520.413,
          34756.534,
          46902.415,
          37179.471,
          36985.513,
          37247.431,
          35142.532,
          35340.799,
          33017.932,
          33795.905,
          36707.847,
          34530.063,
          35078.425,
          36074.875,
          36551.519,
          38852.74
         ],
         "y": [
          0,
          1,
          2,
          3,
          4,
          9,
          12,
          14,
          15,
          17,
          22,
          29,
          39,
          43,
          47,
          52,
          54,
          56,
          57,
          58,
          64,
          71,
          72,
          74,
          84,
          90
         ]
        },
        {
         "base": [
          "2024-02-25T19:59:00.975877",
          "2024-02-25T19:59:09.490835",
          "2024-02-25T19:59:14.173988",
          "2024-02-25T19:59:24.971996",
          "2024-02-25T20:00:17.341986",
          "2024-02-25T20:00:23.755279",
          "2024-02-25T20:01:03.593473",
          "2024-02-25T20:02:15.567337",
          "2024-02-25T20:03:08.114816",
          "2024-02-25T20:03:19.292921",
          "2024-02-25T20:03:22.949065",
          "2024-02-25T20:03:27.269353",
          "2024-02-25T20:04:10.371815",
          "2024-02-25T20:04:17.485469",
          "2024-02-25T20:04:28.927846",
          "2024-02-25T20:04:36.407916",
          "2024-02-25T20:04:45.133945",
          "2024-02-25T20:04:52.773204",
          "2024-02-25T20:05:31.337710",
          "2024-02-25T20:05:37.756727",
          "2024-02-25T20:05:41.224250",
          "2024-02-25T20:05:44.920006",
          "2024-02-25T20:05:48.473575",
          "2024-02-25T20:05:52.172969",
          "2024-02-25T20:05:57.745390",
          "2024-02-25T20:06:07.096217",
          "2024-02-25T20:06:10.574186",
          "2024-02-25T20:07:05.468450",
          "2024-02-25T20:07:13.735558",
          "2024-02-25T20:07:17.293930",
          "2024-02-25T20:07:58.160523",
          "2024-02-25T20:08:02.600925",
          "2024-02-25T20:08:06.333346",
          "2024-02-25T20:08:47.232334",
          "2024-02-25T20:09:00.922404",
          "2024-02-25T20:09:10.429736",
          "2024-02-25T20:09:18.160763",
          "2024-02-25T20:10:27.692455",
          "2024-02-25T20:11:06.562533",
          "2024-02-25T20:12:55.727351",
          "2024-02-25T20:12:59.420034",
          "2024-02-25T20:13:12.686892",
          "2024-02-25T20:13:16.412096",
          "2024-02-25T20:13:23.995937",
          "2024-02-25T20:14:04.177608",
          "2024-02-25T20:14:07.852836",
          "2024-02-25T20:14:14.711102",
          "2024-02-25T20:14:18.018883",
          "2024-02-25T20:14:23.938192",
          "2024-02-25T20:14:27.902768",
          "2024-02-25T20:15:41.212210",
          "2024-02-25T20:16:21.074968",
          "2024-02-25T20:16:24.964934",
          "2024-02-25T20:16:33.797678",
          "2024-02-25T20:16:37.647246",
          "2024-02-25T20:16:41.067759",
          "2024-02-25T20:16:46.832837",
          "2024-02-25T20:16:50.532213",
          "2024-02-25T20:16:57.585043",
          "2024-02-25T20:17:04.912950",
          "2024-02-25T20:17:46.109195",
          "2024-02-25T20:17:49.755423",
          "2024-02-25T20:17:54.405603",
          "2024-02-25T20:17:58.008368",
          "2024-02-25T20:18:01.500574",
          "2024-02-25T20:18:49.893867",
          "2024-02-25T20:18:57.647259",
          "2024-02-25T20:19:01.505885",
          "2024-02-25T20:19:09.072318",
          "2024-02-25T20:19:16.296447",
          "2024-02-25T20:19:19.974690",
          "2024-02-25T20:19:25.753899",
          "2024-02-25T20:19:29.592329",
          "2024-02-25T20:19:33.232907"
         ],
         "hovertemplate": "%{text}<extra>PRUNED</extra>",
         "marker": {
          "color": "orange"
         },
         "name": "PRUNED",
         "orientation": "h",
         "text": [
          "{<br>  \"number\": 5,<br>  \"values\": [<br>    0.1205895981315348<br>  ],<br>  \"params\": {<br>    \"num_layers\": 2,<br>    \"hidden_size\": 75,<br>    \"dropout_rate\": 0.20843015002781862,<br>    \"optimizer\": \"Adam\",<br>    \"lr\": 9.951841612938059e-05<br>  }<br>}",
          "{<br>  \"number\": 6,<br>  \"values\": [<br>    0.20331468468659133<br>  ],<br>  \"params\": {<br>    \"num_layers\": 1,<br>    \"hidden_size\": 91,<br>    \"dropout_rate\": 0.023104357804254405,<br>    \"optimizer\": \"RMSprop\",<br>    \"lr\": 0.0121760321544639<br>  }<br>}",
          "{<br>  \"number\": 7,<br>  \"values\": [<br>    0.22112103311314157<br>  ],<br>  \"params\": {<br>    \"num_layers\": 3,<br>    \"hidden_size\": 72,<br>    \"dropout_rate\": 0.2357446951053737,<br>    \"optimizer\": \"SGD\",<br>    \"lr\": 0.019535029935951194<br>  }<br>}",
          "{<br>  \"number\": 8,<br>  \"values\": [<br>    0.24059053051708457<br>  ],<br>  \"params\": {<br>    \"num_layers\": 3,<br>    \"hidden_size\": 80,<br>    \"dropout_rate\": 0.014162573852448956,<br>    \"optimizer\": \"RMSprop\",<br>    \"lr\": 0.009476771695677611<br>  }<br>}",
          "{<br>  \"number\": 10,<br>  \"values\": [<br>    0.13743929688544926<br>  ],<br>  \"params\": {<br>    \"num_layers\": 2,<br>    \"hidden_size\": 58,<br>    \"dropout_rate\": 0.37528672122889895,<br>    \"optimizer\": \"Adam\",<br>    \"lr\": 0.06716650627772239<br>  }<br>}",
          "{<br>  \"number\": 11,<br>  \"values\": [<br>    0.10983636640507448<br>  ],<br>  \"params\": {<br>    \"num_layers\": 1,<br>    \"hidden_size\": 31,<br>    \"dropout_rate\": 0.49748010487081545,<br>    \"optimizer\": \"Adam\",<br>    \"lr\": 0.0005906705783341918<br>  }<br>}",
          "{<br>  \"number\": 13,<br>  \"values\": [<br>    0.4256040029879283<br>  ],<br>  \"params\": {<br>    \"num_layers\": 2,<br>    \"hidden_size\": 39,<br>    \"dropout_rate\": 0.39401565724137644,<br>    \"optimizer\": \"Adam\",<br>    \"lr\": 1.0201621768981478e-05<br>  }<br>}",
          "{<br>  \"number\": 16,<br>  \"values\": [<br>    0.09812189552656272<br>  ],<br>  \"params\": {<br>    \"num_layers\": 2,<br>    \"hidden_size\": 64,<br>    \"dropout_rate\": 0.130426449341713,<br>    \"optimizer\": \"Adam\",<br>    \"lr\": 0.0003433047156302894<br>  }<br>}",
          "{<br>  \"number\": 18,<br>  \"values\": [<br>    0.10224793321222914<br>  ],<br>  \"params\": {<br>    \"num_layers\": 2,<br>    \"hidden_size\": 36,<br>    \"dropout_rate\": 0.30465536886657535,<br>    \"optimizer\": \"Adam\",<br>    \"lr\": 0.02740564060965135<br>  }<br>}",
          "{<br>  \"number\": 19,<br>  \"values\": [<br>    0.25246346672017606<br>  ],<br>  \"params\": {<br>    \"num_layers\": 1,<br>    \"hidden_size\": 56,<br>    \"dropout_rate\": 0.33215123545289243,<br>    \"optimizer\": \"SGD\",<br>    \"lr\": 0.004879056611742724<br>  }<br>}",
          "{<br>  \"number\": 20,<br>  \"values\": [<br>    0.11287171879078567<br>  ],<br>  \"params\": {<br>    \"num_layers\": 1,<br>    \"hidden_size\": 69,<br>    \"dropout_rate\": 0.44919522765993913,<br>    \"optimizer\": \"Adam\",<br>    \"lr\": 0.00022569826864137077<br>  }<br>}",
          "{<br>  \"number\": 21,<br>  \"values\": [<br>    0.09720545691803967<br>  ],<br>  \"params\": {<br>    \"num_layers\": 1,<br>    \"hidden_size\": 49,<br>    \"dropout_rate\": 0.39559298922401637,<br>    \"optimizer\": \"Adam\",<br>    \"lr\": 0.0009901196129537936<br>  }<br>}",
          "{<br>  \"number\": 23,<br>  \"values\": [<br>    0.08475304544547217<br>  ],<br>  \"params\": {<br>    \"num_layers\": 1,<br>    \"hidden_size\": 60,<br>    \"dropout_rate\": 0.3525218378713778,<br>    \"optimizer\": \"Adam\",<br>    \"lr\": 0.0019127294547765467<br>  }<br>}",
          "{<br>  \"number\": 24,<br>  \"values\": [<br>    0.10113948308295104<br>  ],<br>  \"params\": {<br>    \"num_layers\": 2,<br>    \"hidden_size\": 42,<br>    \"dropout_rate\": 0.460441781835986,<br>    \"optimizer\": \"Adam\",<br>    \"lr\": 0.007520285743308485<br>  }<br>}",
          "{<br>  \"number\": 25,<br>  \"values\": [<br>    0.08495596313333334<br>  ],<br>  \"params\": {<br>    \"num_layers\": 1,<br>    \"hidden_size\": 54,<br>    \"dropout_rate\": 0.29829611438621245,<br>    \"optimizer\": \"Adam\",<br>    \"lr\": 0.002490686191302447<br>  }<br>}",
          "{<br>  \"number\": 26,<br>  \"values\": [<br>    0.08758294033689046<br>  ],<br>  \"params\": {<br>    \"num_layers\": 1,<br>    \"hidden_size\": 67,<br>    \"dropout_rate\": 0.42550841646496845,<br>    \"optimizer\": \"Adam\",<br>    \"lr\": 0.0010958007742907542<br>  }<br>}",
          "{<br>  \"number\": 27,<br>  \"values\": [<br>    0.09940261593685254<br>  ],<br>  \"params\": {<br>    \"num_layers\": 2,<br>    \"hidden_size\": 78,<br>    \"dropout_rate\": 0.35948359348342446,<br>    \"optimizer\": \"Adam\",<br>    \"lr\": 0.02900873654957227<br>  }<br>}",
          "{<br>  \"number\": 28,<br>  \"values\": [<br>    0.36990229676672<br>  ],<br>  \"params\": {<br>    \"num_layers\": 1,<br>    \"hidden_size\": 61,<br>    \"dropout_rate\": 0.26945845878174923,<br>    \"optimizer\": \"SGD\",<br>    \"lr\": 0.00031119404156647367<br>  }<br>}",
          "{<br>  \"number\": 30,<br>  \"values\": [<br>    0.08977357171203379<br>  ],<br>  \"params\": {<br>    \"num_layers\": 1,<br>    \"hidden_size\": 32,<br>    \"dropout_rate\": 0.1262807098792396,<br>    \"optimizer\": \"RMSprop\",<br>    \"lr\": 0.003529955020368105<br>  }<br>}",
          "{<br>  \"number\": 31,<br>  \"values\": [<br>    0.09419601390731<br>  ],<br>  \"params\": {<br>    \"num_layers\": 1,<br>    \"hidden_size\": 43,<br>    \"dropout_rate\": 0.1471882906554573,<br>    \"optimizer\": \"RMSprop\",<br>    \"lr\": 0.0012561480274075013<br>  }<br>}",
          "{<br>  \"number\": 32,<br>  \"values\": [<br>    0.0985804231272009<br>  ],<br>  \"params\": {<br>    \"num_layers\": 1,<br>    \"hidden_size\": 52,<br>    \"dropout_rate\": 0.0767653648556564,<br>    \"optimizer\": \"RMSprop\",<br>    \"lr\": 0.002389324878700077<br>  }<br>}",
          "{<br>  \"number\": 33,<br>  \"values\": [<br>    0.09169208612231183<br>  ],<br>  \"params\": {<br>    \"num_layers\": 1,<br>    \"hidden_size\": 44,<br>    \"dropout_rate\": 0.4750490838089555,<br>    \"optimizer\": \"RMSprop\",<br>    \"lr\": 0.0006427503366419584<br>  }<br>}",
          "{<br>  \"number\": 34,<br>  \"values\": [<br>    0.14809534880248337<br>  ],<br>  \"params\": {<br>    \"num_layers\": 1,<br>    \"hidden_size\": 50,<br>    \"dropout_rate\": 0.185491492668056,<br>    \"optimizer\": \"RMSprop\",<br>    \"lr\": 0.006817591836886418<br>  }<br>}",
          "{<br>  \"number\": 35,<br>  \"values\": [<br>    0.247217175217636<br>  ],<br>  \"params\": {<br>    \"num_layers\": 2,<br>    \"hidden_size\": 39,<br>    \"dropout_rate\": 0.41414247840454477,<br>    \"optimizer\": \"SGD\",<br>    \"lr\": 0.01168278815417114<br>  }<br>}",
          "{<br>  \"number\": 36,<br>  \"values\": [<br>    0.09278300888479635<br>  ],<br>  \"params\": {<br>    \"num_layers\": 1,<br>    \"hidden_size\": 84,<br>    \"dropout_rate\": 0.09889846072291508,<br>    \"optimizer\": \"RMSprop\",<br>    \"lr\": 0.0022564647290739064<br>  }<br>}",
          "{<br>  \"number\": 37,<br>  \"values\": [<br>    0.16477385361807986<br>  ],<br>  \"params\": {<br>    \"num_layers\": 1,<br>    \"hidden_size\": 46,<br>    \"dropout_rate\": 0.1954613496469989,<br>    \"optimizer\": \"RMSprop\",<br>    \"lr\": 0.0001584348320381403<br>  }<br>}",
          "{<br>  \"number\": 38,<br>  \"values\": [<br>    0.3490694445920851<br>  ],<br>  \"params\": {<br>    \"num_layers\": 2,<br>    \"hidden_size\": 71,<br>    \"dropout_rate\": 0.24925408407363853,<br>    \"optimizer\": \"SGD\",<br>    \"lr\": 0.0012246882627780194<br>  }<br>}",
          "{<br>  \"number\": 40,<br>  \"values\": [<br>    0.1607752660013268<br>  ],<br>  \"params\": {<br>    \"num_layers\": 3,<br>    \"hidden_size\": 35,<br>    \"dropout_rate\": 0.34470776935754494,<br>    \"optimizer\": \"RMSprop\",<br>    \"lr\": 7.18512283644341e-05<br>  }<br>}",
          "{<br>  \"number\": 41,<br>  \"values\": [<br>    0.09034318399083273<br>  ],<br>  \"params\": {<br>    \"num_layers\": 1,<br>    \"hidden_size\": 56,<br>    \"dropout_rate\": 0.3925294213858036,<br>    \"optimizer\": \"Adam\",<br>    \"lr\": 0.0005930932982605309<br>  }<br>}",
          "{<br>  \"number\": 42,<br>  \"values\": [<br>    0.0915058710516633<br>  ],<br>  \"params\": {<br>    \"num_layers\": 1,<br>    \"hidden_size\": 54,<br>    \"dropout_rate\": 0.38113682193321946,<br>    \"optimizer\": \"Adam\",<br>    \"lr\": 0.0008006934562984424<br>  }<br>}",
          "{<br>  \"number\": 44,<br>  \"values\": [<br>    0.10057184996394317<br>  ],<br>  \"params\": {<br>    \"num_layers\": 1,<br>    \"hidden_size\": 74,<br>    \"dropout_rate\": 0.2837135465313677,<br>    \"optimizer\": \"Adam\",<br>    \"lr\": 0.00036010404539019196<br>  }<br>}",
          "{<br>  \"number\": 45,<br>  \"values\": [<br>    0.3706475668224917<br>  ],<br>  \"params\": {<br>    \"num_layers\": 1,<br>    \"hidden_size\": 47,<br>    \"dropout_rate\": 0.4165208498176382,<br>    \"optimizer\": \"Adam\",<br>    \"lr\": 2.532780951258652e-05<br>  }<br>}",
          "{<br>  \"number\": 46,<br>  \"values\": [<br>    0.08987927840723027<br>  ],<br>  \"params\": {<br>    \"num_layers\": 1,<br>    \"hidden_size\": 51,<br>    \"dropout_rate\": 0.48887716135189435,<br>    \"optimizer\": \"Adam\",<br>    \"lr\": 0.0016374300168588646<br>  }<br>}",
          "{<br>  \"number\": 48,<br>  \"values\": [<br>    0.08666038502042822<br>  ],<br>  \"params\": {<br>    \"num_layers\": 1,<br>    \"hidden_size\": 39,<br>    \"dropout_rate\": 0.37004863790376663,<br>    \"optimizer\": \"Adam\",<br>    \"lr\": 0.0030822288916043626<br>  }<br>}",
          "{<br>  \"number\": 49,<br>  \"values\": [<br>    0.36476902638723674<br>  ],<br>  \"params\": {<br>    \"num_layers\": 3,<br>    \"hidden_size\": 57,<br>    \"dropout_rate\": 0.17041769094535203,<br>    \"optimizer\": \"SGD\",<br>    \"lr\": 0.0015406851610011883<br>  }<br>}",
          "{<br>  \"number\": 50,<br>  \"values\": [<br>    0.09710275924807606<br>  ],<br>  \"params\": {<br>    \"num_layers\": 2,<br>    \"hidden_size\": 68,<br>    \"dropout_rate\": 0.43616906275924366,<br>    \"optimizer\": \"Adam\",<br>    \"lr\": 0.00042349606693655817<br>  }<br>}",
          "{<br>  \"number\": 51,<br>  \"values\": [<br>    0.08140491614255013<br>  ],<br>  \"params\": {<br>    \"num_layers\": 1,<br>    \"hidden_size\": 60,<br>    \"dropout_rate\": 0.036578825904057144,<br>    \"optimizer\": \"Adam\",<br>    \"lr\": 0.017226408192440906<br>  }<br>}",
          "{<br>  \"number\": 53,<br>  \"values\": [<br>    0.10093841196710211<br>  ],<br>  \"params\": {<br>    \"num_layers\": 1,<br>    \"hidden_size\": 53,<br>    \"dropout_rate\": 0.10144530033494446,<br>    \"optimizer\": \"Adam\",<br>    \"lr\": 0.0963109869912962<br>  }<br>}",
          "{<br>  \"number\": 55,<br>  \"values\": [<br>    0.1035483294613264<br>  ],<br>  \"params\": {<br>    \"num_layers\": 1,<br>    \"hidden_size\": 40,<br>    \"dropout_rate\": 0.014309647513887455,<br>    \"optimizer\": \"Adam\",<br>    \"lr\": 0.008801161815311759<br>  }<br>}",
          "{<br>  \"number\": 59,<br>  \"values\": [<br>    0.14248960855556866<br>  ],<br>  \"params\": {<br>    \"num_layers\": 1,<br>    \"hidden_size\": 41,<br>    \"dropout_rate\": 0.09907944078378644,<br>    \"optimizer\": \"RMSprop\",<br>    \"lr\": 0.04526220337854756<br>  }<br>}",
          "{<br>  \"number\": 60,<br>  \"values\": [<br>    0.07814847480006526<br>  ],<br>  \"params\": {<br>    \"num_layers\": 1,<br>    \"hidden_size\": 65,<br>    \"dropout_rate\": 0.035880211106734054,<br>    \"optimizer\": \"Adam\",<br>    \"lr\": 0.021640154689654204<br>  }<br>}",
          "{<br>  \"number\": 61,<br>  \"values\": [<br>    0.10816848779026202<br>  ],<br>  \"params\": {<br>    \"num_layers\": 1,<br>    \"hidden_size\": 50,<br>    \"dropout_rate\": 0.40555938911384143,<br>    \"optimizer\": \"Adam\",<br>    \"lr\": 0.004554348818169676<br>  }<br>}",
          "{<br>  \"number\": 62,<br>  \"values\": [<br>    0.08637902970440209<br>  ],<br>  \"params\": {<br>    \"num_layers\": 1,<br>    \"hidden_size\": 55,<br>    \"dropout_rate\": 0.30688667417562154,<br>    \"optimizer\": \"Adam\",<br>    \"lr\": 0.01072070266027976<br>  }<br>}",
          "{<br>  \"number\": 63,<br>  \"values\": [<br>    0.09167960262901036<br>  ],<br>  \"params\": {<br>    \"num_layers\": 1,<br>    \"hidden_size\": 46,<br>    \"dropout_rate\": 0.1513529427079214,<br>    \"optimizer\": \"Adam\",<br>    \"lr\": 0.0008322938861793023<br>  }<br>}",
          "{<br>  \"number\": 65,<br>  \"values\": [<br>    0.08719041363127968<br>  ],<br>  \"params\": {<br>    \"num_layers\": 1,<br>    \"hidden_size\": 52,<br>    \"dropout_rate\": 0.4529557782363817,<br>    \"optimizer\": \"Adam\",<br>    \"lr\": 0.00271428809631139<br>  }<br>}",
          "{<br>  \"number\": 66,<br>  \"values\": [<br>    0.09403182873767944<br>  ],<br>  \"params\": {<br>    \"num_layers\": 1,<br>    \"hidden_size\": 44,<br>    \"dropout_rate\": 0.002040248416979251,<br>    \"optimizer\": \"RMSprop\",<br>    \"lr\": 0.001957935776465721<br>  }<br>}",
          "{<br>  \"number\": 67,<br>  \"values\": [<br>    0.23564701182990822<br>  ],<br>  \"params\": {<br>    \"num_layers\": 1,<br>    \"hidden_size\": 48,<br>    \"dropout_rate\": 0.4991265068615337,<br>    \"optimizer\": \"SGD\",<br>    \"lr\": 0.004590538395878641<br>  }<br>}",
          "{<br>  \"number\": 68,<br>  \"values\": [<br>    0.2177197389167969<br>  ],<br>  \"params\": {<br>    \"num_layers\": 2,<br>    \"hidden_size\": 42,<br>    \"dropout_rate\": 0.36679004635326046,<br>    \"optimizer\": \"Adam\",<br>    \"lr\": 0.05828874495457982<br>  }<br>}",
          "{<br>  \"number\": 69,<br>  \"values\": [<br>    0.09277569926358177<br>  ],<br>  \"params\": {<br>    \"num_layers\": 1,<br>    \"hidden_size\": 57,<br>    \"dropout_rate\": 0.06101017602283325,<br>    \"optimizer\": \"Adam\",<br>    \"lr\": 0.000493855431751523<br>  }<br>}",
          "{<br>  \"number\": 70,<br>  \"values\": [<br>    0.09066304982294644<br>  ],<br>  \"params\": {<br>    \"num_layers\": 1,<br>    \"hidden_size\": 33,<br>    \"dropout_rate\": 0.11928316176853114,<br>    \"optimizer\": \"RMSprop\",<br>    \"lr\": 0.0015011012421096421<br>  }<br>}",
          "{<br>  \"number\": 73,<br>  \"values\": [<br>    0.09562032649626753<br>  ],<br>  \"params\": {<br>    \"num_layers\": 1,<br>    \"hidden_size\": 36,<br>    \"dropout_rate\": 0.08623687141888582,<br>    \"optimizer\": \"Adam\",<br>    \"lr\": 0.005388645253381287<br>  }<br>}",
          "{<br>  \"number\": 75,<br>  \"values\": [<br>    0.08754936196659802<br>  ],<br>  \"params\": {<br>    \"num_layers\": 1,<br>    \"hidden_size\": 50,<br>    \"dropout_rate\": 0.04684147488036308,<br>    \"optimizer\": \"Adam\",<br>    \"lr\": 0.0037635341179733215<br>  }<br>}",
          "{<br>  \"number\": 76,<br>  \"values\": [<br>    0.08273887154503523<br>  ],<br>  \"params\": {<br>    \"num_layers\": 1,<br>    \"hidden_size\": 71,<br>    \"dropout_rate\": 0.385102336575756,<br>    \"optimizer\": \"Adam\",<br>    \"lr\": 0.007650681980428845<br>  }<br>}",
          "{<br>  \"number\": 77,<br>  \"values\": [<br>    0.09105760731909583<br>  ],<br>  \"params\": {<br>    \"num_layers\": 1,<br>    \"hidden_size\": 53,<br>    \"dropout_rate\": 0.050862296460221064,<br>    \"optimizer\": \"Adam\",<br>    \"lr\": 0.0007496700345565408<br>  }<br>}",
          "{<br>  \"number\": 78,<br>  \"values\": [<br>    0.09116907230684278<br>  ],<br>  \"params\": {<br>    \"num_layers\": 1,<br>    \"hidden_size\": 31,<br>    \"dropout_rate\": 0.0258307830282053,<br>    \"optimizer\": \"RMSprop\",<br>    \"lr\": 0.0009851126127525304<br>  }<br>}",
          "{<br>  \"number\": 79,<br>  \"values\": [<br>    0.09096561956256102<br>  ],<br>  \"params\": {<br>    \"num_layers\": 2,<br>    \"hidden_size\": 38,<br>    \"dropout_rate\": 0.4285143160391769,<br>    \"optimizer\": \"Adam\",<br>    \"lr\": 0.0024664227494740278<br>  }<br>}",
          "{<br>  \"number\": 80,<br>  \"values\": [<br>    0.3598314824063486<br>  ],<br>  \"params\": {<br>    \"num_layers\": 1,<br>    \"hidden_size\": 43,<br>    \"dropout_rate\": 0.35023208968935654,<br>    \"optimizer\": \"SGD\",<br>    \"lr\": 0.0002444574310690342<br>  }<br>}",
          "{<br>  \"number\": 81,<br>  \"values\": [<br>    0.08936536342504783<br>  ],<br>  \"params\": {<br>    \"num_layers\": 1,<br>    \"hidden_size\": 30,<br>    \"dropout_rate\": 0.0774918965434141,<br>    \"optimizer\": \"Adam\",<br>    \"lr\": 0.013082306332585036<br>  }<br>}",
          "{<br>  \"number\": 82,<br>  \"values\": [<br>    0.07950527555297908<br>  ],<br>  \"params\": {<br>    \"num_layers\": 1,<br>    \"hidden_size\": 41,<br>    \"dropout_rate\": 0.06534915614007253,<br>    \"optimizer\": \"Adam\",<br>    \"lr\": 0.005891924091741119<br>  }<br>}",
          "{<br>  \"number\": 83,<br>  \"values\": [<br>    0.08941390027987406<br>  ],<br>  \"params\": {<br>    \"num_layers\": 1,<br>    \"hidden_size\": 66,<br>    \"dropout_rate\": 0.4066374943865354,<br>    \"optimizer\": \"Adam\",<br>    \"lr\": 0.00899735628111061<br>  }<br>}",
          "{<br>  \"number\": 85,<br>  \"values\": [<br>    0.08925446860976863<br>  ],<br>  \"params\": {<br>    \"num_layers\": 1,<br>    \"hidden_size\": 44,<br>    \"dropout_rate\": 0.015340971177613266,<br>    \"optimizer\": \"Adam\",<br>    \"lr\": 0.010417135585194928<br>  }<br>}",
          "{<br>  \"number\": 86,<br>  \"values\": [<br>    0.08934958997022853<br>  ],<br>  \"params\": {<br>    \"num_layers\": 1,<br>    \"hidden_size\": 76,<br>    \"dropout_rate\": 0.11795576171112293,<br>    \"optimizer\": \"Adam\",<br>    \"lr\": 0.003527647565852118<br>  }<br>}",
          "{<br>  \"number\": 87,<br>  \"values\": [<br>    0.08599319051953808<br>  ],<br>  \"params\": {<br>    \"num_layers\": 1,<br>    \"hidden_size\": 38,<br>    \"dropout_rate\": 0.08594395624130344,<br>    \"optimizer\": \"Adam\",<br>    \"lr\": 0.0029617538474229644<br>  }<br>}",
          "{<br>  \"number\": 88,<br>  \"values\": [<br>    0.11360775741707614<br>  ],<br>  \"params\": {<br>    \"num_layers\": 1,<br>    \"hidden_size\": 48,<br>    \"dropout_rate\": 0.4780192797163268,<br>    \"optimizer\": \"RMSprop\",<br>    \"lr\": 0.0013801530913491722<br>  }<br>}",
          "{<br>  \"number\": 89,<br>  \"values\": [<br>    0.10180479105001304<br>  ],<br>  \"params\": {<br>    \"num_layers\": 3,<br>    \"hidden_size\": 59,<br>    \"dropout_rate\": 0.274960999792342,<br>    \"optimizer\": \"Adam\",<br>    \"lr\": 0.001813953542276045<br>  }<br>}",
          "{<br>  \"number\": 91,<br>  \"values\": [<br>    0.09768078491226638<br>  ],<br>  \"params\": {<br>    \"num_layers\": 1,<br>    \"hidden_size\": 58,<br>    \"dropout_rate\": 0.039762738960325505,<br>    \"optimizer\": \"Adam\",<br>    \"lr\": 0.01553151599604045<br>  }<br>}",
          "{<br>  \"number\": 92,<br>  \"values\": [<br>    0.08813332362024599<br>  ],<br>  \"params\": {<br>    \"num_layers\": 1,<br>    \"hidden_size\": 54,<br>    \"dropout_rate\": 0.026616991596060957,<br>    \"optimizer\": \"Adam\",<br>    \"lr\": 0.025619962292792987<br>  }<br>}",
          "{<br>  \"number\": 93,<br>  \"values\": [<br>    0.09462319693225059<br>  ],<br>  \"params\": {<br>    \"num_layers\": 1,<br>    \"hidden_size\": 56,<br>    \"dropout_rate\": 0.052855543049183544,<br>    \"optimizer\": \"Adam\",<br>    \"lr\": 0.020470281426209724<br>  }<br>}",
          "{<br>  \"number\": 94,<br>  \"values\": [<br>    0.08140737039319752<br>  ],<br>  \"params\": {<br>    \"num_layers\": 1,<br>    \"hidden_size\": 64,<br>    \"dropout_rate\": 0.03957713537356332,<br>    \"optimizer\": \"Adam\",<br>    \"lr\": 0.007931648274073862<br>  }<br>}",
          "{<br>  \"number\": 95,<br>  \"values\": [<br>    0.09043195436130007<br>  ],<br>  \"params\": {<br>    \"num_layers\": 1,<br>    \"hidden_size\": 41,<br>    \"dropout_rate\": 0.31703045806004726,<br>    \"optimizer\": \"Adam\",<br>    \"lr\": 0.012147388772539413<br>  }<br>}",
          "{<br>  \"number\": 96,<br>  \"values\": [<br>    0.08920261542937484<br>  ],<br>  \"params\": {<br>    \"num_layers\": 1,<br>    \"hidden_size\": 100,<br>    \"dropout_rate\": 0.4413367397359227,<br>    \"optimizer\": \"Adam\",<br>    \"lr\": 0.04743260882479556<br>  }<br>}",
          "{<br>  \"number\": 97,<br>  \"values\": [<br>    0.2779680889493483<br>  ],<br>  \"params\": {<br>    \"num_layers\": 1,<br>    \"hidden_size\": 60,<br>    \"dropout_rate\": 0.07303408278439108,<br>    \"optimizer\": \"SGD\",<br>    \"lr\": 0.005743563623411547<br>  }<br>}",
          "{<br>  \"number\": 98,<br>  \"values\": [<br>    0.08575603829183485<br>  ],<br>  \"params\": {<br>    \"num_layers\": 1,<br>    \"hidden_size\": 35,<br>    \"dropout_rate\": 0.22160418545289012,<br>    \"optimizer\": \"RMSprop\",<br>    \"lr\": 0.01900685223763231<br>  }<br>}",
          "{<br>  \"number\": 99,<br>  \"values\": [<br>    0.08648392240850067<br>  ],<br>  \"params\": {<br>    \"num_layers\": 1,<br>    \"hidden_size\": 49,<br>    \"dropout_rate\": 0.46156236332727485,<br>    \"optimizer\": \"Adam\",<br>    \"lr\": 0.0041966492748157225<br>  }<br>}"
         ],
         "textposition": "none",
         "type": "bar",
         "x": [
          8514.474,
          4682.604,
          10796.618,
          9768.539999999999,
          6412.812,
          3354.118,
          5578.057000000001,
          5663.326,
          11177.49,
          3655.296,
          4319.586,
          7580.558,
          7113.11,
          11441.803,
          7479.257,
          8725.338000000002,
          7638.752,
          3806.734,
          6418.408,
          3466.953,
          3694.8979999999997,
          3553.093,
          3698.8819999999996,
          5571.671,
          9350.082,
          3477.418,
          7988.365,
          8266.640000000001,
          3557.751,
          3685.651,
          4438.717,
          3731.949,
          3912.181,
          13689.591,
          9506.513,
          7730.508000000001,
          32282.978999999996,
          3726.0719999999997,
          7007.385,
          3692.207,
          13265.76,
          3724.567,
          7583.255,
          3472.692,
          3674.436,
          6857.735,
          3307.197,
          5918.793,
          3963.6969999999997,
          3697.14,
          3785.442,
          3889.426,
          8831.639,
          3849.047,
          3419.989,
          5764.571,
          3698.8360000000002,
          7052.155,
          7327.3640000000005,
          4643.188,
          3645.691,
          4649.292,
          3602.27,
          3491.6749999999997,
          9537.588,
          7752.751,
          3858.076,
          7565.887,
          7223.590999999999,
          3675.713,
          5777.285,
          3837.9,
          3640.063,
          3927.122
         ],
         "y": [
          5,
          6,
          7,
          8,
          10,
          11,
          13,
          16,
          18,
          19,
          20,
          21,
          23,
          24,
          25,
          26,
          27,
          28,
          30,
          31,
          32,
          33,
          34,
          35,
          36,
          37,
          38,
          40,
          41,
          42,
          44,
          45,
          46,
          48,
          49,
          50,
          51,
          53,
          55,
          59,
          60,
          61,
          62,
          63,
          65,
          66,
          67,
          68,
          69,
          70,
          73,
          75,
          76,
          77,
          78,
          79,
          80,
          81,
          82,
          83,
          85,
          86,
          87,
          88,
          89,
          91,
          92,
          93,
          94,
          95,
          96,
          97,
          98,
          99
         ]
        }
       ],
       "layout": {
        "showlegend": true,
        "template": {
         "data": {
          "bar": [
           {
            "error_x": {
             "color": "#2a3f5f"
            },
            "error_y": {
             "color": "#2a3f5f"
            },
            "marker": {
             "line": {
              "color": "#E5ECF6",
              "width": 0.5
             },
             "pattern": {
              "fillmode": "overlay",
              "size": 10,
              "solidity": 0.2
             }
            },
            "type": "bar"
           }
          ],
          "barpolar": [
           {
            "marker": {
             "line": {
              "color": "#E5ECF6",
              "width": 0.5
             },
             "pattern": {
              "fillmode": "overlay",
              "size": 10,
              "solidity": 0.2
             }
            },
            "type": "barpolar"
           }
          ],
          "carpet": [
           {
            "aaxis": {
             "endlinecolor": "#2a3f5f",
             "gridcolor": "white",
             "linecolor": "white",
             "minorgridcolor": "white",
             "startlinecolor": "#2a3f5f"
            },
            "baxis": {
             "endlinecolor": "#2a3f5f",
             "gridcolor": "white",
             "linecolor": "white",
             "minorgridcolor": "white",
             "startlinecolor": "#2a3f5f"
            },
            "type": "carpet"
           }
          ],
          "choropleth": [
           {
            "colorbar": {
             "outlinewidth": 0,
             "ticks": ""
            },
            "type": "choropleth"
           }
          ],
          "contour": [
           {
            "colorbar": {
             "outlinewidth": 0,
             "ticks": ""
            },
            "colorscale": [
             [
              0,
              "#0d0887"
             ],
             [
              0.1111111111111111,
              "#46039f"
             ],
             [
              0.2222222222222222,
              "#7201a8"
             ],
             [
              0.3333333333333333,
              "#9c179e"
             ],
             [
              0.4444444444444444,
              "#bd3786"
             ],
             [
              0.5555555555555556,
              "#d8576b"
             ],
             [
              0.6666666666666666,
              "#ed7953"
             ],
             [
              0.7777777777777778,
              "#fb9f3a"
             ],
             [
              0.8888888888888888,
              "#fdca26"
             ],
             [
              1,
              "#f0f921"
             ]
            ],
            "type": "contour"
           }
          ],
          "contourcarpet": [
           {
            "colorbar": {
             "outlinewidth": 0,
             "ticks": ""
            },
            "type": "contourcarpet"
           }
          ],
          "heatmap": [
           {
            "colorbar": {
             "outlinewidth": 0,
             "ticks": ""
            },
            "colorscale": [
             [
              0,
              "#0d0887"
             ],
             [
              0.1111111111111111,
              "#46039f"
             ],
             [
              0.2222222222222222,
              "#7201a8"
             ],
             [
              0.3333333333333333,
              "#9c179e"
             ],
             [
              0.4444444444444444,
              "#bd3786"
             ],
             [
              0.5555555555555556,
              "#d8576b"
             ],
             [
              0.6666666666666666,
              "#ed7953"
             ],
             [
              0.7777777777777778,
              "#fb9f3a"
             ],
             [
              0.8888888888888888,
              "#fdca26"
             ],
             [
              1,
              "#f0f921"
             ]
            ],
            "type": "heatmap"
           }
          ],
          "heatmapgl": [
           {
            "colorbar": {
             "outlinewidth": 0,
             "ticks": ""
            },
            "colorscale": [
             [
              0,
              "#0d0887"
             ],
             [
              0.1111111111111111,
              "#46039f"
             ],
             [
              0.2222222222222222,
              "#7201a8"
             ],
             [
              0.3333333333333333,
              "#9c179e"
             ],
             [
              0.4444444444444444,
              "#bd3786"
             ],
             [
              0.5555555555555556,
              "#d8576b"
             ],
             [
              0.6666666666666666,
              "#ed7953"
             ],
             [
              0.7777777777777778,
              "#fb9f3a"
             ],
             [
              0.8888888888888888,
              "#fdca26"
             ],
             [
              1,
              "#f0f921"
             ]
            ],
            "type": "heatmapgl"
           }
          ],
          "histogram": [
           {
            "marker": {
             "pattern": {
              "fillmode": "overlay",
              "size": 10,
              "solidity": 0.2
             }
            },
            "type": "histogram"
           }
          ],
          "histogram2d": [
           {
            "colorbar": {
             "outlinewidth": 0,
             "ticks": ""
            },
            "colorscale": [
             [
              0,
              "#0d0887"
             ],
             [
              0.1111111111111111,
              "#46039f"
             ],
             [
              0.2222222222222222,
              "#7201a8"
             ],
             [
              0.3333333333333333,
              "#9c179e"
             ],
             [
              0.4444444444444444,
              "#bd3786"
             ],
             [
              0.5555555555555556,
              "#d8576b"
             ],
             [
              0.6666666666666666,
              "#ed7953"
             ],
             [
              0.7777777777777778,
              "#fb9f3a"
             ],
             [
              0.8888888888888888,
              "#fdca26"
             ],
             [
              1,
              "#f0f921"
             ]
            ],
            "type": "histogram2d"
           }
          ],
          "histogram2dcontour": [
           {
            "colorbar": {
             "outlinewidth": 0,
             "ticks": ""
            },
            "colorscale": [
             [
              0,
              "#0d0887"
             ],
             [
              0.1111111111111111,
              "#46039f"
             ],
             [
              0.2222222222222222,
              "#7201a8"
             ],
             [
              0.3333333333333333,
              "#9c179e"
             ],
             [
              0.4444444444444444,
              "#bd3786"
             ],
             [
              0.5555555555555556,
              "#d8576b"
             ],
             [
              0.6666666666666666,
              "#ed7953"
             ],
             [
              0.7777777777777778,
              "#fb9f3a"
             ],
             [
              0.8888888888888888,
              "#fdca26"
             ],
             [
              1,
              "#f0f921"
             ]
            ],
            "type": "histogram2dcontour"
           }
          ],
          "mesh3d": [
           {
            "colorbar": {
             "outlinewidth": 0,
             "ticks": ""
            },
            "type": "mesh3d"
           }
          ],
          "parcoords": [
           {
            "line": {
             "colorbar": {
              "outlinewidth": 0,
              "ticks": ""
             }
            },
            "type": "parcoords"
           }
          ],
          "pie": [
           {
            "automargin": true,
            "type": "pie"
           }
          ],
          "scatter": [
           {
            "fillpattern": {
             "fillmode": "overlay",
             "size": 10,
             "solidity": 0.2
            },
            "type": "scatter"
           }
          ],
          "scatter3d": [
           {
            "line": {
             "colorbar": {
              "outlinewidth": 0,
              "ticks": ""
             }
            },
            "marker": {
             "colorbar": {
              "outlinewidth": 0,
              "ticks": ""
             }
            },
            "type": "scatter3d"
           }
          ],
          "scattercarpet": [
           {
            "marker": {
             "colorbar": {
              "outlinewidth": 0,
              "ticks": ""
             }
            },
            "type": "scattercarpet"
           }
          ],
          "scattergeo": [
           {
            "marker": {
             "colorbar": {
              "outlinewidth": 0,
              "ticks": ""
             }
            },
            "type": "scattergeo"
           }
          ],
          "scattergl": [
           {
            "marker": {
             "colorbar": {
              "outlinewidth": 0,
              "ticks": ""
             }
            },
            "type": "scattergl"
           }
          ],
          "scattermapbox": [
           {
            "marker": {
             "colorbar": {
              "outlinewidth": 0,
              "ticks": ""
             }
            },
            "type": "scattermapbox"
           }
          ],
          "scatterpolar": [
           {
            "marker": {
             "colorbar": {
              "outlinewidth": 0,
              "ticks": ""
             }
            },
            "type": "scatterpolar"
           }
          ],
          "scatterpolargl": [
           {
            "marker": {
             "colorbar": {
              "outlinewidth": 0,
              "ticks": ""
             }
            },
            "type": "scatterpolargl"
           }
          ],
          "scatterternary": [
           {
            "marker": {
             "colorbar": {
              "outlinewidth": 0,
              "ticks": ""
             }
            },
            "type": "scatterternary"
           }
          ],
          "surface": [
           {
            "colorbar": {
             "outlinewidth": 0,
             "ticks": ""
            },
            "colorscale": [
             [
              0,
              "#0d0887"
             ],
             [
              0.1111111111111111,
              "#46039f"
             ],
             [
              0.2222222222222222,
              "#7201a8"
             ],
             [
              0.3333333333333333,
              "#9c179e"
             ],
             [
              0.4444444444444444,
              "#bd3786"
             ],
             [
              0.5555555555555556,
              "#d8576b"
             ],
             [
              0.6666666666666666,
              "#ed7953"
             ],
             [
              0.7777777777777778,
              "#fb9f3a"
             ],
             [
              0.8888888888888888,
              "#fdca26"
             ],
             [
              1,
              "#f0f921"
             ]
            ],
            "type": "surface"
           }
          ],
          "table": [
           {
            "cells": {
             "fill": {
              "color": "#EBF0F8"
             },
             "line": {
              "color": "white"
             }
            },
            "header": {
             "fill": {
              "color": "#C8D4E3"
             },
             "line": {
              "color": "white"
             }
            },
            "type": "table"
           }
          ]
         },
         "layout": {
          "annotationdefaults": {
           "arrowcolor": "#2a3f5f",
           "arrowhead": 0,
           "arrowwidth": 1
          },
          "autotypenumbers": "strict",
          "coloraxis": {
           "colorbar": {
            "outlinewidth": 0,
            "ticks": ""
           }
          },
          "colorscale": {
           "diverging": [
            [
             0,
             "#8e0152"
            ],
            [
             0.1,
             "#c51b7d"
            ],
            [
             0.2,
             "#de77ae"
            ],
            [
             0.3,
             "#f1b6da"
            ],
            [
             0.4,
             "#fde0ef"
            ],
            [
             0.5,
             "#f7f7f7"
            ],
            [
             0.6,
             "#e6f5d0"
            ],
            [
             0.7,
             "#b8e186"
            ],
            [
             0.8,
             "#7fbc41"
            ],
            [
             0.9,
             "#4d9221"
            ],
            [
             1,
             "#276419"
            ]
           ],
           "sequential": [
            [
             0,
             "#0d0887"
            ],
            [
             0.1111111111111111,
             "#46039f"
            ],
            [
             0.2222222222222222,
             "#7201a8"
            ],
            [
             0.3333333333333333,
             "#9c179e"
            ],
            [
             0.4444444444444444,
             "#bd3786"
            ],
            [
             0.5555555555555556,
             "#d8576b"
            ],
            [
             0.6666666666666666,
             "#ed7953"
            ],
            [
             0.7777777777777778,
             "#fb9f3a"
            ],
            [
             0.8888888888888888,
             "#fdca26"
            ],
            [
             1,
             "#f0f921"
            ]
           ],
           "sequentialminus": [
            [
             0,
             "#0d0887"
            ],
            [
             0.1111111111111111,
             "#46039f"
            ],
            [
             0.2222222222222222,
             "#7201a8"
            ],
            [
             0.3333333333333333,
             "#9c179e"
            ],
            [
             0.4444444444444444,
             "#bd3786"
            ],
            [
             0.5555555555555556,
             "#d8576b"
            ],
            [
             0.6666666666666666,
             "#ed7953"
            ],
            [
             0.7777777777777778,
             "#fb9f3a"
            ],
            [
             0.8888888888888888,
             "#fdca26"
            ],
            [
             1,
             "#f0f921"
            ]
           ]
          },
          "colorway": [
           "#636efa",
           "#EF553B",
           "#00cc96",
           "#ab63fa",
           "#FFA15A",
           "#19d3f3",
           "#FF6692",
           "#B6E880",
           "#FF97FF",
           "#FECB52"
          ],
          "font": {
           "color": "#2a3f5f"
          },
          "geo": {
           "bgcolor": "white",
           "lakecolor": "white",
           "landcolor": "#E5ECF6",
           "showlakes": true,
           "showland": true,
           "subunitcolor": "white"
          },
          "hoverlabel": {
           "align": "left"
          },
          "hovermode": "closest",
          "mapbox": {
           "style": "light"
          },
          "paper_bgcolor": "white",
          "plot_bgcolor": "#E5ECF6",
          "polar": {
           "angularaxis": {
            "gridcolor": "white",
            "linecolor": "white",
            "ticks": ""
           },
           "bgcolor": "#E5ECF6",
           "radialaxis": {
            "gridcolor": "white",
            "linecolor": "white",
            "ticks": ""
           }
          },
          "scene": {
           "xaxis": {
            "backgroundcolor": "#E5ECF6",
            "gridcolor": "white",
            "gridwidth": 2,
            "linecolor": "white",
            "showbackground": true,
            "ticks": "",
            "zerolinecolor": "white"
           },
           "yaxis": {
            "backgroundcolor": "#E5ECF6",
            "gridcolor": "white",
            "gridwidth": 2,
            "linecolor": "white",
            "showbackground": true,
            "ticks": "",
            "zerolinecolor": "white"
           },
           "zaxis": {
            "backgroundcolor": "#E5ECF6",
            "gridcolor": "white",
            "gridwidth": 2,
            "linecolor": "white",
            "showbackground": true,
            "ticks": "",
            "zerolinecolor": "white"
           }
          },
          "shapedefaults": {
           "line": {
            "color": "#2a3f5f"
           }
          },
          "ternary": {
           "aaxis": {
            "gridcolor": "white",
            "linecolor": "white",
            "ticks": ""
           },
           "baxis": {
            "gridcolor": "white",
            "linecolor": "white",
            "ticks": ""
           },
           "bgcolor": "#E5ECF6",
           "caxis": {
            "gridcolor": "white",
            "linecolor": "white",
            "ticks": ""
           }
          },
          "title": {
           "x": 0.05
          },
          "xaxis": {
           "automargin": true,
           "gridcolor": "white",
           "linecolor": "white",
           "ticks": "",
           "title": {
            "standoff": 15
           },
           "zerolinecolor": "white",
           "zerolinewidth": 2
          },
          "yaxis": {
           "automargin": true,
           "gridcolor": "white",
           "linecolor": "white",
           "ticks": "",
           "title": {
            "standoff": 15
           },
           "zerolinecolor": "white",
           "zerolinewidth": 2
          }
         }
        },
        "title": {
         "text": "Timeline Plot"
        },
        "xaxis": {
         "title": {
          "text": "Datetime"
         },
         "type": "date"
        },
        "yaxis": {
         "title": {
          "text": "Trial"
         }
        }
       }
      }
     },
     "metadata": {},
     "output_type": "display_data"
    }
   ],
   "source": [
    "plot_timeline(study)"
   ]
  },
  {
   "cell_type": "code",
   "execution_count": null,
   "metadata": {},
   "outputs": [],
   "source": []
  }
 ],
 "metadata": {
  "kernelspec": {
   "display_name": "kedro",
   "language": "python",
   "name": "python3"
  },
  "language_info": {
   "codemirror_mode": {
    "name": "ipython",
    "version": 3
   },
   "file_extension": ".py",
   "mimetype": "text/x-python",
   "name": "python",
   "nbconvert_exporter": "python",
   "pygments_lexer": "ipython3",
   "version": "3.10.13"
  }
 },
 "nbformat": 4,
 "nbformat_minor": 2
}
