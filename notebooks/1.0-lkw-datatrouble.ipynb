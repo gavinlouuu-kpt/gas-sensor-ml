{
 "cells": [
  {
   "cell_type": "code",
   "execution_count": 1,
   "metadata": {},
   "outputs": [
    {
     "data": {
      "text/html": [
       "<pre style=\"white-space:pre;overflow-x:auto;line-height:normal;font-family:Menlo,'DejaVu Sans Mono',consolas,'Courier New',monospace\"><span style=\"color: #7fbfbf; text-decoration-color: #7fbfbf\">[01/03/24 19:20:17] </span><span style=\"color: #000080; text-decoration-color: #000080\">INFO    </span> Resolved project path as: <span style=\"color: #800080; text-decoration-color: #800080\">/Users/kpt/Code/kedro/</span><span style=\"color: #ff00ff; text-decoration-color: #ff00ff\">gas-sensor-ml.</span>         <a href=\"file:///Users/kpt/.pyenv/versions/3.10.13/envs/kedro-env/lib/python3.10/site-packages/kedro/ipython/__init__.py\" target=\"_blank\"><span style=\"color: #7f7f7f; text-decoration-color: #7f7f7f\">__init__.py</span></a><span style=\"color: #7f7f7f; text-decoration-color: #7f7f7f\">:</span><a href=\"file:///Users/kpt/.pyenv/versions/3.10.13/envs/kedro-env/lib/python3.10/site-packages/kedro/ipython/__init__.py#139\" target=\"_blank\"><span style=\"color: #7f7f7f; text-decoration-color: #7f7f7f\">139</span></a>\n",
       "<span style=\"color: #7fbfbf; text-decoration-color: #7fbfbf\">                    </span>         To set a different path, run <span style=\"color: #008000; text-decoration-color: #008000\">'%reload_kedro &lt;project_root&gt;'</span>            <span style=\"color: #7f7f7f; text-decoration-color: #7f7f7f\">               </span>\n",
       "</pre>\n"
      ],
      "text/plain": [
       "\u001b[2;36m[01/03/24 19:20:17]\u001b[0m\u001b[2;36m \u001b[0m\u001b[34mINFO    \u001b[0m Resolved project path as: \u001b[35m/Users/kpt/Code/kedro/\u001b[0m\u001b[95mgas-sensor-ml.\u001b[0m         \u001b]8;id=625959;file:///Users/kpt/.pyenv/versions/3.10.13/envs/kedro-env/lib/python3.10/site-packages/kedro/ipython/__init__.py\u001b\\\u001b[2m__init__.py\u001b[0m\u001b]8;;\u001b\\\u001b[2m:\u001b[0m\u001b]8;id=528542;file:///Users/kpt/.pyenv/versions/3.10.13/envs/kedro-env/lib/python3.10/site-packages/kedro/ipython/__init__.py#139\u001b\\\u001b[2m139\u001b[0m\u001b]8;;\u001b\\\n",
       "\u001b[2;36m                    \u001b[0m         To set a different path, run \u001b[32m'%reload_kedro \u001b[0m\u001b[32m<\u001b[0m\u001b[32mproject_root\u001b[0m\u001b[32m>\u001b[0m\u001b[32m'\u001b[0m            \u001b[2m               \u001b[0m\n"
      ]
     },
     "metadata": {},
     "output_type": "display_data"
    },
    {
     "data": {
      "text/html": [
       "<pre style=\"white-space:pre;overflow-x:auto;line-height:normal;font-family:Menlo,'DejaVu Sans Mono',consolas,'Courier New',monospace\"><span style=\"color: #7fbfbf; text-decoration-color: #7fbfbf\">[01/03/24 19:20:17] </span><span style=\"color: #800000; text-decoration-color: #800000\">WARNING </span> <span style=\"color: #800080; text-decoration-color: #800080\">/Users/kpt/.pyenv/versions/3.10.13/envs/kedro-env/lib/python3.10/site-</span> <a href=\"file:///Users/kpt/.pyenv/versions/3.10.13/lib/python3.10/warnings.py\" target=\"_blank\"><span style=\"color: #7f7f7f; text-decoration-color: #7f7f7f\">warnings.py</span></a><span style=\"color: #7f7f7f; text-decoration-color: #7f7f7f\">:</span><a href=\"file:///Users/kpt/.pyenv/versions/3.10.13/lib/python3.10/warnings.py#109\" target=\"_blank\"><span style=\"color: #7f7f7f; text-decoration-color: #7f7f7f\">109</span></a>\n",
       "<span style=\"color: #7fbfbf; text-decoration-color: #7fbfbf\">                    </span>         <span style=\"color: #800080; text-decoration-color: #800080\">packages/lazy_loader/</span><span style=\"color: #ff00ff; text-decoration-color: #ff00ff\">__init__.py</span>:<span style=\"color: #008080; text-decoration-color: #008080; font-weight: bold\">78</span>: KedroDeprecationWarning:          <span style=\"color: #7f7f7f; text-decoration-color: #7f7f7f\">               </span>\n",
       "<span style=\"color: #7fbfbf; text-decoration-color: #7fbfbf\">                    </span>         <span style=\"color: #008000; text-decoration-color: #008000\">'CSVDataSet'</span> has been renamed to <span style=\"color: #008000; text-decoration-color: #008000\">'CSVDataset'</span>, and the alias will be   <span style=\"color: #7f7f7f; text-decoration-color: #7f7f7f\">               </span>\n",
       "<span style=\"color: #7fbfbf; text-decoration-color: #7fbfbf\">                    </span>         removed in Kedro-Datasets <span style=\"color: #008080; text-decoration-color: #008080; font-weight: bold\">2.0</span>.<span style=\"color: #008080; text-decoration-color: #008080; font-weight: bold\">0</span>                                        <span style=\"color: #7f7f7f; text-decoration-color: #7f7f7f\">               </span>\n",
       "<span style=\"color: #7fbfbf; text-decoration-color: #7fbfbf\">                    </span>           attr = <span style=\"color: #800080; text-decoration-color: #800080; font-weight: bold\">getattr</span><span style=\"font-weight: bold\">(</span>submod, name<span style=\"font-weight: bold\">)</span>                                         <span style=\"color: #7f7f7f; text-decoration-color: #7f7f7f\">               </span>\n",
       "<span style=\"color: #7fbfbf; text-decoration-color: #7fbfbf\">                    </span>                                                                                <span style=\"color: #7f7f7f; text-decoration-color: #7f7f7f\">               </span>\n",
       "</pre>\n"
      ],
      "text/plain": [
       "\u001b[2;36m[01/03/24 19:20:17]\u001b[0m\u001b[2;36m \u001b[0m\u001b[31mWARNING \u001b[0m \u001b[35m/Users/kpt/.pyenv/versions/3.10.13/envs/kedro-env/lib/python3.10/site-\u001b[0m \u001b]8;id=873315;file:///Users/kpt/.pyenv/versions/3.10.13/lib/python3.10/warnings.py\u001b\\\u001b[2mwarnings.py\u001b[0m\u001b]8;;\u001b\\\u001b[2m:\u001b[0m\u001b]8;id=941550;file:///Users/kpt/.pyenv/versions/3.10.13/lib/python3.10/warnings.py#109\u001b\\\u001b[2m109\u001b[0m\u001b]8;;\u001b\\\n",
       "\u001b[2;36m                    \u001b[0m         \u001b[35mpackages/lazy_loader/\u001b[0m\u001b[95m__init__.py\u001b[0m:\u001b[1;36m78\u001b[0m: KedroDeprecationWarning:          \u001b[2m               \u001b[0m\n",
       "\u001b[2;36m                    \u001b[0m         \u001b[32m'CSVDataSet'\u001b[0m has been renamed to \u001b[32m'CSVDataset'\u001b[0m, and the alias will be   \u001b[2m               \u001b[0m\n",
       "\u001b[2;36m                    \u001b[0m         removed in Kedro-Datasets \u001b[1;36m2.0\u001b[0m.\u001b[1;36m0\u001b[0m                                        \u001b[2m               \u001b[0m\n",
       "\u001b[2;36m                    \u001b[0m           attr = \u001b[1;35mgetattr\u001b[0m\u001b[1m(\u001b[0msubmod, name\u001b[1m)\u001b[0m                                         \u001b[2m               \u001b[0m\n",
       "\u001b[2;36m                    \u001b[0m                                                                                \u001b[2m               \u001b[0m\n"
      ]
     },
     "metadata": {},
     "output_type": "display_data"
    },
    {
     "data": {
      "text/html": [
       "<pre style=\"white-space:pre;overflow-x:auto;line-height:normal;font-family:Menlo,'DejaVu Sans Mono',consolas,'Courier New',monospace\"><span style=\"color: #7fbfbf; text-decoration-color: #7fbfbf\">                    </span><span style=\"color: #800000; text-decoration-color: #800000\">WARNING </span> <span style=\"color: #800080; text-decoration-color: #800080\">/Users/kpt/.pyenv/versions/3.10.13/envs/kedro-env/lib/python3.10/site-</span> <a href=\"file:///Users/kpt/.pyenv/versions/3.10.13/lib/python3.10/warnings.py\" target=\"_blank\"><span style=\"color: #7f7f7f; text-decoration-color: #7f7f7f\">warnings.py</span></a><span style=\"color: #7f7f7f; text-decoration-color: #7f7f7f\">:</span><a href=\"file:///Users/kpt/.pyenv/versions/3.10.13/lib/python3.10/warnings.py#109\" target=\"_blank\"><span style=\"color: #7f7f7f; text-decoration-color: #7f7f7f\">109</span></a>\n",
       "<span style=\"color: #7fbfbf; text-decoration-color: #7fbfbf\">                    </span>         <span style=\"color: #800080; text-decoration-color: #800080\">packages/lazy_loader/</span><span style=\"color: #ff00ff; text-decoration-color: #ff00ff\">__init__.py</span>:<span style=\"color: #008080; text-decoration-color: #008080; font-weight: bold\">78</span>: KedroDeprecationWarning:          <span style=\"color: #7f7f7f; text-decoration-color: #7f7f7f\">               </span>\n",
       "<span style=\"color: #7fbfbf; text-decoration-color: #7fbfbf\">                    </span>         <span style=\"color: #008000; text-decoration-color: #008000\">'PickleDataSet'</span> has been renamed to <span style=\"color: #008000; text-decoration-color: #008000\">'PickleDataset'</span>, and the alias     <span style=\"color: #7f7f7f; text-decoration-color: #7f7f7f\">               </span>\n",
       "<span style=\"color: #7fbfbf; text-decoration-color: #7fbfbf\">                    </span>         will be removed in Kedro-Datasets <span style=\"color: #008080; text-decoration-color: #008080; font-weight: bold\">2.0</span>.<span style=\"color: #008080; text-decoration-color: #008080; font-weight: bold\">0</span>                                <span style=\"color: #7f7f7f; text-decoration-color: #7f7f7f\">               </span>\n",
       "<span style=\"color: #7fbfbf; text-decoration-color: #7fbfbf\">                    </span>           attr = <span style=\"color: #800080; text-decoration-color: #800080; font-weight: bold\">getattr</span><span style=\"font-weight: bold\">(</span>submod, name<span style=\"font-weight: bold\">)</span>                                         <span style=\"color: #7f7f7f; text-decoration-color: #7f7f7f\">               </span>\n",
       "<span style=\"color: #7fbfbf; text-decoration-color: #7fbfbf\">                    </span>                                                                                <span style=\"color: #7f7f7f; text-decoration-color: #7f7f7f\">               </span>\n",
       "</pre>\n"
      ],
      "text/plain": [
       "\u001b[2;36m                   \u001b[0m\u001b[2;36m \u001b[0m\u001b[31mWARNING \u001b[0m \u001b[35m/Users/kpt/.pyenv/versions/3.10.13/envs/kedro-env/lib/python3.10/site-\u001b[0m \u001b]8;id=411973;file:///Users/kpt/.pyenv/versions/3.10.13/lib/python3.10/warnings.py\u001b\\\u001b[2mwarnings.py\u001b[0m\u001b]8;;\u001b\\\u001b[2m:\u001b[0m\u001b]8;id=698074;file:///Users/kpt/.pyenv/versions/3.10.13/lib/python3.10/warnings.py#109\u001b\\\u001b[2m109\u001b[0m\u001b]8;;\u001b\\\n",
       "\u001b[2;36m                    \u001b[0m         \u001b[35mpackages/lazy_loader/\u001b[0m\u001b[95m__init__.py\u001b[0m:\u001b[1;36m78\u001b[0m: KedroDeprecationWarning:          \u001b[2m               \u001b[0m\n",
       "\u001b[2;36m                    \u001b[0m         \u001b[32m'PickleDataSet'\u001b[0m has been renamed to \u001b[32m'PickleDataset'\u001b[0m, and the alias     \u001b[2m               \u001b[0m\n",
       "\u001b[2;36m                    \u001b[0m         will be removed in Kedro-Datasets \u001b[1;36m2.0\u001b[0m.\u001b[1;36m0\u001b[0m                                \u001b[2m               \u001b[0m\n",
       "\u001b[2;36m                    \u001b[0m           attr = \u001b[1;35mgetattr\u001b[0m\u001b[1m(\u001b[0msubmod, name\u001b[1m)\u001b[0m                                         \u001b[2m               \u001b[0m\n",
       "\u001b[2;36m                    \u001b[0m                                                                                \u001b[2m               \u001b[0m\n"
      ]
     },
     "metadata": {},
     "output_type": "display_data"
    },
    {
     "data": {
      "text/html": [
       "<pre style=\"white-space:pre;overflow-x:auto;line-height:normal;font-family:Menlo,'DejaVu Sans Mono',consolas,'Courier New',monospace\"><span style=\"color: #7fbfbf; text-decoration-color: #7fbfbf\">                    </span><span style=\"color: #000080; text-decoration-color: #000080\">INFO    </span> Kedro project gas-sensor-ml                                            <a href=\"file:///Users/kpt/.pyenv/versions/3.10.13/envs/kedro-env/lib/python3.10/site-packages/kedro/ipython/__init__.py\" target=\"_blank\"><span style=\"color: #7f7f7f; text-decoration-color: #7f7f7f\">__init__.py</span></a><span style=\"color: #7f7f7f; text-decoration-color: #7f7f7f\">:</span><a href=\"file:///Users/kpt/.pyenv/versions/3.10.13/envs/kedro-env/lib/python3.10/site-packages/kedro/ipython/__init__.py#108\" target=\"_blank\"><span style=\"color: #7f7f7f; text-decoration-color: #7f7f7f\">108</span></a>\n",
       "</pre>\n"
      ],
      "text/plain": [
       "\u001b[2;36m                   \u001b[0m\u001b[2;36m \u001b[0m\u001b[34mINFO    \u001b[0m Kedro project gas-sensor-ml                                            \u001b]8;id=689852;file:///Users/kpt/.pyenv/versions/3.10.13/envs/kedro-env/lib/python3.10/site-packages/kedro/ipython/__init__.py\u001b\\\u001b[2m__init__.py\u001b[0m\u001b]8;;\u001b\\\u001b[2m:\u001b[0m\u001b]8;id=457910;file:///Users/kpt/.pyenv/versions/3.10.13/envs/kedro-env/lib/python3.10/site-packages/kedro/ipython/__init__.py#108\u001b\\\u001b[2m108\u001b[0m\u001b]8;;\u001b\\\n"
      ]
     },
     "metadata": {},
     "output_type": "display_data"
    },
    {
     "data": {
      "text/html": [
       "<pre style=\"white-space:pre;overflow-x:auto;line-height:normal;font-family:Menlo,'DejaVu Sans Mono',consolas,'Courier New',monospace\"><span style=\"color: #7fbfbf; text-decoration-color: #7fbfbf\">                    </span><span style=\"color: #000080; text-decoration-color: #000080\">INFO    </span> Defined global variable <span style=\"color: #008000; text-decoration-color: #008000\">'context'</span>, <span style=\"color: #008000; text-decoration-color: #008000\">'session'</span>, <span style=\"color: #008000; text-decoration-color: #008000\">'catalog'</span> and            <a href=\"file:///Users/kpt/.pyenv/versions/3.10.13/envs/kedro-env/lib/python3.10/site-packages/kedro/ipython/__init__.py\" target=\"_blank\"><span style=\"color: #7f7f7f; text-decoration-color: #7f7f7f\">__init__.py</span></a><span style=\"color: #7f7f7f; text-decoration-color: #7f7f7f\">:</span><a href=\"file:///Users/kpt/.pyenv/versions/3.10.13/envs/kedro-env/lib/python3.10/site-packages/kedro/ipython/__init__.py#109\" target=\"_blank\"><span style=\"color: #7f7f7f; text-decoration-color: #7f7f7f\">109</span></a>\n",
       "<span style=\"color: #7fbfbf; text-decoration-color: #7fbfbf\">                    </span>         <span style=\"color: #008000; text-decoration-color: #008000\">'pipelines'</span>                                                            <span style=\"color: #7f7f7f; text-decoration-color: #7f7f7f\">               </span>\n",
       "</pre>\n"
      ],
      "text/plain": [
       "\u001b[2;36m                   \u001b[0m\u001b[2;36m \u001b[0m\u001b[34mINFO    \u001b[0m Defined global variable \u001b[32m'context'\u001b[0m, \u001b[32m'session'\u001b[0m, \u001b[32m'catalog'\u001b[0m and            \u001b]8;id=951619;file:///Users/kpt/.pyenv/versions/3.10.13/envs/kedro-env/lib/python3.10/site-packages/kedro/ipython/__init__.py\u001b\\\u001b[2m__init__.py\u001b[0m\u001b]8;;\u001b\\\u001b[2m:\u001b[0m\u001b]8;id=193039;file:///Users/kpt/.pyenv/versions/3.10.13/envs/kedro-env/lib/python3.10/site-packages/kedro/ipython/__init__.py#109\u001b\\\u001b[2m109\u001b[0m\u001b]8;;\u001b\\\n",
       "\u001b[2;36m                    \u001b[0m         \u001b[32m'pipelines'\u001b[0m                                                            \u001b[2m               \u001b[0m\n"
      ]
     },
     "metadata": {},
     "output_type": "display_data"
    },
    {
     "data": {
      "text/html": [
       "<pre style=\"white-space:pre;overflow-x:auto;line-height:normal;font-family:Menlo,'DejaVu Sans Mono',consolas,'Courier New',monospace\"><span style=\"color: #7fbfbf; text-decoration-color: #7fbfbf\">[01/03/24 19:20:18] </span><span style=\"color: #000080; text-decoration-color: #000080\">INFO    </span> Registered line magic <span style=\"color: #008000; text-decoration-color: #008000\">'run_viz'</span>                                        <a href=\"file:///Users/kpt/.pyenv/versions/3.10.13/envs/kedro-env/lib/python3.10/site-packages/kedro/ipython/__init__.py\" target=\"_blank\"><span style=\"color: #7f7f7f; text-decoration-color: #7f7f7f\">__init__.py</span></a><span style=\"color: #7f7f7f; text-decoration-color: #7f7f7f\">:</span><a href=\"file:///Users/kpt/.pyenv/versions/3.10.13/envs/kedro-env/lib/python3.10/site-packages/kedro/ipython/__init__.py#115\" target=\"_blank\"><span style=\"color: #7f7f7f; text-decoration-color: #7f7f7f\">115</span></a>\n",
       "</pre>\n"
      ],
      "text/plain": [
       "\u001b[2;36m[01/03/24 19:20:18]\u001b[0m\u001b[2;36m \u001b[0m\u001b[34mINFO    \u001b[0m Registered line magic \u001b[32m'run_viz'\u001b[0m                                        \u001b]8;id=556909;file:///Users/kpt/.pyenv/versions/3.10.13/envs/kedro-env/lib/python3.10/site-packages/kedro/ipython/__init__.py\u001b\\\u001b[2m__init__.py\u001b[0m\u001b]8;;\u001b\\\u001b[2m:\u001b[0m\u001b]8;id=390319;file:///Users/kpt/.pyenv/versions/3.10.13/envs/kedro-env/lib/python3.10/site-packages/kedro/ipython/__init__.py#115\u001b\\\u001b[2m115\u001b[0m\u001b]8;;\u001b\\\n"
      ]
     },
     "metadata": {},
     "output_type": "display_data"
    }
   ],
   "source": [
    "# import os\n",
    "import numpy as np\n",
    "import pandas as pd\n",
    "import matplotlib.pyplot as plt\n",
    "from scipy.signal import find_peaks\n",
    "\n",
    "import torch\n",
    "import torch.nn as nn\n",
    "import torchvision\n",
    "import torchvision.transforms as transforms\n",
    "import yaml\n",
    "\n",
    "from typing import Dict\n",
    "from sklearn.model_selection import train_test_split\n",
    "from sklearn.preprocessing import StandardScaler\n",
    "from torch.utils.data import TensorDataset, DataLoader\n",
    "\n",
    "%load_ext kedro.ipython\n",
    "device = torch.device('mps')"
   ]
  },
  {
   "cell_type": "code",
   "execution_count": 6,
   "metadata": {},
   "outputs": [
    {
     "data": {
      "text/html": [
       "<pre style=\"white-space:pre;overflow-x:auto;line-height:normal;font-family:Menlo,'DejaVu Sans Mono',consolas,'Courier New',monospace\"><span style=\"color: #7fbfbf; text-decoration-color: #7fbfbf\">[01/03/24 19:23:33] </span><span style=\"color: #000080; text-decoration-color: #000080\">INFO    </span> Loading data from <span style=\"color: #008000; text-decoration-color: #008000\">'model_input_table'</span> <span style=\"font-weight: bold\">(</span>CSVDataset<span style=\"font-weight: bold\">)</span><span style=\"color: #808000; text-decoration-color: #808000\">...</span>              <a href=\"file:///Users/kpt/.pyenv/versions/3.10.13/envs/kedro-env/lib/python3.10/site-packages/kedro/io/data_catalog.py\" target=\"_blank\"><span style=\"color: #7f7f7f; text-decoration-color: #7f7f7f\">data_catalog.py</span></a><span style=\"color: #7f7f7f; text-decoration-color: #7f7f7f\">:</span><a href=\"file:///Users/kpt/.pyenv/versions/3.10.13/envs/kedro-env/lib/python3.10/site-packages/kedro/io/data_catalog.py#502\" target=\"_blank\"><span style=\"color: #7f7f7f; text-decoration-color: #7f7f7f\">502</span></a>\n",
       "</pre>\n"
      ],
      "text/plain": [
       "\u001b[2;36m[01/03/24 19:23:33]\u001b[0m\u001b[2;36m \u001b[0m\u001b[34mINFO    \u001b[0m Loading data from \u001b[32m'model_input_table'\u001b[0m \u001b[1m(\u001b[0mCSVDataset\u001b[1m)\u001b[0m\u001b[33m...\u001b[0m              \u001b]8;id=494998;file:///Users/kpt/.pyenv/versions/3.10.13/envs/kedro-env/lib/python3.10/site-packages/kedro/io/data_catalog.py\u001b\\\u001b[2mdata_catalog.py\u001b[0m\u001b]8;;\u001b\\\u001b[2m:\u001b[0m\u001b]8;id=7921;file:///Users/kpt/.pyenv/versions/3.10.13/envs/kedro-env/lib/python3.10/site-packages/kedro/io/data_catalog.py#502\u001b\\\u001b[2m502\u001b[0m\u001b]8;;\u001b\\\n"
      ]
     },
     "metadata": {},
     "output_type": "display_data"
    },
    {
     "data": {
      "text/html": [
       "<pre style=\"white-space:pre;overflow-x:auto;line-height:normal;font-family:Menlo,'DejaVu Sans Mono',consolas,'Courier New',monospace\"></pre>\n"
      ],
      "text/plain": []
     },
     "metadata": {},
     "output_type": "display_data"
    },
    {
     "data": {
      "text/html": [
       "<div>\n",
       "<style scoped>\n",
       "    .dataframe tbody tr th:only-of-type {\n",
       "        vertical-align: middle;\n",
       "    }\n",
       "\n",
       "    .dataframe tbody tr th {\n",
       "        vertical-align: top;\n",
       "    }\n",
       "\n",
       "    .dataframe thead th {\n",
       "        text-align: right;\n",
       "    }\n",
       "</style>\n",
       "<table border=\"1\" class=\"dataframe\">\n",
       "  <thead>\n",
       "    <tr style=\"text-align: right;\">\n",
       "      <th></th>\n",
       "      <th>bin_0</th>\n",
       "      <th>bin_1</th>\n",
       "      <th>bin_2</th>\n",
       "      <th>bin_3</th>\n",
       "      <th>bin_4</th>\n",
       "      <th>bin_5</th>\n",
       "      <th>bin_6</th>\n",
       "      <th>bin_7</th>\n",
       "      <th>bin_8</th>\n",
       "      <th>bin_9</th>\n",
       "      <th>...</th>\n",
       "      <th>bin_141</th>\n",
       "      <th>bin_142</th>\n",
       "      <th>bin_143</th>\n",
       "      <th>bin_144</th>\n",
       "      <th>bin_145</th>\n",
       "      <th>bin_146</th>\n",
       "      <th>bin_147</th>\n",
       "      <th>bin_148</th>\n",
       "      <th>bin_149</th>\n",
       "      <th>res_ratio</th>\n",
       "    </tr>\n",
       "  </thead>\n",
       "  <tbody>\n",
       "    <tr>\n",
       "      <th>0</th>\n",
       "      <td>984.333333</td>\n",
       "      <td>984.0</td>\n",
       "      <td>983.333333</td>\n",
       "      <td>984.0</td>\n",
       "      <td>984.333333</td>\n",
       "      <td>982.0</td>\n",
       "      <td>983.500000</td>\n",
       "      <td>984.000000</td>\n",
       "      <td>983.5</td>\n",
       "      <td>982.000000</td>\n",
       "      <td>...</td>\n",
       "      <td>956.333333</td>\n",
       "      <td>959.0</td>\n",
       "      <td>957.333333</td>\n",
       "      <td>957.500000</td>\n",
       "      <td>957.666667</td>\n",
       "      <td>958.000000</td>\n",
       "      <td>959.5</td>\n",
       "      <td>960.000000</td>\n",
       "      <td>960.000000</td>\n",
       "      <td>1.451877</td>\n",
       "    </tr>\n",
       "    <tr>\n",
       "      <th>1</th>\n",
       "      <td>987.666667</td>\n",
       "      <td>987.0</td>\n",
       "      <td>986.666667</td>\n",
       "      <td>986.0</td>\n",
       "      <td>984.666667</td>\n",
       "      <td>986.5</td>\n",
       "      <td>985.333333</td>\n",
       "      <td>983.000000</td>\n",
       "      <td>985.0</td>\n",
       "      <td>985.000000</td>\n",
       "      <td>...</td>\n",
       "      <td>954.000000</td>\n",
       "      <td>955.0</td>\n",
       "      <td>953.666667</td>\n",
       "      <td>955.500000</td>\n",
       "      <td>954.666667</td>\n",
       "      <td>954.500000</td>\n",
       "      <td>955.0</td>\n",
       "      <td>953.333333</td>\n",
       "      <td>953.000000</td>\n",
       "      <td>1.344259</td>\n",
       "    </tr>\n",
       "    <tr>\n",
       "      <th>2</th>\n",
       "      <td>975.666667</td>\n",
       "      <td>973.5</td>\n",
       "      <td>975.666667</td>\n",
       "      <td>975.0</td>\n",
       "      <td>974.333333</td>\n",
       "      <td>974.5</td>\n",
       "      <td>974.000000</td>\n",
       "      <td>973.666667</td>\n",
       "      <td>973.5</td>\n",
       "      <td>972.666667</td>\n",
       "      <td>...</td>\n",
       "      <td>948.666667</td>\n",
       "      <td>948.5</td>\n",
       "      <td>947.000000</td>\n",
       "      <td>946.666667</td>\n",
       "      <td>948.000000</td>\n",
       "      <td>947.333333</td>\n",
       "      <td>947.0</td>\n",
       "      <td>946.000000</td>\n",
       "      <td>946.666667</td>\n",
       "      <td>1.337048</td>\n",
       "    </tr>\n",
       "    <tr>\n",
       "      <th>3</th>\n",
       "      <td>977.666667</td>\n",
       "      <td>977.5</td>\n",
       "      <td>978.000000</td>\n",
       "      <td>977.0</td>\n",
       "      <td>976.333333</td>\n",
       "      <td>976.5</td>\n",
       "      <td>976.666667</td>\n",
       "      <td>976.500000</td>\n",
       "      <td>976.0</td>\n",
       "      <td>975.000000</td>\n",
       "      <td>...</td>\n",
       "      <td>942.000000</td>\n",
       "      <td>942.0</td>\n",
       "      <td>943.000000</td>\n",
       "      <td>941.500000</td>\n",
       "      <td>941.500000</td>\n",
       "      <td>942.000000</td>\n",
       "      <td>942.0</td>\n",
       "      <td>943.000000</td>\n",
       "      <td>943.000000</td>\n",
       "      <td>1.341596</td>\n",
       "    </tr>\n",
       "    <tr>\n",
       "      <th>4</th>\n",
       "      <td>971.000000</td>\n",
       "      <td>970.5</td>\n",
       "      <td>971.000000</td>\n",
       "      <td>970.0</td>\n",
       "      <td>971.000000</td>\n",
       "      <td>970.0</td>\n",
       "      <td>970.000000</td>\n",
       "      <td>970.000000</td>\n",
       "      <td>969.0</td>\n",
       "      <td>968.666667</td>\n",
       "      <td>...</td>\n",
       "      <td>939.500000</td>\n",
       "      <td>941.0</td>\n",
       "      <td>941.000000</td>\n",
       "      <td>940.000000</td>\n",
       "      <td>940.666667</td>\n",
       "      <td>940.000000</td>\n",
       "      <td>940.0</td>\n",
       "      <td>940.500000</td>\n",
       "      <td>941.000000</td>\n",
       "      <td>1.345378</td>\n",
       "    </tr>\n",
       "  </tbody>\n",
       "</table>\n",
       "<p>5 rows × 151 columns</p>\n",
       "</div>"
      ],
      "text/plain": [
       "\n",
       "        bin_0  bin_1       bin_2  bin_3       bin_4  bin_5       bin_6  \\\n",
       "\u001b[1;36m0\u001b[0m  \u001b[1;36m984.333333\u001b[0m  \u001b[1;36m984.0\u001b[0m  \u001b[1;36m983.333333\u001b[0m  \u001b[1;36m984.0\u001b[0m  \u001b[1;36m984.333333\u001b[0m  \u001b[1;36m982.0\u001b[0m  \u001b[1;36m983.500000\u001b[0m   \n",
       "\u001b[1;36m1\u001b[0m  \u001b[1;36m987.666667\u001b[0m  \u001b[1;36m987.0\u001b[0m  \u001b[1;36m986.666667\u001b[0m  \u001b[1;36m986.0\u001b[0m  \u001b[1;36m984.666667\u001b[0m  \u001b[1;36m986.5\u001b[0m  \u001b[1;36m985.333333\u001b[0m   \n",
       "\u001b[1;36m2\u001b[0m  \u001b[1;36m975.666667\u001b[0m  \u001b[1;36m973.5\u001b[0m  \u001b[1;36m975.666667\u001b[0m  \u001b[1;36m975.0\u001b[0m  \u001b[1;36m974.333333\u001b[0m  \u001b[1;36m974.5\u001b[0m  \u001b[1;36m974.000000\u001b[0m   \n",
       "\u001b[1;36m3\u001b[0m  \u001b[1;36m977.666667\u001b[0m  \u001b[1;36m977.5\u001b[0m  \u001b[1;36m978.000000\u001b[0m  \u001b[1;36m977.0\u001b[0m  \u001b[1;36m976.333333\u001b[0m  \u001b[1;36m976.5\u001b[0m  \u001b[1;36m976.666667\u001b[0m   \n",
       "\u001b[1;36m4\u001b[0m  \u001b[1;36m971.000000\u001b[0m  \u001b[1;36m970.5\u001b[0m  \u001b[1;36m971.000000\u001b[0m  \u001b[1;36m970.0\u001b[0m  \u001b[1;36m971.000000\u001b[0m  \u001b[1;36m970.0\u001b[0m  \u001b[1;36m970.000000\u001b[0m   \n",
       "\n",
       "        bin_7  bin_8       bin_9  \u001b[33m...\u001b[0m     bin_141  bin_142     bin_143  \\\n",
       "\u001b[1;36m0\u001b[0m  \u001b[1;36m984.000000\u001b[0m  \u001b[1;36m983.5\u001b[0m  \u001b[1;36m982.000000\u001b[0m  \u001b[33m...\u001b[0m  \u001b[1;36m956.333333\u001b[0m    \u001b[1;36m959.0\u001b[0m  \u001b[1;36m957.333333\u001b[0m   \n",
       "\u001b[1;36m1\u001b[0m  \u001b[1;36m983.000000\u001b[0m  \u001b[1;36m985.0\u001b[0m  \u001b[1;36m985.000000\u001b[0m  \u001b[33m...\u001b[0m  \u001b[1;36m954.000000\u001b[0m    \u001b[1;36m955.0\u001b[0m  \u001b[1;36m953.666667\u001b[0m   \n",
       "\u001b[1;36m2\u001b[0m  \u001b[1;36m973.666667\u001b[0m  \u001b[1;36m973.5\u001b[0m  \u001b[1;36m972.666667\u001b[0m  \u001b[33m...\u001b[0m  \u001b[1;36m948.666667\u001b[0m    \u001b[1;36m948.5\u001b[0m  \u001b[1;36m947.000000\u001b[0m   \n",
       "\u001b[1;36m3\u001b[0m  \u001b[1;36m976.500000\u001b[0m  \u001b[1;36m976.0\u001b[0m  \u001b[1;36m975.000000\u001b[0m  \u001b[33m...\u001b[0m  \u001b[1;36m942.000000\u001b[0m    \u001b[1;36m942.0\u001b[0m  \u001b[1;36m943.000000\u001b[0m   \n",
       "\u001b[1;36m4\u001b[0m  \u001b[1;36m970.000000\u001b[0m  \u001b[1;36m969.0\u001b[0m  \u001b[1;36m968.666667\u001b[0m  \u001b[33m...\u001b[0m  \u001b[1;36m939.500000\u001b[0m    \u001b[1;36m941.0\u001b[0m  \u001b[1;36m941.000000\u001b[0m   \n",
       "\n",
       "      bin_144     bin_145     bin_146  bin_147     bin_148     bin_149  \\\n",
       "\u001b[1;36m0\u001b[0m  \u001b[1;36m957.500000\u001b[0m  \u001b[1;36m957.666667\u001b[0m  \u001b[1;36m958.000000\u001b[0m    \u001b[1;36m959.5\u001b[0m  \u001b[1;36m960.000000\u001b[0m  \u001b[1;36m960.000000\u001b[0m   \n",
       "\u001b[1;36m1\u001b[0m  \u001b[1;36m955.500000\u001b[0m  \u001b[1;36m954.666667\u001b[0m  \u001b[1;36m954.500000\u001b[0m    \u001b[1;36m955.0\u001b[0m  \u001b[1;36m953.333333\u001b[0m  \u001b[1;36m953.000000\u001b[0m   \n",
       "\u001b[1;36m2\u001b[0m  \u001b[1;36m946.666667\u001b[0m  \u001b[1;36m948.000000\u001b[0m  \u001b[1;36m947.333333\u001b[0m    \u001b[1;36m947.0\u001b[0m  \u001b[1;36m946.000000\u001b[0m  \u001b[1;36m946.666667\u001b[0m   \n",
       "\u001b[1;36m3\u001b[0m  \u001b[1;36m941.500000\u001b[0m  \u001b[1;36m941.500000\u001b[0m  \u001b[1;36m942.000000\u001b[0m    \u001b[1;36m942.0\u001b[0m  \u001b[1;36m943.000000\u001b[0m  \u001b[1;36m943.000000\u001b[0m   \n",
       "\u001b[1;36m4\u001b[0m  \u001b[1;36m940.000000\u001b[0m  \u001b[1;36m940.666667\u001b[0m  \u001b[1;36m940.000000\u001b[0m    \u001b[1;36m940.0\u001b[0m  \u001b[1;36m940.500000\u001b[0m  \u001b[1;36m941.000000\u001b[0m   \n",
       "\n",
       "   res_ratio  \n",
       "\u001b[1;36m0\u001b[0m   \u001b[1;36m1.451877\u001b[0m  \n",
       "\u001b[1;36m1\u001b[0m   \u001b[1;36m1.344259\u001b[0m  \n",
       "\u001b[1;36m2\u001b[0m   \u001b[1;36m1.337048\u001b[0m  \n",
       "\u001b[1;36m3\u001b[0m   \u001b[1;36m1.341596\u001b[0m  \n",
       "\u001b[1;36m4\u001b[0m   \u001b[1;36m1.345378\u001b[0m  \n",
       "\n",
       "\u001b[1m[\u001b[0m\u001b[1;36m5\u001b[0m rows x \u001b[1;36m151\u001b[0m columns\u001b[1m]\u001b[0m"
      ]
     },
     "execution_count": 6,
     "metadata": {},
     "output_type": "execute_result"
    }
   ],
   "source": [
    "# Load model input which is already a df\n",
    "\n",
    "model_input = catalog.load(\"model_input_table\")\n",
    "model_input.head()"
   ]
  },
  {
   "cell_type": "code",
   "execution_count": 9,
   "metadata": {},
   "outputs": [
    {
     "data": {
      "text/html": [
       "<pre style=\"white-space:pre;overflow-x:auto;line-height:normal;font-family:Menlo,'DejaVu Sans Mono',consolas,'Courier New',monospace\"></pre>\n"
      ],
      "text/plain": []
     },
     "metadata": {},
     "output_type": "display_data"
    },
    {
     "data": {
      "text/plain": [
       "\n",
       "bin_0          \u001b[1;36m0\u001b[0m\n",
       "bin_1        \u001b[1;36m222\u001b[0m\n",
       "bin_2        \u001b[1;36m243\u001b[0m\n",
       "bin_3        \u001b[1;36m250\u001b[0m\n",
       "bin_4        \u001b[1;36m289\u001b[0m\n",
       "            \u001b[33m...\u001b[0m \n",
       "bin_146      \u001b[1;36m261\u001b[0m\n",
       "bin_147      \u001b[1;36m273\u001b[0m\n",
       "bin_148      \u001b[1;36m248\u001b[0m\n",
       "bin_149      \u001b[1;36m248\u001b[0m\n",
       "res_ratio      \u001b[1;36m0\u001b[0m\n",
       "Length: \u001b[1;36m151\u001b[0m, dtype: int64"
      ]
     },
     "execution_count": 9,
     "metadata": {},
     "output_type": "execute_result"
    }
   ],
   "source": [
    "# check for nan in the data\n",
    "model_input.isna().sum()\n",
    "# model_input.shape"
   ]
  }
 ],
 "metadata": {
  "kernelspec": {
   "display_name": "kedro-env",
   "language": "python",
   "name": "python3"
  },
  "language_info": {
   "codemirror_mode": {
    "name": "ipython",
    "version": 3
   },
   "file_extension": ".py",
   "mimetype": "text/x-python",
   "name": "python",
   "nbconvert_exporter": "python",
   "pygments_lexer": "ipython3",
   "version": "3.10.13"
  }
 },
 "nbformat": 4,
 "nbformat_minor": 2
}
