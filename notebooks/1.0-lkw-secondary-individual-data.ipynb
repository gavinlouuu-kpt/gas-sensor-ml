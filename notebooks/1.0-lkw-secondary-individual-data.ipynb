{
 "cells": [
  {
   "cell_type": "code",
   "execution_count": 41,
   "metadata": {},
   "outputs": [],
   "source": [
    "import os\n",
    "import numpy as np\n",
    "import pandas as pd\n",
    "import matplotlib.pyplot as plt\n",
    "from scipy import integrate"
   ]
  },
  {
   "cell_type": "markdown",
   "metadata": {},
   "source": [
    "Explore individual data set for its preliminary features.\n",
    "1. Rmax\n",
    "2. Rmin\n",
    "3. Resistance Ratio - 1\n",
    "4. KMax\n",
    "5. KMin\n",
    "6. Area under curve\n",
    "7. Time to Rmax"
   ]
  },
  {
   "cell_type": "code",
   "execution_count": 42,
   "metadata": {},
   "outputs": [],
   "source": [
    "# Load data from 104\n",
    "exp_no = 104\n",
    "file_start = 152\n",
    "last_file_no = 383\n",
    "flow_rate = 0.25 #ml/min\n",
    "ace_conc = 0.01 # %by volume in water"
   ]
  },
  {
   "cell_type": "code",
   "execution_count": 25,
   "metadata": {},
   "outputs": [],
   "source": [
    "file_name = str(exp_no)+ '/'+ str(file_start)+\".txt\"\n",
    "file_path = \"../data/interim/\" + file_name\n",
    "df = pd.read_csv(file_path, sep=',' , usecols=['timestamp','relative_time', 'resistance_ohm'])"
   ]
  },
  {
   "cell_type": "code",
   "execution_count": null,
   "metadata": {},
   "outputs": [],
   "source": [
    "# Visualise data plot the resistance_ohm against relative_time\n",
    "plt.figure(figsize=(20,10))\n",
    "plt.plot(df['relative_time'], df['resistance_ohm'])\n",
    "plt.xlabel('relative_time')\n",
    "plt.ylabel('resistance_ohm')\n",
    "plt.title('Resistance vs Time')\n",
    "plt.show()"
   ]
  },
  {
   "cell_type": "code",
   "execution_count": null,
   "metadata": {},
   "outputs": [],
   "source": [
    "# create resistance df\n",
    "resistance = df['resistance_ohm']\n",
    "# search for resistance max and its index\n",
    "resistance_max = resistance.max() \n",
    "resistance_max_index = resistance.idxmax()\n",
    "# search for relative time to resistance max\n",
    "t_max = df['relative_time'][resistance_max_index]\n",
    "# search for resistnace min\n",
    "resistance_min = resistance.min()\n",
    "# calculate resistance ratio\n",
    "resistance_ratio = (resistance_max/resistance_min)-1\n",
    "# Search for maximum and minimum of first derivative of resistance\n",
    "resistance_diff = resistance.diff(periods=100)\n",
    "resistance_diff_max = resistance_diff.max()\n",
    "resistance_diff_min = resistance_diff.min()\n",
    "# Search for area under the curve with resistance and relative time\n",
    "auc = integrate.trapz(resistance, df['relative_time'])\n",
    "\n",
    "# Create a new DataFrame and add the results 1.max resistance 2.min resistance 3.resistance ratio 4.max resistance diff 5.min resistance diff\n",
    "# 6. AUC 7. Time to max resistance 8. flow rate 250ml/min 9. gas concentration 1/1000 acetone by volume\n",
    "df_vector = pd.DataFrame({'resistance_max': [resistance_max], 'resistance_min': [resistance_min], \n",
    "                          'resistance_ratio': [resistance_ratio], 'resistance_diff_max': [resistance_diff_max], \n",
    "                          'resistance_diff_min': [resistance_diff_min], 'AUC': [integrate.trapz(resistance)], \n",
    "                          't_max': [t_max], 'flow_rate': [flow_rate], 'gas_concentration': [ace_conc]})\n",
    "\n"
   ]
  },
  {
   "cell_type": "code",
   "execution_count": 65,
   "metadata": {},
   "outputs": [
    {
     "data": {
      "text/plain": [
       "0    0.296987\n",
       "1    0.297850\n",
       "2    0.296987\n",
       "3    0.296987\n",
       "4    0.296987\n",
       "Name: resistance_ohm, dtype: float64"
      ]
     },
     "execution_count": 65,
     "metadata": {},
     "output_type": "execute_result"
    }
   ],
   "source": [
    "# normalise the resistance\n",
    "resistance = df['resistance_ohm']\n",
    "resistance_normalized = (resistance/resistance.min())-1\n",
    "resistance_normalized.head()"
   ]
  },
  {
   "cell_type": "markdown",
   "metadata": {},
   "source": [
    "<h1> Iterate through all the files in a folder to create a feature matrix<h1>"
   ]
  },
  {
   "cell_type": "code",
   "execution_count": 66,
   "metadata": {},
   "outputs": [
    {
     "name": "stderr",
     "output_type": "stream",
     "text": [
      "/var/folders/mm/nclx10yn5lnb99y4352wnw6w0000gn/T/ipykernel_2251/1517232465.py:34: FutureWarning: The behavior of DataFrame concatenation with empty or all-NA entries is deprecated. In a future version, this will no longer exclude empty or all-NA columns when determining the result dtypes. To retain the old behavior, exclude the relevant entries before the concat operation.\n",
      "  results = pd.concat([results, pd.DataFrame(df_vector)], ignore_index=True)\n"
     ]
    }
   ],
   "source": [
    "# Create an empty DataFrame to store the results\n",
    "results = pd.DataFrame(columns=['file_no', 'resistance_max', 'resistance_min', 'resistance_ratio', 'resistance_diff_max', 'resistance_diff_min', 'AUC', 't_max', 'flow_rate', 'gas_concentration'])\n",
    "\n",
    "# Iterate through all the files in the folder\n",
    "for file_no in range(file_start, last_file_no+1):\n",
    "    # Load the data\n",
    "    file_name = str(exp_no)+ '/'+ str(file_no)+\".txt\"\n",
    "    file_path = \"../data/interim/\" + file_name\n",
    "    df = pd.read_csv(file_path, sep=',' , usecols=['timestamp','relative_time', 'resistance_ohm'])\n",
    "    # Create resistance df\n",
    "    resistance = df['resistance_ohm']\n",
    "    # search for resistance max and its index\n",
    "    resistance_max = resistance.max() \n",
    "    resistance_max_index = resistance.idxmax()\n",
    "    # search for relative time to resistance max\n",
    "    t_max = df['relative_time'][resistance_max_index]\n",
    "    # search for resistnace min\n",
    "    resistance_min = resistance.min()\n",
    "    # calculate resistance ratio\n",
    "    resistance_ratio = (resistance_max/resistance_min)-1\n",
    "    # Search for maximum and minimum of first derivative of resistance\n",
    "    resistance_diff = resistance.diff(periods=100)\n",
    "    resistance_diff_max = resistance_diff.max()\n",
    "    resistance_diff_min = resistance_diff.min()\n",
    "    # Search for area under the curve with resistance_normalized and relative time\n",
    "    resistance_normalized = (resistance/resistance.min())-1\n",
    "    auc = integrate.trapz(resistance_normalized, df['relative_time'])\n",
    "\n",
    "    df_vector = pd.DataFrame({'file_no':[file_no], 'resistance_max': [resistance_max], 'resistance_min': [resistance_min], \n",
    "                          'resistance_ratio': [resistance_ratio], 'resistance_diff_max': [resistance_diff_max], \n",
    "                          'resistance_diff_min': [resistance_diff_min], 'AUC': [integrate.trapz(resistance)], \n",
    "                          't_max': [t_max], 'flow_rate': [flow_rate], 'gas_concentration': [ace_conc]})\n",
    "\n",
    "    results = pd.concat([results, pd.DataFrame(df_vector)], ignore_index=True)"
   ]
  },
  {
   "cell_type": "code",
   "execution_count": 67,
   "metadata": {},
   "outputs": [
    {
     "data": {
      "text/html": [
       "<div>\n",
       "<style scoped>\n",
       "    .dataframe tbody tr th:only-of-type {\n",
       "        vertical-align: middle;\n",
       "    }\n",
       "\n",
       "    .dataframe tbody tr th {\n",
       "        vertical-align: top;\n",
       "    }\n",
       "\n",
       "    .dataframe thead th {\n",
       "        text-align: right;\n",
       "    }\n",
       "</style>\n",
       "<table border=\"1\" class=\"dataframe\">\n",
       "  <thead>\n",
       "    <tr style=\"text-align: right;\">\n",
       "      <th></th>\n",
       "      <th>file_no</th>\n",
       "      <th>resistance_max</th>\n",
       "      <th>resistance_min</th>\n",
       "      <th>resistance_ratio</th>\n",
       "      <th>resistance_diff_max</th>\n",
       "      <th>resistance_diff_min</th>\n",
       "      <th>AUC</th>\n",
       "      <th>t_max</th>\n",
       "      <th>flow_rate</th>\n",
       "      <th>gas_concentration</th>\n",
       "    </tr>\n",
       "  </thead>\n",
       "  <tbody>\n",
       "    <tr>\n",
       "      <th>0</th>\n",
       "      <td>152</td>\n",
       "      <td>1420926.50</td>\n",
       "      <td>792405.38</td>\n",
       "      <td>0.793181</td>\n",
       "      <td>79618.00</td>\n",
       "      <td>-183841.25</td>\n",
       "      <td>4.376183e+09</td>\n",
       "      <td>14200</td>\n",
       "      <td>0.25</td>\n",
       "      <td>0.01</td>\n",
       "    </tr>\n",
       "    <tr>\n",
       "      <th>1</th>\n",
       "      <td>153</td>\n",
       "      <td>1424699.75</td>\n",
       "      <td>794215.00</td>\n",
       "      <td>0.793846</td>\n",
       "      <td>77191.37</td>\n",
       "      <td>-184639.87</td>\n",
       "      <td>4.378478e+09</td>\n",
       "      <td>15400</td>\n",
       "      <td>0.25</td>\n",
       "      <td>0.01</td>\n",
       "    </tr>\n",
       "    <tr>\n",
       "      <th>2</th>\n",
       "      <td>154</td>\n",
       "      <td>1431028.87</td>\n",
       "      <td>807313.25</td>\n",
       "      <td>0.772582</td>\n",
       "      <td>77115.88</td>\n",
       "      <td>-178913.25</td>\n",
       "      <td>4.411426e+09</td>\n",
       "      <td>16550</td>\n",
       "      <td>0.25</td>\n",
       "      <td>0.01</td>\n",
       "    </tr>\n",
       "    <tr>\n",
       "      <th>3</th>\n",
       "      <td>155</td>\n",
       "      <td>1434212.75</td>\n",
       "      <td>799456.94</td>\n",
       "      <td>0.793984</td>\n",
       "      <td>71194.63</td>\n",
       "      <td>-190535.25</td>\n",
       "      <td>4.412691e+09</td>\n",
       "      <td>178599</td>\n",
       "      <td>0.25</td>\n",
       "      <td>0.01</td>\n",
       "    </tr>\n",
       "    <tr>\n",
       "      <th>4</th>\n",
       "      <td>156</td>\n",
       "      <td>1437409.12</td>\n",
       "      <td>809648.69</td>\n",
       "      <td>0.775349</td>\n",
       "      <td>78374.75</td>\n",
       "      <td>-180714.93</td>\n",
       "      <td>4.432979e+09</td>\n",
       "      <td>179099</td>\n",
       "      <td>0.25</td>\n",
       "      <td>0.01</td>\n",
       "    </tr>\n",
       "  </tbody>\n",
       "</table>\n",
       "</div>"
      ],
      "text/plain": [
       "  file_no  resistance_max  resistance_min  resistance_ratio  \\\n",
       "0     152      1420926.50       792405.38          0.793181   \n",
       "1     153      1424699.75       794215.00          0.793846   \n",
       "2     154      1431028.87       807313.25          0.772582   \n",
       "3     155      1434212.75       799456.94          0.793984   \n",
       "4     156      1437409.12       809648.69          0.775349   \n",
       "\n",
       "   resistance_diff_max  resistance_diff_min           AUC   t_max  flow_rate  \\\n",
       "0             79618.00           -183841.25  4.376183e+09   14200       0.25   \n",
       "1             77191.37           -184639.87  4.378478e+09   15400       0.25   \n",
       "2             77115.88           -178913.25  4.411426e+09   16550       0.25   \n",
       "3             71194.63           -190535.25  4.412691e+09  178599       0.25   \n",
       "4             78374.75           -180714.93  4.432979e+09  179099       0.25   \n",
       "\n",
       "   gas_concentration  \n",
       "0               0.01  \n",
       "1               0.01  \n",
       "2               0.01  \n",
       "3               0.01  \n",
       "4               0.01  "
      ]
     },
     "execution_count": 67,
     "metadata": {},
     "output_type": "execute_result"
    }
   ],
   "source": [
    "results.head()"
   ]
  },
  {
   "cell_type": "code",
   "execution_count": 68,
   "metadata": {},
   "outputs": [],
   "source": [
    "# write result to a file called feature_matriax.csv in the processed folder\n",
    "results.to_csv(\"../data/processed/104_feature_matrix.csv\", sep=',', index=False)\n"
   ]
  }
 ],
 "metadata": {
  "kernelspec": {
   "display_name": "gs-data-ml",
   "language": "python",
   "name": "gs-data-ml"
  },
  "language_info": {
   "codemirror_mode": {
    "name": "ipython",
    "version": 3
   },
   "file_extension": ".py",
   "mimetype": "text/x-python",
   "name": "python",
   "nbconvert_exporter": "python",
   "pygments_lexer": "ipython3",
   "version": "3.10.2"
  }
 },
 "nbformat": 4,
 "nbformat_minor": 2
}
